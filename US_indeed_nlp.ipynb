{
 "cells": [
  {
   "cell_type": "code",
   "execution_count": 1,
   "metadata": {},
   "outputs": [
    {
     "name": "stderr",
     "output_type": "stream",
     "text": [
      "Using TensorFlow backend.\n"
     ]
    }
   ],
   "source": [
    "# Import core\n",
    "import pandas as pd\n",
    "import numpy as np\n",
    "from numpy import array\n",
    "import matplotlib.pyplot as plt \n",
    "import re\n",
    "import gc\n",
    "import string\n",
    "from IPython.core.interactiveshell import InteractiveShell\n",
    "\n",
    "# Import custom\n",
    "from datetime import datetime, timedelta\n",
    "#from plotnine import *\n",
    "from pandas.api.types import CategoricalDtype\n",
    "#from plotnine.data import mpg\n",
    "#%matplotlib inline\n",
    "\n",
    "# Import NLTK related\n",
    "import nltk\n",
    "from nltk.tokenize import sent_tokenize, word_tokenize\n",
    "from nltk import ne_chunk, pos_tag\n",
    "from nltk.corpus import stopwords\n",
    "from nltk.probability import FreqDist\n",
    "from nltk.util import ngrams\n",
    "\n",
    "# Import visualization\n",
    "import seaborn as sns\n",
    "import plotly.graph_objs as go\n",
    "import plotly.figure_factory as ff\n",
    "from plotly.offline import iplot\n",
    "import chart_studio.plotly.plotly as py\n",
    "import cufflinks\n",
    "\n",
    "# Import keras\n",
    "from keras.models import Sequential\n",
    "from keras import layers\n",
    "from keras.preprocessing.text import one_hot\n",
    "from keras.preprocessing.sequence import pad_sequences\n",
    "from keras.models import Sequential\n",
    "from keras.layers import Dense, Flatten, Activation, Embedding, LSTM, SpatialDropout1D, Dropout\n",
    "#from keras.layers.embeddings import Embedding\n",
    "from keras.preprocessing.text import Tokenizer\n",
    "from keras.utils.np_utils import to_categorical\n",
    "from keras.callbacks import EarlyStopping\n",
    "\n",
    "# Import web-related\n",
    "from bs4 import BeautifulSoup\n",
    "\n",
    "# Import sklearn\n",
    "from sklearn.model_selection import train_test_split\n",
    "from sklearn.metrics import confusion_matrix"
   ]
  },
  {
   "cell_type": "code",
   "execution_count": 2,
   "metadata": {},
   "outputs": [
    {
     "data": {
      "text/plain": [
       "svmem(total=17179869184, available=4971630592, percent=71.1, used=9453203456, free=33591296, active=4934529024, inactive=4911898624, wired=4518674432)"
      ]
     },
     "execution_count": 2,
     "metadata": {},
     "output_type": "execute_result"
    }
   ],
   "source": [
    "import psutil\n",
    "psutil.virtual_memory()"
   ]
  },
  {
   "cell_type": "markdown",
   "metadata": {},
   "source": [
    "# Definitions"
   ]
  },
  {
   "cell_type": "code",
   "execution_count": null,
   "metadata": {},
   "outputs": [],
   "source": [
    "# Remove digits from location data so we have \"City, State\" format\n",
    "def remove_digits(df):\n",
    "    \"\"\"Remove digits from location\"\"\"\n",
    "    df[\"Location_Clean\"] = df[\"Location\"].replace(to_replace = r'\\d', value='', regex=True).str.rstrip()\n",
    "    \n",
    "    return df\n",
    "\n",
    "\n",
    "# Create a day index which will be used to calcultate when the job was posted\n",
    "def day_index(df):\n",
    "    \"\"\"Create a day index that represents how long ago the job was posted \"\"\"\n",
    "    \n",
    "    df_dummy = pd.DataFrame()\n",
    "    df_dummy[\"Day Index\"] = df[\"Date\"].str.split(\" \", expand=True).get(0)\n",
    "    df[\"Day Index\"] = df_dummy[\"Day Index\"].apply(lambda x: 0 if (x == 'Just' or x == 'Today') else x)\n",
    "    \n",
    "    return df\n",
    "\n",
    "# Create variables representing the week date range and week index in which the job was posted\n",
    "def week_posted(df):\n",
    "    \"\"\"Create a variable representing the week in which the job was posted\"\"\"\n",
    "    conditions_date = [\n",
    "        (df['Date Posted'] >= datetime(2020, 3, 4)) & (df['Date Posted'] <= datetime(2020, 3, 7)),\n",
    "        (df['Date Posted'] >= datetime(2020, 3, 8)) & (df['Date Posted'] <= datetime(2020, 3, 14)),\n",
    "        (df['Date Posted'] >= datetime(2020, 3, 15)) & (df['Date Posted'] <= datetime(2020, 3, 21)),\n",
    "        (df['Date Posted'] >= datetime(2020, 3, 22)) & (df['Date Posted'] <= datetime(2020, 3, 28)),\n",
    "        (df['Date Posted'] >= datetime(2020, 3, 29)) & (df['Date Posted'] <= datetime(2020, 4, 4)),\n",
    "        (df['Date Posted'] >= datetime(2020, 4, 5)) & (df['Date Posted'] <= datetime(2020, 4, 11)),\n",
    "        (df['Date Posted'] >= datetime(2020, 4, 12)) & (df['Date Posted'] <= datetime(2020, 4, 18))]\n",
    "    \n",
    "    conditions_index = [\n",
    "        (df['Date Posted'] >= datetime(2020, 3, 4)) & (df['Date Posted'] <= datetime(2020, 3, 7)),\n",
    "        (df['Date Posted'] >= datetime(2020, 3, 8)) & (df['Date Posted'] <= datetime(2020, 3, 14)),\n",
    "        (df['Date Posted'] >= datetime(2020, 3, 15)) & (df['Date Posted'] <= datetime(2020, 3, 21)),\n",
    "        (df['Date Posted'] >= datetime(2020, 3, 22)) & (df['Date Posted'] <= datetime(2020, 3, 28)),\n",
    "        (df['Date Posted'] >= datetime(2020, 3, 29)) & (df['Date Posted'] <= datetime(2020, 4, 4)),\n",
    "        (df['Date Posted'] >= datetime(2020, 4, 5)) & (df['Date Posted'] <= datetime(2020, 4, 11)),\n",
    "        (df['Date Posted'] >= datetime(2020, 4, 12)) & (df['Date Posted'] <= datetime(2020, 4, 18))]\n",
    "    \n",
    "    \n",
    "    \n",
    "    choices_date = ['Mar 1 - Mar 7','Mar 8 - Mar 14', 'Mar 15 - Mar 21', 'Mar 22 - Mar 28', 'Mar 29 - Apr 4', 'Apr 5 - Apr 11', 'Apr 12 - Apr 18']\n",
    "    choices_index = [0, 1, 2, 3, 4, 5, 6]\n",
    "\n",
    "    df['Week Posted'] = np.select(conditions_date, choices_date)\n",
    "    df['Week Index'] = np.select(conditions_index, choices_index)\n",
    "    return df\n"
   ]
  },
  {
   "cell_type": "markdown",
   "metadata": {},
   "source": [
    "## Import merged dataset"
   ]
  },
  {
   "cell_type": "code",
   "execution_count": null,
   "metadata": {},
   "outputs": [],
   "source": [
    "df_usa = pd.read_csv('df_usa_april_week3_merged_no30days.csv')\n",
    "\n",
    "df_usa['As of Date'] = pd.to_datetime(df_usa['As of Date'])\n",
    "df_usa['Date Posted'] = pd.to_datetime(df_usa['Date Posted'])\n",
    "\n",
    "df_usa.head()\n",
    "#df_usa.pipe(week_posted).head()"
   ]
  },
  {
   "cell_type": "markdown",
   "metadata": {},
   "source": [
    "## NLP on Job Description"
   ]
  },
  {
   "cell_type": "code",
   "execution_count": null,
   "metadata": {},
   "outputs": [],
   "source": [
    "### 5 - Description\n",
    "#sents = sent_tokenize(df1[\"Description\"][1])\n",
    "#words = word_tokenize(df1[\"Description\"][1])"
   ]
  },
  {
   "cell_type": "code",
   "execution_count": null,
   "metadata": {},
   "outputs": [],
   "source": [
    "def lower_tokens(df):\n",
    "    \"\"\"Convert descriptions to lower case and then tokenize them\"\"\"\n",
    "    description_lower = df[\"Description\"].apply(lambda x: x.lower())\n",
    "    df[\"Tokens\"] = description_lower.apply(lambda x: nltk.word_tokenize(x))    \n",
    "    return df\n",
    "\n",
    "def sentence(df):\n",
    "    description_lower = df[\"Description\"].apply(lambda x: x.lower())\n",
    "    df[\"Sentence\"] = description_lower.apply(lambda x: sent_tokenize(x))\n",
    "    return df"
   ]
  },
  {
   "cell_type": "code",
   "execution_count": null,
   "metadata": {},
   "outputs": [],
   "source": [
    "# Takes about Duration: 0:00:59.713260\n",
    "df_usa.pipe(lower_tokens).head(1)"
   ]
  },
  {
   "cell_type": "code",
   "execution_count": null,
   "metadata": {},
   "outputs": [],
   "source": [
    "# Takes about Duration: 0:00:15\n",
    "df_usa.pipe(sentence).head(1)"
   ]
  },
  {
   "cell_type": "code",
   "execution_count": null,
   "metadata": {},
   "outputs": [],
   "source": [
    "skills_df = df_usa.filter(items=[\"Title\", \"Location\", \"Company\", \"Industry\", \"Sentence\", \"Description\"])\n",
    "skills_df.head(1)"
   ]
  },
  {
   "cell_type": "code",
   "execution_count": null,
   "metadata": {},
   "outputs": [],
   "source": [
    "skills_df[\"sent_skills\"] = \"\"\n",
    "\n",
    "for i in skills_df.index:\n",
    "    sentence = skills_df[\"Sentence\"][i]\n",
    "    \n",
    "    for line in sentence:\n",
    "        skills = []\n",
    "        if \"skills\" in line:\n",
    "            skills.append(line)\n",
    "            skills_df[\"sent_skills\"][i] = ' '.join(map(str, skills))\n",
    "        \n",
    "skills_df.head(1)"
   ]
  },
  {
   "cell_type": "code",
   "execution_count": null,
   "metadata": {},
   "outputs": [],
   "source": [
    "def lower_tokens(df):\n",
    "    \"\"\"Convert descriptions to lower case and then tokenize them\"\"\"\n",
    "    df[\"Tokens\"] = skills_df[\"sent_skills\"].apply(lambda x: nltk.word_tokenize(x))\n",
    "    \n",
    "    return df"
   ]
  },
  {
   "cell_type": "code",
   "execution_count": null,
   "metadata": {
    "scrolled": false
   },
   "outputs": [],
   "source": [
    "skills_df.pipe(lower_tokens).head(1)"
   ]
  },
  {
   "cell_type": "code",
   "execution_count": null,
   "metadata": {},
   "outputs": [],
   "source": [
    "punctuation = string.punctuation \n",
    "punctuation"
   ]
  },
  {
   "cell_type": "code",
   "execution_count": null,
   "metadata": {},
   "outputs": [],
   "source": [
    "start_time = datetime.now()\n",
    "\n",
    "stop_words=set(stopwords.words('english'))\n",
    "\n",
    "skills_df[\"Tokens_wo_stop\"] = \"\"\n",
    "\n",
    "for i in skills_df.index:\n",
    "    filtered_sent = []\n",
    "    for w in skills_df[\"Tokens\"][i]:        \n",
    "        if w not in stop_words:\n",
    "            filtered_sent.append(w)\n",
    "            skills_df[\"Tokens_wo_stop\"][i] = filtered_sent\n",
    "            \n",
    "end_time = datetime.now()\n",
    "print('Duration: {}'.format(end_time - start_time))"
   ]
  },
  {
   "cell_type": "code",
   "execution_count": null,
   "metadata": {},
   "outputs": [],
   "source": [
    "def skills_tokens (df):\n",
    "    total_skills = total_skills + df[\"Tokens_wo_stop\"]\n",
    "    return total_skills"
   ]
  },
  {
   "cell_type": "code",
   "execution_count": null,
   "metadata": {},
   "outputs": [],
   "source": [
    "statistics=['statistical models','statistical modeling','probability','normal distribution','poisson distribution',\n",
    "            'survival models','hypothesis testing','bayesian testing','factor analysis','forecasting',\n",
    "           'markov chain','monte carlo']\n",
    "\n",
    "machine_learning=['machine learning', 'regression', 'classification', 'clustering', 'logistic', 'K means', 'random forest', 'xgboost', 'svm', \n",
    "                 'naive bayes', 'pca', 'decision trees', 'svd', 'ensemble models', 'boltzman machine']\n",
    "\n",
    "data_engineering=['aws', 'ec2','spark','s3','docker','kubernetes','scala','teradata','google big query',\n",
    "                  'hive','hadoop','sql']\n",
    "\n",
    "deep_learning=['neural', 'keras','theano','face detection','convolutional','object detection','yolo','gpu','cuda',\n",
    "                  'tensorflow','lstm','gan', 'opencv']\n",
    "\n",
    "r_language=['r', 'ggplot','shiny','cran','dplyr','tidyr','lubridate','knitr']\n",
    "            \n",
    "python_language=['python', 'flask','django','pandas','numpy','skitlearn','sklearn','matplotlib',\n",
    "                'scipy', 'bokeh','statsmodel']\n",
    "\n",
    "nlp=['nlp', 'lda','lsi','spacy','nltk']\n",
    "            "
   ]
  },
  {
   "cell_type": "markdown",
   "metadata": {},
   "source": [
    "# Start the new model from here. Work only with datascience jobs"
   ]
  },
  {
   "cell_type": "code",
   "execution_count": null,
   "metadata": {
    "scrolled": true
   },
   "outputs": [],
   "source": [
    "df_ds = df_usa.copy()[df_usa[\"Industry\"] == \"Datascience\"]\n",
    "df_ds.head(1)"
   ]
  },
  {
   "cell_type": "code",
   "execution_count": null,
   "metadata": {},
   "outputs": [],
   "source": [
    "## Functions\n",
    "\n",
    "punctuation = '!\"#$%\\'()*,-:;<=>?@[\\\\]^_`{|}~'\n",
    "\n",
    "def sentence(df, target_column):\n",
    "    description_clean = df[target_column].apply(lambda x: x.replace(\"\\n\", \" \"))\n",
    "    description_lower = description_clean.apply(lambda x: x.lower())\n",
    "    description_lower_no_punctuation = description_lower.apply(lambda x: x.translate(str.maketrans('', '', punctuation)))\n",
    "    df[\"Sentence\"] = description_lower_no_punctuation.apply(lambda x: sent_tokenize(x))\n",
    "    return df"
   ]
  },
  {
   "cell_type": "code",
   "execution_count": null,
   "metadata": {},
   "outputs": [],
   "source": [
    "df_ds.pipe(sentence(df_ds, \"Description\")).head(1)"
   ]
  },
  {
   "cell_type": "markdown",
   "metadata": {},
   "source": [
    "## Chunk each sentence"
   ]
  },
  {
   "cell_type": "code",
   "execution_count": null,
   "metadata": {},
   "outputs": [],
   "source": [
    "tokenized = []\n",
    "for i in df_ds.index:\n",
    "    tokenized = tokenized + df_ds.Sentence[i]\n",
    "    \n",
    "tokenized[0]"
   ]
  },
  {
   "cell_type": "code",
   "execution_count": null,
   "metadata": {},
   "outputs": [],
   "source": [
    "chunking_list = []\n",
    "def chunking():\n",
    "    \n",
    "    start_time = datetime.now()\n",
    "        \n",
    "    try:\n",
    "        for i in tokenized:\n",
    "            words = nltk.word_tokenize(i)\n",
    "            tagged = nltk.pos_tag(words)\n",
    "            \n",
    "            chunkGram = r\"\"\"Chunk: {<NN.*>+}\"\"\"\n",
    "            \n",
    "            chunkParser = nltk.RegexpParser(chunkGram)\n",
    "            chunked = chunkParser.parse(tagged)\n",
    "            for subtree in chunked.subtrees():\n",
    "                if subtree.label() == 'Chunk': \n",
    "                    chunking_list.append(subtree)\n",
    "                    #print(subtree)\n",
    "                    \n",
    "    except Exception as e:\n",
    "        print(str(e))\n",
    "\n",
    "    end_time = datetime.now()\n",
    "    print('Duration: {}'.format(end_time - start_time))\n",
    "        \n",
    "chunking()"
   ]
  },
  {
   "cell_type": "code",
   "execution_count": null,
   "metadata": {},
   "outputs": [],
   "source": [
    "df_chunk = pd.DataFrame(chunking_list)\n",
    "print(df_chunk.shape)"
   ]
  },
  {
   "cell_type": "markdown",
   "metadata": {},
   "source": [
    "## Investigate chunk data"
   ]
  },
  {
   "cell_type": "code",
   "execution_count": null,
   "metadata": {},
   "outputs": [],
   "source": [
    "#df_chunk = pd.read_csv(\"datascience_chunks_may16.csv\")\n",
    "df_chunk.head(1)"
   ]
  },
  {
   "cell_type": "code",
   "execution_count": null,
   "metadata": {},
   "outputs": [],
   "source": [
    "df_chunk_v2 = df_chunk.copy()[df_chunk[5].isna() == True]\n",
    "df_chunk_v2.shape"
   ]
  },
  {
   "cell_type": "code",
   "execution_count": null,
   "metadata": {},
   "outputs": [],
   "source": [
    "df_chunk_v2 = df_chunk_v2.drop(columns = [5, 6, 7, 8, 9, 10, 11, 12, 13, 14, 15, 16])\n",
    "df_chunk_v2.head(1)"
   ]
  },
  {
   "cell_type": "code",
   "execution_count": null,
   "metadata": {},
   "outputs": [],
   "source": [
    "def clean_chunk_data(df):\n",
    "        \"\"\"Convert df_chunk variables into correct format\"\"\"\n",
    "        df[\"word_1\"] = df[0].apply(lambda x: '' if x is None else x[0])\n",
    "        df[\"word_2\"] = df[1].apply(lambda x: '' if x is None else x[0])\n",
    "        df[\"word_3\"] = df[2].apply(lambda x: '' if x is None else x[0])\n",
    "        df[\"word_4\"] = df[3].apply(lambda x: '' if x is None else x[0])\n",
    "        df[\"word_5\"] = df[4].apply(lambda x: '' if x is None else x[0])\n",
    "        #df[\"word_6\"] = df[5].apply(lambda x: '' if x is None else x[0])\n",
    "        #df[\"word_7\"] = df[6].apply(lambda x: '' if x is None else x[0])\n",
    "        #df[\"word_8\"] = df[7].apply(lambda x: '' if x is None else x[0])\n",
    "        #df[\"word_9\"] = df[8].apply(lambda x: '' if x is None else x[0])\n",
    "        \n",
    "        df[\"combined_words\"] = df[\"word_1\"] + ' ' + df[\"word_2\"] + ' ' + df[\"word_3\"] + ' ' + df[\"word_4\"] + ' ' + df[\"word_5\"]\n",
    "        df[\"combined_words\"] = df[\"combined_words\"].str.rstrip()\n",
    "        return df "
   ]
  },
  {
   "cell_type": "code",
   "execution_count": null,
   "metadata": {},
   "outputs": [],
   "source": [
    "df_chunk_v2.pipe(clean_chunk_data).head(1)"
   ]
  },
  {
   "cell_type": "code",
   "execution_count": null,
   "metadata": {},
   "outputs": [],
   "source": [
    "df_chunk_no_dups = df_chunk_v2.copy().drop(columns = [0, 1, 2, 3, 4]).drop_duplicates()\n",
    "\n",
    "print(df_chunk_no_dups.shape)"
   ]
  },
  {
   "cell_type": "code",
   "execution_count": null,
   "metadata": {},
   "outputs": [],
   "source": [
    "df_chunk_training_1000 = df_chunk_no_dups.copy().sample(n = 1000) \n",
    "df_chunk_training_1000.shape"
   ]
  },
  {
   "cell_type": "code",
   "execution_count": null,
   "metadata": {},
   "outputs": [],
   "source": [
    "df_chunk_training_1000[:5]"
   ]
  },
  {
   "cell_type": "code",
   "execution_count": null,
   "metadata": {},
   "outputs": [],
   "source": [
    "#df_chunk_training_1000.to_csv(\"df_chunk_unique_part2_may16.csv\")"
   ]
  },
  {
   "cell_type": "markdown",
   "metadata": {},
   "source": [
    "## Import all data science chunks"
   ]
  },
  {
   "cell_type": "code",
   "execution_count": 3,
   "metadata": {},
   "outputs": [
    {
     "data": {
      "text/html": [
       "<div>\n",
       "<style scoped>\n",
       "    .dataframe tbody tr th:only-of-type {\n",
       "        vertical-align: middle;\n",
       "    }\n",
       "\n",
       "    .dataframe tbody tr th {\n",
       "        vertical-align: top;\n",
       "    }\n",
       "\n",
       "    .dataframe thead th {\n",
       "        text-align: right;\n",
       "    }\n",
       "</style>\n",
       "<table border=\"1\" class=\"dataframe\">\n",
       "  <thead>\n",
       "    <tr style=\"text-align: right;\">\n",
       "      <th></th>\n",
       "      <th>combined_words</th>\n",
       "      <th>Technical</th>\n",
       "      <th>Soft</th>\n",
       "    </tr>\n",
       "  </thead>\n",
       "  <tbody>\n",
       "    <tr>\n",
       "      <th>0</th>\n",
       "      <td>business cases experience</td>\n",
       "      <td>0</td>\n",
       "      <td>1</td>\n",
       "    </tr>\n",
       "  </tbody>\n",
       "</table>\n",
       "</div>"
      ],
      "text/plain": [
       "              combined_words  Technical  Soft\n",
       "0  business cases experience          0     1"
      ]
     },
     "execution_count": 3,
     "metadata": {},
     "output_type": "execute_result"
    }
   ],
   "source": [
    "#df_chunk = pd.read_csv(\"datascience_chunks_may16.csv\")\n",
    "\n",
    "df_tagged_chunk_0_to_1000 = pd.read_csv(\"df_chunk_unique_may16_tagged.csv\", usecols = [\"combined_words\", \"Technical\", \"Soft\"])\n",
    "df_tagged_chunk_1001_to_2000 = pd.read_csv(\"df_chunk_unique_part2_may16_tagged.csv\", usecols = [\"combined_words\", \"Technical\", \"Soft\"])\n",
    "df_tagged_chunk = df_tagged_chunk_0_to_1000.append(df_tagged_chunk_1001_to_2000).reset_index().drop(columns = ('index'))\n",
    "\n",
    "df_tagged_chunk.head(1)"
   ]
  },
  {
   "cell_type": "code",
   "execution_count": 4,
   "metadata": {},
   "outputs": [
    {
     "data": {
      "text/html": [
       "<div>\n",
       "<style scoped>\n",
       "    .dataframe tbody tr th:only-of-type {\n",
       "        vertical-align: middle;\n",
       "    }\n",
       "\n",
       "    .dataframe tbody tr th {\n",
       "        vertical-align: top;\n",
       "    }\n",
       "\n",
       "    .dataframe thead th {\n",
       "        text-align: right;\n",
       "    }\n",
       "</style>\n",
       "<table border=\"1\" class=\"dataframe\">\n",
       "  <thead>\n",
       "    <tr style=\"text-align: right;\">\n",
       "      <th></th>\n",
       "      <th>combined_words</th>\n",
       "      <th>Technical</th>\n",
       "      <th>Soft</th>\n",
       "    </tr>\n",
       "  </thead>\n",
       "  <tbody>\n",
       "    <tr>\n",
       "      <th>0</th>\n",
       "      <td>sentiment</td>\n",
       "      <td>1</td>\n",
       "      <td>0</td>\n",
       "    </tr>\n",
       "  </tbody>\n",
       "</table>\n",
       "</div>"
      ],
      "text/plain": [
       "  combined_words  Technical  Soft\n",
       "0      sentiment          1     0"
      ]
     },
     "execution_count": 4,
     "metadata": {},
     "output_type": "execute_result"
    }
   ],
   "source": [
    "df_chunk_tech_1 = df_tagged_chunk[df_tagged_chunk[\"Technical\"] == 1]\n",
    "df_chunk_tech_0 = df_tagged_chunk[df_tagged_chunk[\"Technical\"] == 0].sample(n=598, random_state=1)\n",
    "\n",
    "df_chunk_tech = df_chunk_tech_1.append(df_chunk_tech_0).sample(frac = 1).reset_index(drop = True)\n",
    "df_chunk_tech.head(1)"
   ]
  },
  {
   "cell_type": "code",
   "execution_count": 5,
   "metadata": {},
   "outputs": [
    {
     "data": {
      "text/plain": [
       "(1196, 3)"
      ]
     },
     "execution_count": 5,
     "metadata": {},
     "output_type": "execute_result"
    }
   ],
   "source": [
    "df_chunk_tech.shape"
   ]
  },
  {
   "cell_type": "markdown",
   "metadata": {},
   "source": [
    "# Word embeddings model"
   ]
  },
  {
   "cell_type": "code",
   "execution_count": 6,
   "metadata": {},
   "outputs": [
    {
     "data": {
      "text/plain": [
       "943    boston massachusetts\n",
       "906                  forces\n",
       "Name: combined_words, dtype: object"
      ]
     },
     "execution_count": 6,
     "metadata": {},
     "output_type": "execute_result"
    }
   ],
   "source": [
    "X_train_tech, X_test_tech, y_train_tech, y_test_tech = train_test_split(df_chunk_tech[\"combined_words\"], df_chunk_tech[\"Technical\"], test_size=0.1, random_state=42)\n",
    "X_train_tech.shape\n",
    "X_test_tech.shape\n",
    "X_train_tech[:2]"
   ]
  },
  {
   "cell_type": "code",
   "execution_count": 102,
   "metadata": {},
   "outputs": [
    {
     "data": {
      "text/plain": [
       "[[1235, 839], [909]]"
      ]
     },
     "execution_count": 102,
     "metadata": {},
     "output_type": "execute_result"
    }
   ],
   "source": [
    "#vocab_size = 2000\n",
    "encoded_docs_train_tech = [one_hot(d, vocab_size) for d in X_train_tech]\n",
    "encoded_docs_train_tech[0:2]"
   ]
  },
  {
   "cell_type": "code",
   "execution_count": 103,
   "metadata": {},
   "outputs": [
    {
     "name": "stdout",
     "output_type": "stream",
     "text": [
      "[[1235  839    0    0    0]\n",
      " [ 909    0    0    0    0]\n",
      " [ 668 1236    0    0    0]\n",
      " [ 334  574    0    0    0]\n",
      " [1032 1027    0    0    0]]\n"
     ]
    }
   ],
   "source": [
    "# pad documents to a max length of 4 words\n",
    "max_length = 5\n",
    "padded_docs_train_tech = pad_sequences(encoded_docs_train_tech, maxlen=max_length, padding='post')\n",
    "print(padded_docs_train_tech[:5])"
   ]
  },
  {
   "cell_type": "code",
   "execution_count": 104,
   "metadata": {},
   "outputs": [
    {
     "name": "stdout",
     "output_type": "stream",
     "text": [
      "[[ 738  500 1023    0    0]\n",
      " [1355    0    0    0    0]\n",
      " [1304  527   13    0    0]\n",
      " [1381    0    0    0    0]\n",
      " [ 970  970  339 1175   33]]\n"
     ]
    }
   ],
   "source": [
    "encoded_docs_test_tech = [one_hot(d, vocab_size) for d in X_test_tech]\n",
    "\n",
    "padded_docs_test_tech = pad_sequences(encoded_docs_test_tech, maxlen=max_length, padding='post')\n",
    "print(padded_docs_test_tech[:5])"
   ]
  },
  {
   "cell_type": "code",
   "execution_count": 105,
   "metadata": {},
   "outputs": [],
   "source": [
    "padded_docs_train_tech_df = pd.DataFrame(data=padded_docs_train_tech[0:,0:],    # values\n",
    "             index=range(0,len(padded_docs_train_tech)),    # 1st column as index\n",
    "             columns=range(1,6))\n",
    "\n",
    "padded_docs_test_tech_df = pd.DataFrame(data=padded_docs_test_tech[0:,0:],    # values\n",
    "             index=range(0,len(padded_docs_test_tech)),    # 1st column as index\n",
    "             columns=range(1,6))\n",
    "\n",
    "padded_docs_train_tech_df['combined_words'] = 'test'\n",
    "padded_docs_train_tech_df['original_index'] = 0\n",
    "padded_docs_test_tech_df['combined_words'] = 'test'\n",
    "padded_docs_test_tech_df['original_index'] = 0"
   ]
  },
  {
   "cell_type": "code",
   "execution_count": 106,
   "metadata": {},
   "outputs": [],
   "source": [
    "X_train_tech_df = pd.DataFrame(data=X_train_tech)\n",
    "X_train_tech_df['new_index']=range(0,len(X_train_tech_df.index))\n",
    "X_train_tech_df['original_index']=X_train_tech_df.index\n",
    "X_train_tech_df = X_train_tech_df.set_index('new_index')\n",
    "X_train_tech_df.reset_index\n",
    "X_train_tech_df.index.names = ['index']\n",
    "\n",
    "X_test_tech_df = pd.DataFrame(data=X_test_tech)\n",
    "X_test_tech_df['new_index']=range(0,len(X_test_tech_df.index))\n",
    "X_test_tech_df['original_index']=X_test_tech_df.index\n",
    "X_test_tech_df = X_test_tech_df.set_index('new_index')\n",
    "X_test_tech_df.reset_index\n",
    "X_test_tech_df.index.names = ['index']"
   ]
  },
  {
   "cell_type": "code",
   "execution_count": 107,
   "metadata": {},
   "outputs": [],
   "source": [
    "for i in range(0, len(X_train_tech_df)-1):\n",
    "    padded_docs_train_tech_df['combined_words'][i] = X_train_tech_df['combined_words'][i]\n",
    "    padded_docs_train_tech_df['original_index'][i] = X_train_tech_df['original_index'][i]\n",
    "\n",
    "for i in range(0, len(X_test_tech_df)-1):\n",
    "    padded_docs_test_tech_df['combined_words'][i] = X_test_tech_df['combined_words'][i]\n",
    "    padded_docs_test_tech_df['original_index'][i] = X_test_tech_df['original_index'][i]"
   ]
  },
  {
   "cell_type": "code",
   "execution_count": 108,
   "metadata": {},
   "outputs": [
    {
     "data": {
      "text/plain": [
       "943    boston massachusetts\n",
       "906                  forces\n",
       "451    image classification\n",
       "Name: combined_words, dtype: object"
      ]
     },
     "execution_count": 108,
     "metadata": {},
     "output_type": "execute_result"
    }
   ],
   "source": [
    "X_train_tech.head(3)"
   ]
  },
  {
   "cell_type": "code",
   "execution_count": 109,
   "metadata": {},
   "outputs": [
    {
     "data": {
      "text/html": [
       "<div>\n",
       "<style scoped>\n",
       "    .dataframe tbody tr th:only-of-type {\n",
       "        vertical-align: middle;\n",
       "    }\n",
       "\n",
       "    .dataframe tbody tr th {\n",
       "        vertical-align: top;\n",
       "    }\n",
       "\n",
       "    .dataframe thead th {\n",
       "        text-align: right;\n",
       "    }\n",
       "</style>\n",
       "<table border=\"1\" class=\"dataframe\">\n",
       "  <thead>\n",
       "    <tr style=\"text-align: right;\">\n",
       "      <th></th>\n",
       "      <th>combined_words</th>\n",
       "      <th>Technical</th>\n",
       "      <th>Soft</th>\n",
       "    </tr>\n",
       "  </thead>\n",
       "  <tbody>\n",
       "    <tr>\n",
       "      <th>943</th>\n",
       "      <td>boston massachusetts</td>\n",
       "      <td>0</td>\n",
       "      <td>0</td>\n",
       "    </tr>\n",
       "    <tr>\n",
       "      <th>1033</th>\n",
       "      <td>boston massachusetts</td>\n",
       "      <td>0</td>\n",
       "      <td>0</td>\n",
       "    </tr>\n",
       "  </tbody>\n",
       "</table>\n",
       "</div>"
      ],
      "text/plain": [
       "            combined_words  Technical  Soft\n",
       "943   boston massachusetts          0     0\n",
       "1033  boston massachusetts          0     0"
      ]
     },
     "execution_count": 109,
     "metadata": {},
     "output_type": "execute_result"
    }
   ],
   "source": [
    "df_chunk_tech[df_chunk_tech['combined_words']=='boston massachusetts']"
   ]
  },
  {
   "cell_type": "code",
   "execution_count": 110,
   "metadata": {
    "scrolled": true
   },
   "outputs": [
    {
     "data": {
      "text/html": [
       "<div>\n",
       "<style scoped>\n",
       "    .dataframe tbody tr th:only-of-type {\n",
       "        vertical-align: middle;\n",
       "    }\n",
       "\n",
       "    .dataframe tbody tr th {\n",
       "        vertical-align: top;\n",
       "    }\n",
       "\n",
       "    .dataframe thead th {\n",
       "        text-align: right;\n",
       "    }\n",
       "</style>\n",
       "<table border=\"1\" class=\"dataframe\">\n",
       "  <thead>\n",
       "    <tr style=\"text-align: right;\">\n",
       "      <th></th>\n",
       "      <th>1</th>\n",
       "      <th>2</th>\n",
       "      <th>3</th>\n",
       "      <th>4</th>\n",
       "      <th>5</th>\n",
       "      <th>combined_words</th>\n",
       "      <th>original_index</th>\n",
       "    </tr>\n",
       "  </thead>\n",
       "  <tbody>\n",
       "  </tbody>\n",
       "</table>\n",
       "</div>"
      ],
      "text/plain": [
       "Empty DataFrame\n",
       "Columns: [1, 2, 3, 4, 5, combined_words, original_index]\n",
       "Index: []"
      ]
     },
     "execution_count": 110,
     "metadata": {},
     "output_type": "execute_result"
    }
   ],
   "source": [
    "padded_docs_train_tech_df[padded_docs_train_tech_df[1]==1128]"
   ]
  },
  {
   "cell_type": "code",
   "execution_count": 111,
   "metadata": {},
   "outputs": [
    {
     "data": {
      "text/plain": [
       "'agriscienceâ„¢'"
      ]
     },
     "execution_count": 111,
     "metadata": {},
     "output_type": "execute_result"
    }
   ],
   "source": [
    "X_train_tech[574]"
   ]
  },
  {
   "cell_type": "code",
   "execution_count": 112,
   "metadata": {},
   "outputs": [
    {
     "data": {
      "text/plain": [
       "'sentiment'"
      ]
     },
     "execution_count": 112,
     "metadata": {},
     "output_type": "execute_result"
    }
   ],
   "source": [
    "X_train_tech[0]"
   ]
  },
  {
   "cell_type": "code",
   "execution_count": 113,
   "metadata": {},
   "outputs": [
    {
     "data": {
      "text/html": [
       "<div>\n",
       "<style scoped>\n",
       "    .dataframe tbody tr th:only-of-type {\n",
       "        vertical-align: middle;\n",
       "    }\n",
       "\n",
       "    .dataframe tbody tr th {\n",
       "        vertical-align: top;\n",
       "    }\n",
       "\n",
       "    .dataframe thead th {\n",
       "        text-align: right;\n",
       "    }\n",
       "</style>\n",
       "<table border=\"1\" class=\"dataframe\">\n",
       "  <thead>\n",
       "    <tr style=\"text-align: right;\">\n",
       "      <th></th>\n",
       "      <th>1</th>\n",
       "      <th>2</th>\n",
       "      <th>3</th>\n",
       "      <th>4</th>\n",
       "      <th>5</th>\n",
       "      <th>combined_words</th>\n",
       "      <th>original_index</th>\n",
       "    </tr>\n",
       "  </thead>\n",
       "  <tbody>\n",
       "    <tr>\n",
       "      <th>0</th>\n",
       "      <td>1235</td>\n",
       "      <td>839</td>\n",
       "      <td>0</td>\n",
       "      <td>0</td>\n",
       "      <td>0</td>\n",
       "      <td>boston massachusetts</td>\n",
       "      <td>943</td>\n",
       "    </tr>\n",
       "    <tr>\n",
       "      <th>1</th>\n",
       "      <td>909</td>\n",
       "      <td>0</td>\n",
       "      <td>0</td>\n",
       "      <td>0</td>\n",
       "      <td>0</td>\n",
       "      <td>forces</td>\n",
       "      <td>906</td>\n",
       "    </tr>\n",
       "    <tr>\n",
       "      <th>2</th>\n",
       "      <td>668</td>\n",
       "      <td>1236</td>\n",
       "      <td>0</td>\n",
       "      <td>0</td>\n",
       "      <td>0</td>\n",
       "      <td>image classification</td>\n",
       "      <td>451</td>\n",
       "    </tr>\n",
       "    <tr>\n",
       "      <th>3</th>\n",
       "      <td>334</td>\n",
       "      <td>574</td>\n",
       "      <td>0</td>\n",
       "      <td>0</td>\n",
       "      <td>0</td>\n",
       "      <td>applications tools</td>\n",
       "      <td>260</td>\n",
       "    </tr>\n",
       "    <tr>\n",
       "      <th>4</th>\n",
       "      <td>1032</td>\n",
       "      <td>1027</td>\n",
       "      <td>0</td>\n",
       "      <td>0</td>\n",
       "      <td>0</td>\n",
       "      <td>constraints experience</td>\n",
       "      <td>244</td>\n",
       "    </tr>\n",
       "  </tbody>\n",
       "</table>\n",
       "</div>"
      ],
      "text/plain": [
       "      1     2  3  4  5          combined_words  original_index\n",
       "0  1235   839  0  0  0    boston massachusetts             943\n",
       "1   909     0  0  0  0                  forces             906\n",
       "2   668  1236  0  0  0    image classification             451\n",
       "3   334   574  0  0  0      applications tools             260\n",
       "4  1032  1027  0  0  0  constraints experience             244"
      ]
     },
     "execution_count": 113,
     "metadata": {},
     "output_type": "execute_result"
    }
   ],
   "source": [
    "padded_docs_train_tech_df.head()"
   ]
  },
  {
   "cell_type": "code",
   "execution_count": 114,
   "metadata": {},
   "outputs": [
    {
     "data": {
      "text/html": [
       "<div>\n",
       "<style scoped>\n",
       "    .dataframe tbody tr th:only-of-type {\n",
       "        vertical-align: middle;\n",
       "    }\n",
       "\n",
       "    .dataframe tbody tr th {\n",
       "        vertical-align: top;\n",
       "    }\n",
       "\n",
       "    .dataframe thead th {\n",
       "        text-align: right;\n",
       "    }\n",
       "</style>\n",
       "<table border=\"1\" class=\"dataframe\">\n",
       "  <thead>\n",
       "    <tr style=\"text-align: right;\">\n",
       "      <th></th>\n",
       "      <th>1</th>\n",
       "      <th>2</th>\n",
       "      <th>3</th>\n",
       "      <th>4</th>\n",
       "      <th>5</th>\n",
       "      <th>combined_words</th>\n",
       "      <th>original_index</th>\n",
       "    </tr>\n",
       "  </thead>\n",
       "  <tbody>\n",
       "    <tr>\n",
       "      <th>0</th>\n",
       "      <td>738</td>\n",
       "      <td>500</td>\n",
       "      <td>1023</td>\n",
       "      <td>0</td>\n",
       "      <td>0</td>\n",
       "      <td>support application integration</td>\n",
       "      <td>636</td>\n",
       "    </tr>\n",
       "    <tr>\n",
       "      <th>1</th>\n",
       "      <td>1355</td>\n",
       "      <td>0</td>\n",
       "      <td>0</td>\n",
       "      <td>0</td>\n",
       "      <td>0</td>\n",
       "      <td>confidentiality</td>\n",
       "      <td>243</td>\n",
       "    </tr>\n",
       "    <tr>\n",
       "      <th>2</th>\n",
       "      <td>1304</td>\n",
       "      <td>527</td>\n",
       "      <td>13</td>\n",
       "      <td>0</td>\n",
       "      <td>0</td>\n",
       "      <td>product design enhancements</td>\n",
       "      <td>1013</td>\n",
       "    </tr>\n",
       "    <tr>\n",
       "      <th>3</th>\n",
       "      <td>1381</td>\n",
       "      <td>0</td>\n",
       "      <td>0</td>\n",
       "      <td>0</td>\n",
       "      <td>0</td>\n",
       "      <td>adplatform</td>\n",
       "      <td>1113</td>\n",
       "    </tr>\n",
       "    <tr>\n",
       "      <th>4</th>\n",
       "      <td>970</td>\n",
       "      <td>970</td>\n",
       "      <td>339</td>\n",
       "      <td>1175</td>\n",
       "      <td>33</td>\n",
       "      <td>java c/c++ r javascript/node</td>\n",
       "      <td>58</td>\n",
       "    </tr>\n",
       "  </tbody>\n",
       "</table>\n",
       "</div>"
      ],
      "text/plain": [
       "      1    2     3     4   5                   combined_words  original_index\n",
       "0   738  500  1023     0   0  support application integration             636\n",
       "1  1355    0     0     0   0                  confidentiality             243\n",
       "2  1304  527    13     0   0      product design enhancements            1013\n",
       "3  1381    0     0     0   0                       adplatform            1113\n",
       "4   970  970   339  1175  33     java c/c++ r javascript/node              58"
      ]
     },
     "execution_count": 114,
     "metadata": {},
     "output_type": "execute_result"
    }
   ],
   "source": [
    "padded_docs_test_tech_df.head()"
   ]
  },
  {
   "cell_type": "code",
   "execution_count": 115,
   "metadata": {},
   "outputs": [
    {
     "name": "stdout",
     "output_type": "stream",
     "text": [
      "317     89\n",
      "256     24\n",
      "1097    14\n",
      "302     11\n",
      "1027    11\n",
      "527     10\n",
      "268      9\n",
      "831      9\n",
      "1304     8\n",
      "900      8\n",
      "417      8\n",
      "339      8\n",
      "1331     8\n",
      "1247     7\n",
      "648      7\n",
      "655      7\n",
      "207      6\n",
      "325      6\n",
      "905      6\n",
      "603      6\n",
      "292      6\n",
      "584      6\n",
      "1014     5\n",
      "359      5\n",
      "1093     5\n",
      "1252     5\n",
      "1166     5\n",
      "988      5\n",
      "787      5\n",
      "492      5\n",
      "        ..\n",
      "1015     1\n",
      "1022     1\n",
      "1023     1\n",
      "934      1\n",
      "933      1\n",
      "931      1\n",
      "889      1\n",
      "844      1\n",
      "847      1\n",
      "849      1\n",
      "858      1\n",
      "859      1\n",
      "863      1\n",
      "869      1\n",
      "876      1\n",
      "877      1\n",
      "878      1\n",
      "891      1\n",
      "925      1\n",
      "893      1\n",
      "902      1\n",
      "912      1\n",
      "914      1\n",
      "916      1\n",
      "917      1\n",
      "918      1\n",
      "920      1\n",
      "922      1\n",
      "923      1\n",
      "3        1\n",
      "Name: 1, Length: 536, dtype: int64\n",
      "0       169\n",
      "317      53\n",
      "829      14\n",
      "1097     12\n",
      "302      12\n",
      "527      12\n",
      "912      12\n",
      "1027     10\n",
      "502       9\n",
      "831       8\n",
      "268       8\n",
      "1304      8\n",
      "985       7\n",
      "292       7\n",
      "574       7\n",
      "262       7\n",
      "888       7\n",
      "1262      6\n",
      "390       6\n",
      "850       6\n",
      "903       6\n",
      "207       6\n",
      "582       6\n",
      "1057      5\n",
      "1277      5\n",
      "652       5\n",
      "95        5\n",
      "100       5\n",
      "256       5\n",
      "672       4\n",
      "       ... \n",
      "845       1\n",
      "1343      1\n",
      "855       1\n",
      "872       1\n",
      "874       1\n",
      "876       1\n",
      "877       1\n",
      "882       1\n",
      "808       1\n",
      "802       1\n",
      "718       1\n",
      "801       1\n",
      "720       1\n",
      "725       1\n",
      "738       1\n",
      "740       1\n",
      "744       1\n",
      "746       1\n",
      "1357      1\n",
      "758       1\n",
      "762       1\n",
      "777       1\n",
      "779       1\n",
      "781       1\n",
      "782       1\n",
      "784       1\n",
      "785       1\n",
      "786       1\n",
      "795       1\n",
      "686       1\n",
      "Name: 2, Length: 463, dtype: int64\n",
      "0       654\n",
      "1027     16\n",
      "317      13\n",
      "527      12\n",
      "829       8\n",
      "204       7\n",
      "1070      6\n",
      "256       6\n",
      "268       5\n",
      "831       5\n",
      "574       5\n",
      "582       5\n",
      "718       4\n",
      "334       4\n",
      "1262      4\n",
      "302       4\n",
      "191       4\n",
      "53        4\n",
      "1237      4\n",
      "1433      4\n",
      "1277      4\n",
      "850       3\n",
      "273       3\n",
      "1265      3\n",
      "219       3\n",
      "370       3\n",
      "903       3\n",
      "95        3\n",
      "985       3\n",
      "603       3\n",
      "       ... \n",
      "626       1\n",
      "618       1\n",
      "613       1\n",
      "612       1\n",
      "609       1\n",
      "584       1\n",
      "762       1\n",
      "816       1\n",
      "824       1\n",
      "1304      1\n",
      "943       1\n",
      "930       1\n",
      "912       1\n",
      "910       1\n",
      "905       1\n",
      "904       1\n",
      "900       1\n",
      "888       1\n",
      "884       1\n",
      "877       1\n",
      "873       1\n",
      "869       1\n",
      "867       1\n",
      "866       1\n",
      "858       1\n",
      "846       1\n",
      "845       1\n",
      "837       1\n",
      "1299      1\n",
      "724       1\n",
      "Name: 3, Length: 241, dtype: int64\n",
      "0       938\n",
      "302       4\n",
      "1027      4\n",
      "204       3\n",
      "335       3\n",
      "390       3\n",
      "527       3\n",
      "603       3\n",
      "866       2\n",
      "873       2\n",
      "256       2\n",
      "831       2\n",
      "803       2\n",
      "985       2\n",
      "758       2\n",
      "1089      2\n",
      "753       2\n",
      "268       2\n",
      "369       2\n",
      "1236      2\n",
      "1415      2\n",
      "1304      2\n",
      "220       2\n",
      "1265      2\n",
      "60        1\n",
      "156       1\n",
      "145       1\n",
      "530       1\n",
      "538       1\n",
      "548       1\n",
      "       ... \n",
      "1355      1\n",
      "1356      1\n",
      "1357      1\n",
      "1381      1\n",
      "1384      1\n",
      "1411      1\n",
      "1070      1\n",
      "1052      1\n",
      "1015      1\n",
      "1009      1\n",
      "720       1\n",
      "756       1\n",
      "1423      1\n",
      "775       1\n",
      "782       1\n",
      "785       1\n",
      "835       1\n",
      "842       1\n",
      "845       1\n",
      "900       1\n",
      "903       1\n",
      "910       1\n",
      "912       1\n",
      "924       1\n",
      "926       1\n",
      "930       1\n",
      "938       1\n",
      "984       1\n",
      "1002      1\n",
      "761       1\n",
      "Name: 4, Length: 107, dtype: int64\n"
     ]
    }
   ],
   "source": [
    "for i in range (1,5):\n",
    "\n",
    "    print(padded_docs_train_tech_df[i].value_counts())"
   ]
  },
  {
   "cell_type": "code",
   "execution_count": 97,
   "metadata": {},
   "outputs": [
    {
     "data": {
      "text/plain": [
       "1435"
      ]
     },
     "execution_count": 97,
     "metadata": {},
     "output_type": "execute_result"
    }
   ],
   "source": [
    "vocab_size = 0\n",
    "\n",
    "for i in range (1,5):\n",
    "    vocab_size+= padded_docs_train_tech_df[i].nunique()\n",
    "    \n",
    "vocab_size"
   ]
  },
  {
   "cell_type": "code",
   "execution_count": 116,
   "metadata": {
    "scrolled": false
   },
   "outputs": [
    {
     "name": "stdout",
     "output_type": "stream",
     "text": [
      "1433\n",
      "536\n",
      "[1235  909  668  334 1032 1251 1027  895  268  600  197  536  301  738\n",
      "  317  506  302  554 1378  858  406  179 1252  115  216 1415  342  954\n",
      " 1282 1326  210  953  219  785 1182  162 1097  256  912  965 1246   31\n",
      "  339  918  107  231  946  679  784  930 1070  779 1281 1049 1343   45\n",
      " 1279 1237  417  500 1091  470 1302  524  141   53  603  445  749  538\n",
      "  359  215  407   95  309  360  632  502  815  767 1215  414  303  280\n",
      " 1355  900 1079  887  548  717  393  884 1245 1405  914 1166 1397 1093\n",
      "  970  962 1146  694  869  995  325  905  597  148  527  213  517  988\n",
      "  802  348  370  902  866  838  655  329  587  983 1331  686  831  923\n",
      "  224 1356 1105  567 1433  980   67  421  483  917  574 1304  939   72\n",
      "   16 1204 1019 1377  787 1374  541  853 1014 1099  672 1074 1262  484\n",
      "  707  822  104 1332 1400  903  684 1135  354  307  292  237  511 1381\n",
      " 1269 1425  130 1191 1298 1212  829  193 1297  262 1127  611  825  828\n",
      "  950 1301  582  537  245 1104  390  448  949  969  638 1317  495  206\n",
      " 1263 1225   36 1341   33  934 1247 1430  682  165  191 1288 1009  234\n",
      " 1098   86  438 1241 1006  453  584  739  891 1088  823  425  397 1409\n",
      "  660  850  437  328   46  593  207  608  378  952  151 1148  700  295\n",
      "  648  844  138   19  945 1005  515 1103  394  526  726 1120  613  464\n",
      "   23  888  863 1420 1238 1139  136  889 1340   10  803 1299  471  326\n",
      " 1273 1131   24 1137 1236  877  427  978 1353  518 1270 1386 1082  140\n",
      "  652  434 1047  922 1011  656 1219  931   89  492  705   88 1243  270\n",
      "  807  595  272  974  893 1395 1274  144 1121  636 1073  873  523 1382\n",
      " 1107   39  472  916 1077 1387  960  163 1334 1057  519 1349  623  306\n",
      "  395  314 1214 1172  369  284 1210 1283    6  347   65 1357 1223  775\n",
      " 1185  233  505   15 1294  128 1201  143  862  147  924  878 1138 1165\n",
      " 1220 1375 1426  426  781   41 1117  510 1023 1310   50   32 1351  750\n",
      "  666   87 1176  235 1108  557 1031 1431  746  176 1276   63 1026  134\n",
      "  544 1380 1373 1090   91  264 1311  849  214 1242 1265  168  958  230\n",
      "  535   66 1043 1095  373  172 1342  318  663  606 1037  487 1102  540\n",
      "  859   69 1034  925   76  186  920 1025  188 1157  508  816 1134   92\n",
      "   12  389  218  313  202  687  225  227   59  405 1123 1200  298  861\n",
      "  150 1323  446 1144  786  332  416 1196  137 1136 1022  243 1126  491\n",
      "  722  689  692  728 1370  716 1051  725  450  236  808 1216  635 1389\n",
      "  989  990  507  156 1193   26  350  664  933  212 1075 1046  756  997\n",
      "  715  678 1129 1345  375  102  943 1394  286  751  253   18 1280  745\n",
      "  601  364  876  279  556  963  598  135 1015  938  832 1048  283 1427\n",
      "  570  647  305 1315  826  719  553 1175  758  747  117  612  110  773\n",
      "  155  142  760 1350  759    3  444  386  671    4  847 1155  423 1249\n",
      " 1292   57 1290  271]\n",
      "1433\n",
      "463\n",
      "[ 839    0 1236  574 1027  302  746 1380  384  850  317  697  247  219\n",
      "  912  895  380  292  650  829  903  527  337 1090  673  177 1172  159\n",
      "  459  845  414 1270  575 1312  757  588  652  215  417  256 1247 1120\n",
      " 1333  508  891  655 1097  974  801 1363  415 1012  500   41  207 1052\n",
      "  197  995 1144 1304  621  884  268  390 1373 1064  597  784  918  905\n",
      "  985 1087  370  925 1331   11  876  775  225 1332 1016  160  700  344\n",
      "  427  100 1209 1099  526  434 1251  855  612 1277  452  492  726  368\n",
      "  411  584  210 1425 1103  358 1202  523  235 1089  630 1126 1153  328\n",
      " 1148  761 1181  487 1263 1104  710 1123  668 1037  136 1418 1075 1047\n",
      "  486 1361  835  408  877  343  638  502  582  432 1076  948  324 1258\n",
      "  359  462  362 1432  635  707 1415 1166   18 1317  930  653  350 1023\n",
      "  369   82 1098 1077 1108   19  325  188  544   36  684  780  554  924\n",
      "  288  808  371  941  553   12   93  978  831 1069  538  147  233 1262\n",
      "  386  680  603  365  123  509 1020  744  665  309  162 1200 1041  169\n",
      "  893  248  691  336  888  126  960  786 1246  448  901 1408 1366  781\n",
      "  843 1053 1182  758 1291  660 1342 1388  426 1121   94 1409  803  648\n",
      "  672  882  421 1175 1371  765 1043  262  938   34  692   72  375  973\n",
      "  286   52  474 1160  172  906 1057  263   22  254 1249  598  633  280\n",
      " 1094   95 1261  106   45  713  230 1254 1357  409 1274  507  738 1093\n",
      "  393  114 1269  769  686  261  115  334  316  873  802  642 1433 1250\n",
      "  127  204  812  252 1022  229 1396   53 1070   57 1394  391  982  191\n",
      "  360  218  822 1235  289  762 1129  148 1161 1252  398  872 1036  818\n",
      " 1014  330   65 1341 1372 1150  208  140  846  296   31  339 1171 1210\n",
      "  740   89  827  456 1117   87  907 1180 1107  467 1026  701   28  768\n",
      "   96  866 1411 1238  718  958  501 1265  259  435 1084  952  990  517\n",
      "  777 1243   38  715  206    4  283  922  842  413  505  779  795 1275\n",
      "  179 1384   25 1343  720  921  481  782  568  530  626  664 1140 1133\n",
      " 1223   66  632  669 1105 1256  804 1010  562 1178  913   35 1284   17\n",
      "  637  214 1378   92  404  174  949  181  420  721  470  245 1355  591\n",
      "  265  453 1007  118  613 1193  378 1303  557  335  787   61  511  175\n",
      "  307   70 1217 1413 1367  874  675  785  951  514  475  725 1374  351\n",
      " 1113 1358  269   42  170 1404  816  679  345 1122  180  447  278  145\n",
      " 1420  537 1137  244  134  466  439 1356  306  619  272 1224   33  156\n",
      " 1128]\n",
      "1433\n",
      "241\n",
      "[   0 1070  151 1408  500   95  884  938 1187  574  645  905  302 1145\n",
      "  582   17  824   26 1027  924  502  156  466  445  273  191  118   12\n",
      "  317 1352  554  866  434 1153 1262   82   53 1264  845  505  415  829\n",
      "  850 1008  677 1093  739  756  970  246  718  985 1220 1265  527  492\n",
      "  775 1113 1331  269  334  553  362 1101  544  700  263 1188  725  571\n",
      "  865 1098   74  256  308 1033  642 1014  119   18 1433  869  785  268\n",
      " 1415 1214  978 1175  672  693  115   88  204 1194 1002 1071  559  721\n",
      "  227 1185  359  213  325  738  562  603 1237 1263  462  206 1172  613\n",
      "  229  197 1219  831 1104 1129  513  686  759 1277  612  648  561  724\n",
      "  943 1425 1057  370 1035  912  660  172  877  331 1299 1270 1238  709\n",
      "  184 1349 1409 1119   96  225  858   23 1052 1047 1431 1275  276 1026\n",
      "  219  816 1311  584  426 1216  762  487  292  579 1209  676  307  903\n",
      "  538  873 1206  264 1285  390   80  291 1396  262  904   29  111  218\n",
      "  271  543  550 1144  537  910  930  983 1387 1195 1042  413  952  691\n",
      "  787 1000 1215  518  530 1036  365  207  995  846  708  375 1328 1159\n",
      " 1304 1020  470 1016  147 1358   59  476 1284  837   60  618  626  609\n",
      " 1138  761 1009  186 1236 1133  384  110 1011  622 1181  501  867 1121\n",
      " 1107  888  900]\n",
      "1425\n",
      "107\n",
      "[   0  335  369  413 1415  612 1277 1308 1027  317  803  758  273 1129\n",
      "  538  831 1384  648  397  775  291  753  866  159  550  462 1009 1304\n",
      "  204  237  220  693 1153 1236  985  720 1265  603 1246  785  302  845\n",
      " 1002 1425 1357  910  509   18  903  225  873  527 1089  631 1052  156\n",
      " 1225  445  912 1381 1252   60  924  268  926  761 1206  582  256  390\n",
      "  244  383  782 1097 1262 1355  407  677  530 1356  900  654  145  339\n",
      " 1331  144 1423  548  984  574  412  835 1070  930 1258  842  380   22\n",
      " 1098  938  245 1200  653 1015  756  274 1411]\n"
     ]
    }
   ],
   "source": [
    "for i in range (1,5):\n",
    "\n",
    "    print(padded_docs_train_tech_df[i].max())\n",
    "\n",
    "    print(padded_docs_train_tech_df[i].nunique())\n",
    "\n",
    "    print(padded_docs_train_tech_df[i].unique())"
   ]
  },
  {
   "cell_type": "code",
   "execution_count": 117,
   "metadata": {},
   "outputs": [],
   "source": [
    "# define the model\n",
    "embeddings_model = Sequential()\n",
    "embeddings_model.add(Embedding(vocab_size, 2, input_length=max_length))\n",
    "embeddings_model.add(Flatten())\n",
    "embeddings_model.add(Dense(1, activation='sigmoid'))"
   ]
  },
  {
   "cell_type": "code",
   "execution_count": 118,
   "metadata": {},
   "outputs": [
    {
     "name": "stdout",
     "output_type": "stream",
     "text": [
      "Model: \"sequential_3\"\n",
      "_________________________________________________________________\n",
      "Layer (type)                 Output Shape              Param #   \n",
      "=================================================================\n",
      "embedding_3 (Embedding)      (None, 5, 2)              2870      \n",
      "_________________________________________________________________\n",
      "flatten_3 (Flatten)          (None, 10)                0         \n",
      "_________________________________________________________________\n",
      "dense_3 (Dense)              (None, 1)                 11        \n",
      "=================================================================\n",
      "Total params: 2,881\n",
      "Trainable params: 2,881\n",
      "Non-trainable params: 0\n",
      "_________________________________________________________________\n",
      "None\n"
     ]
    }
   ],
   "source": [
    "# compile the model\n",
    "embeddings_model.compile(optimizer='adam', loss='binary_crossentropy', metrics=['accuracy'])\n",
    "# summarize the model\n",
    "print(embeddings_model.summary())"
   ]
  },
  {
   "cell_type": "code",
   "execution_count": 119,
   "metadata": {},
   "outputs": [
    {
     "name": "stderr",
     "output_type": "stream",
     "text": [
      "/Users/pavel/anaconda3/lib/python3.7/site-packages/tensorflow_core/python/framework/indexed_slices.py:433: UserWarning:\n",
      "\n",
      "Converting sparse IndexedSlices to a dense Tensor of unknown shape. This may consume a large amount of memory.\n",
      "\n",
      "/Users/pavel/anaconda3/lib/python3.7/site-packages/tensorflow_core/python/framework/indexed_slices.py:433: UserWarning:\n",
      "\n",
      "Converting sparse IndexedSlices to a dense Tensor of unknown shape. This may consume a large amount of memory.\n",
      "\n"
     ]
    },
    {
     "data": {
      "text/plain": [
       "<keras.callbacks.callbacks.History at 0x144d6c320>"
      ]
     },
     "execution_count": 119,
     "metadata": {},
     "output_type": "execute_result"
    }
   ],
   "source": [
    "# fit the model\n",
    "embeddings_model.fit(padded_docs_train_tech, y_train_tech, epochs=20, verbose=0)"
   ]
  },
  {
   "cell_type": "code",
   "execution_count": 120,
   "metadata": {},
   "outputs": [
    {
     "name": "stdout",
     "output_type": "stream",
     "text": [
      "Train on 1076 samples, validate on 120 samples\n",
      "Epoch 1/25\n",
      " - 0s - loss: 0.5065 - accuracy: 0.8448 - val_loss: 0.6836 - val_accuracy: 0.6167\n",
      "Epoch 2/25\n",
      " - 0s - loss: 0.4956 - accuracy: 0.8476 - val_loss: 0.6858 - val_accuracy: 0.6083\n",
      "Epoch 3/25\n",
      " - 0s - loss: 0.4850 - accuracy: 0.8513 - val_loss: 0.6880 - val_accuracy: 0.6000\n",
      "Epoch 4/25\n",
      " - 0s - loss: 0.4745 - accuracy: 0.8541 - val_loss: 0.6907 - val_accuracy: 0.6000\n",
      "Epoch 5/25\n",
      " - 0s - loss: 0.4644 - accuracy: 0.8550 - val_loss: 0.6946 - val_accuracy: 0.6000\n",
      "Epoch 6/25\n",
      " - 0s - loss: 0.4547 - accuracy: 0.8625 - val_loss: 0.6976 - val_accuracy: 0.6000\n",
      "Epoch 7/25\n",
      " - 0s - loss: 0.4452 - accuracy: 0.8643 - val_loss: 0.7014 - val_accuracy: 0.5917\n",
      "Epoch 8/25\n",
      " - 0s - loss: 0.4359 - accuracy: 0.8690 - val_loss: 0.7054 - val_accuracy: 0.6000\n",
      "Epoch 9/25\n",
      " - 0s - loss: 0.4274 - accuracy: 0.8680 - val_loss: 0.7101 - val_accuracy: 0.5917\n",
      "Epoch 10/25\n",
      " - 0s - loss: 0.4187 - accuracy: 0.8717 - val_loss: 0.7149 - val_accuracy: 0.5833\n",
      "Epoch 11/25\n",
      " - 0s - loss: 0.4102 - accuracy: 0.8755 - val_loss: 0.7194 - val_accuracy: 0.5833\n",
      "Epoch 12/25\n",
      " - 0s - loss: 0.4021 - accuracy: 0.8755 - val_loss: 0.7237 - val_accuracy: 0.5833\n",
      "Epoch 13/25\n",
      " - 0s - loss: 0.3942 - accuracy: 0.8801 - val_loss: 0.7296 - val_accuracy: 0.5750\n",
      "Epoch 14/25\n",
      " - 0s - loss: 0.3867 - accuracy: 0.8820 - val_loss: 0.7342 - val_accuracy: 0.5667\n",
      "Epoch 15/25\n",
      " - 0s - loss: 0.3794 - accuracy: 0.8829 - val_loss: 0.7393 - val_accuracy: 0.5750\n",
      "Epoch 16/25\n",
      " - 0s - loss: 0.3721 - accuracy: 0.8866 - val_loss: 0.7456 - val_accuracy: 0.5667\n",
      "Epoch 17/25\n",
      " - 0s - loss: 0.3653 - accuracy: 0.8885 - val_loss: 0.7510 - val_accuracy: 0.5667\n",
      "Epoch 18/25\n",
      " - 0s - loss: 0.3586 - accuracy: 0.8931 - val_loss: 0.7564 - val_accuracy: 0.5667\n",
      "Epoch 19/25\n",
      " - 0s - loss: 0.3520 - accuracy: 0.8959 - val_loss: 0.7625 - val_accuracy: 0.5667\n",
      "Epoch 20/25\n",
      " - 0s - loss: 0.3456 - accuracy: 0.8968 - val_loss: 0.7696 - val_accuracy: 0.5667\n",
      "Epoch 21/25\n",
      " - 0s - loss: 0.3396 - accuracy: 0.9015 - val_loss: 0.7753 - val_accuracy: 0.5667\n",
      "Epoch 22/25\n",
      " - 0s - loss: 0.3336 - accuracy: 0.9033 - val_loss: 0.7811 - val_accuracy: 0.5667\n",
      "Epoch 23/25\n",
      " - 0s - loss: 0.3278 - accuracy: 0.9061 - val_loss: 0.7881 - val_accuracy: 0.5583\n",
      "Epoch 24/25\n",
      " - 0s - loss: 0.3221 - accuracy: 0.9080 - val_loss: 0.7947 - val_accuracy: 0.5667\n",
      "Epoch 25/25\n",
      " - 0s - loss: 0.3167 - accuracy: 0.9089 - val_loss: 0.8008 - val_accuracy: 0.5667\n"
     ]
    }
   ],
   "source": [
    "model_tech = embeddings_model.fit(padded_docs_train_tech, y_train_tech, epochs=25, validation_data = (padded_docs_test_tech, y_test_tech), verbose=2)"
   ]
  },
  {
   "cell_type": "code",
   "execution_count": 121,
   "metadata": {},
   "outputs": [],
   "source": [
    "plt.style.use('ggplot')\n",
    "\n",
    "def plot_history(history):\n",
    "    acc = history.history['accuracy']\n",
    "    val_acc = history.history['val_accuracy']\n",
    "    loss = history.history['loss']\n",
    "    val_loss = history.history['val_loss']\n",
    "    x = range(1, len(acc) + 1)\n",
    "\n",
    "    plt.figure(figsize=(12, 5))\n",
    "    plt.subplot(1, 2, 1)\n",
    "    plt.plot(x, acc, 'b', label='Training acc')\n",
    "    plt.plot(x, val_acc, 'r', label='Validation acc')\n",
    "    plt.title('Training and validation accuracy')\n",
    "    plt.legend()\n",
    "    plt.subplot(1, 2, 2)\n",
    "    plt.plot(x, loss, 'b', label='Training loss')\n",
    "    plt.plot(x, val_loss, 'r', label='Validation loss')\n",
    "    plt.title('Training and validation loss')\n",
    "    plt.legend()"
   ]
  },
  {
   "cell_type": "code",
   "execution_count": 122,
   "metadata": {},
   "outputs": [
    {
     "name": "stdout",
     "output_type": "stream",
     "text": [
      "Training Accuracy: 0.9517\n",
      "Testing Accuracy:  0.5583\n"
     ]
    },
    {
     "data": {
      "image/png": "[encoded data removed]",
      "text/plain": [
       "<Figure size 864x360 with 2 Axes>"
      ]
     },
     "metadata": {},
     "output_type": "display_data"
    }
   ],
   "source": [
    "test_sample = \"analytical skills\"\n",
    "\n",
    "history = embeddings_model.fit(padded_docs_train_tech, y_train_tech,\n",
    "                    epochs=20,\n",
    "                    verbose=False,\n",
    "                    validation_data=(padded_docs_test_tech, y_test_tech),\n",
    "                    batch_size=10)\n",
    "\n",
    "loss, accuracy = embeddings_model.evaluate(padded_docs_train_tech, y_train_tech, verbose=False)\n",
    "print(\"Training Accuracy: {:.4f}\".format(accuracy))\n",
    "loss, accuracy = embeddings_model.evaluate(padded_docs_test_tech, y_test_tech, verbose=False)\n",
    "print(\"Testing Accuracy:  {:.4f}\".format(accuracy))\n",
    "plot_history(history)"
   ]
  },
  {
   "cell_type": "code",
   "execution_count": null,
   "metadata": {},
   "outputs": [],
   "source": [
    "#model.save('CNN_test_may18_10pct.model')"
   ]
  },
  {
   "cell_type": "markdown",
   "metadata": {},
   "source": [
    "## Test model prediction"
   ]
  },
  {
   "cell_type": "code",
   "execution_count": null,
   "metadata": {},
   "outputs": [],
   "source": [
    "prediction_tech = embeddings_model.predict(padded_docs_test_tech)"
   ]
  },
  {
   "cell_type": "code",
   "execution_count": null,
   "metadata": {},
   "outputs": [],
   "source": [
    "df_tech= pd.DataFrame(X_test_tech)\n",
    "df_tech[\"skill_tech\"] = y_test_tech\n",
    "df_tech[\"prediction\"] = prediction_tech.round(0)\n",
    "df_tech.shape"
   ]
  },
  {
   "cell_type": "code",
   "execution_count": null,
   "metadata": {},
   "outputs": [],
   "source": [
    "df_tech.head(5)"
   ]
  },
  {
   "cell_type": "code",
   "execution_count": null,
   "metadata": {},
   "outputs": [],
   "source": [
    "actual_values = df_tech.skill_tech.values\n",
    "predicted_values = df_tech.prediction.values.astype(int)\n",
    "\n",
    "predicted_values"
   ]
  },
  {
   "cell_type": "code",
   "execution_count": null,
   "metadata": {},
   "outputs": [],
   "source": [
    "confusion = confusion_matrix(actual_values, predicted_values)\n",
    "print(confusion)"
   ]
  },
  {
   "cell_type": "markdown",
   "metadata": {},
   "source": [
    "## Second version of model: 80 vs 20 split"
   ]
  },
  {
   "cell_type": "code",
   "execution_count": null,
   "metadata": {},
   "outputs": [],
   "source": [
    "X_train_tech, X_test_tech, y_train_tech, y_test_tech = train_test_split(df_chunk_tech[\"combined_words\"], df_chunk_tech[\"Technical\"], test_size=0.2, random_state=42)\n",
    "X_train_tech.shape\n",
    "\n",
    "vocab_size = 2000\n",
    "encoded_docs_train_tech = [one_hot(d, vocab_size) for d in X_train_tech]\n",
    "\n",
    "# pad documents to a max length of 4 words\n",
    "max_length = 5\n",
    "padded_docs_train_tech = pad_sequences(encoded_docs_train_tech, maxlen=max_length, padding='post')\n",
    "print(padded_docs_train_tech)\n",
    "\n",
    "encoded_docs_test_tech = [one_hot(d, vocab_size) for d in X_test_tech]\n",
    "\n",
    "padded_docs_test_tech = pad_sequences(encoded_docs_test_tech, maxlen=max_length, padding='post')\n",
    "#print(padded_docs_test)\n",
    "\n",
    "# define the model\n",
    "model = Sequential()\n",
    "model.add(Embedding(vocab_size, 5, input_length=max_length))\n",
    "model.add(Flatten())\n",
    "model.add(Dense(1, activation='sigmoid'))\n",
    "\n",
    "# compile the model\n",
    "model.compile(optimizer='adam', loss='binary_crossentropy', metrics=['accuracy'])\n",
    "# summarize the model\n",
    "print(model.summary())\n",
    "\n",
    "# fit the model\n",
    "model.fit(padded_docs_train_tech, y_train_tech, epochs=20, verbose=0)\n",
    "\n",
    "model_tech_v2 = model.fit(padded_docs_train_tech, y_train_tech, epochs=25, \n",
    "                          validation_data = (padded_docs_test_tech, y_test_tech), verbose=2)\n",
    "\n",
    "#model.save('CNN_test_may18_12pct.model')\n",
    "\n",
    "prediction_tech_v2 = model.predict(padded_docs_test_tech)\n",
    "\n",
    "df_tech_v2= pd.DataFrame(X_test_tech)\n",
    "df_tech_v2[\"skill_tech\"] = y_test_tech\n",
    "df_tech_v2[\"prediction\"] = prediction_tech_v2.round(0)\n",
    "df_tech_v2.shape\n",
    "\n",
    "actual_values_v2 = df_tech_v2.skill_tech.values\n",
    "predicted_values_v2 = df_tech_v2.prediction.values.astype(int)\n",
    "\n",
    "confusion_v2 = confusion_matrix(actual_values_v2, predicted_values_v2)\n",
    "print(confusion_v2)"
   ]
  },
  {
   "cell_type": "markdown",
   "metadata": {},
   "source": [
    "# Embeddings Layer parameter changes (Real Python website test)"
   ]
  },
  {
   "cell_type": "code",
   "execution_count": null,
   "metadata": {},
   "outputs": [],
   "source": [
    "embedding_dim = 50\n",
    "maxlen = 5\n",
    "\n",
    "\n",
    "embeddings_model_v1 = Sequential()\n",
    "embeddings_model_v1.add(layers.Embedding(input_dim=vocab_size, \n",
    "                           output_dim=embedding_dim, \n",
    "                           input_length=maxlen))\n",
    "embeddings_model_v1.add(layers.Flatten())\n",
    "embeddings_model_v1.add(layers.Dense(10, activation='relu'))\n",
    "embeddings_model_v1.add(layers.Dense(1, activation='sigmoid'))\n",
    "embeddings_model_v1.compile(optimizer='adam',\n",
    "              loss='binary_crossentropy',\n",
    "              metrics=['accuracy'])\n",
    "embeddings_model_v1.summary()"
   ]
  },
  {
   "cell_type": "code",
   "execution_count": null,
   "metadata": {},
   "outputs": [],
   "source": [
    "history = embeddings_model_v1.fit(padded_docs_train_tech, y_train_tech,\n",
    "                    epochs=20,\n",
    "                    verbose=False,\n",
    "                    validation_data=(padded_docs_test_tech, y_test_tech),\n",
    "                    batch_size=10)"
   ]
  },
  {
   "cell_type": "code",
   "execution_count": null,
   "metadata": {},
   "outputs": [],
   "source": [
    "loss, accuracy = embeddings_model_v1.evaluate(padded_docs_train_tech, y_train_tech, verbose=False)\n",
    "print(\"train_teching Accuracy: {:.4f}\".format(accuracy))\n",
    "loss, accuracy = embeddings_model_v1.evaluate(padded_docs_test_tech, y_test_tech, verbose=False)\n",
    "print(\"Testing Accuracy:  {:.4f}\".format(accuracy))\n",
    "plot_history(history)"
   ]
  },
  {
   "cell_type": "markdown",
   "metadata": {},
   "source": [
    "# Real Python website test version 2 model"
   ]
  },
  {
   "cell_type": "code",
   "execution_count": null,
   "metadata": {},
   "outputs": [],
   "source": [
    "embeddings_model_v2 = Sequential()\n",
    "embeddings_model_v2.add(layers.Embedding(input_dim=vocab_size, \n",
    "                           output_dim=embedding_dim, \n",
    "                           input_length=maxlen))\n",
    "embeddings_model_v2.add(layers.GlobalMaxPool1D())\n",
    "embeddings_model_v2.add(layers.Dense(10, activation='relu'))\n",
    "embeddings_model_v2.add(layers.Dense(1, activation='sigmoid'))\n",
    "embeddings_model_v2.compile(optimizer='adam',\n",
    "              loss='binary_crossentropy',\n",
    "              metrics=['accuracy'])\n",
    "embeddings_model_v2.summary()"
   ]
  },
  {
   "cell_type": "code",
   "execution_count": null,
   "metadata": {},
   "outputs": [],
   "source": [
    "history_v2 = embeddings_model_v2.fit(padded_docs_train_tech, y_train_tech,\n",
    "                    epochs=20,\n",
    "                    verbose=False,\n",
    "                    validation_data=(padded_docs_test_tech, y_test_tech),\n",
    "                    batch_size=10)"
   ]
  },
  {
   "cell_type": "code",
   "execution_count": null,
   "metadata": {},
   "outputs": [],
   "source": [
    "loss, accuracy = embeddings_model_v2.evaluate(padded_docs_train_tech, y_train_tech, verbose=False)\n",
    "print(\"train_teching Accuracy: {:.4f}\".format(accuracy))\n",
    "loss, accuracy = embeddings_model_v2.evaluate(padded_docs_test_tech, y_test_tech, verbose=False)\n",
    "print(\"Testing Accuracy:  {:.4f}\".format(accuracy))\n",
    "plot_history(history_v2)"
   ]
  },
  {
   "cell_type": "code",
   "execution_count": null,
   "metadata": {},
   "outputs": [],
   "source": [
    "prediction_tech_v2 = embeddings_model_v2.predict(padded_docs_test_tech)\n",
    "\n",
    "df_tech_v2= pd.DataFrame(X_test_tech)\n",
    "df_tech_v2[\"skill_tech\"] = y_test_tech\n",
    "df_tech_v2[\"prediction\"] = prediction_tech_v2.round(0)\n",
    "\n",
    "actual_values_v2 = df_tech_v2.skill_tech.values\n",
    "predicted_values_v2 = df_tech_v2.prediction.values.astype(int)\n",
    "\n",
    "confusion_v2 = confusion_matrix(actual_values_v2, predicted_values_v2)\n",
    "print(confusion_v2)"
   ]
  },
  {
   "cell_type": "markdown",
   "metadata": {},
   "source": [
    "## Real python test v3"
   ]
  },
  {
   "cell_type": "code",
   "execution_count": null,
   "metadata": {},
   "outputs": [],
   "source": [
    "embedding_dim = 5\n",
    "\n",
    "embeddings_model_v3 = Sequential()\n",
    "embeddings_model_v3.add(layers.Embedding(vocab_size, embedding_dim, input_length=maxlen))\n",
    "embeddings_model_v3.add(layers.Conv1D(128, 5, activation='relu'))\n",
    "embeddings_model_v3.add(layers.GlobalMaxPooling1D())\n",
    "embeddings_model_v3.add(layers.Dense(10, activation='relu'))\n",
    "embeddings_model_v3.add(layers.Dense(1, activation='sigmoid'))\n",
    "embeddings_model_v3.compile(optimizer='adam',\n",
    "              loss='binary_crossentropy',\n",
    "              metrics=['accuracy'])\n",
    "embeddings_model_v3.summary()"
   ]
  },
  {
   "cell_type": "code",
   "execution_count": null,
   "metadata": {},
   "outputs": [],
   "source": [
    "history_v3 = embeddings_model_v3.fit(padded_docs_train_tech, y_train_tech,\n",
    "                    epochs=20,\n",
    "                    verbose=False,\n",
    "                    validation_data=(padded_docs_test_tech, y_test_tech),\n",
    "                    batch_size=10)"
   ]
  },
  {
   "cell_type": "code",
   "execution_count": null,
   "metadata": {},
   "outputs": [],
   "source": [
    "loss, accuracy = embeddings_model_v3.evaluate(padded_docs_train_tech, y_train_tech, verbose=False)\n",
    "print(\"train_teching Accuracy: {:.4f}\".format(accuracy))\n",
    "loss, accuracy = embeddings_model_v3.evaluate(padded_docs_test_tech, y_test_tech, verbose=False)\n",
    "print(\"Testing Accuracy:  {:.4f}\".format(accuracy))\n",
    "plot_history(history_v3)"
   ]
  },
  {
   "cell_type": "code",
   "execution_count": null,
   "metadata": {},
   "outputs": [],
   "source": [
    "prediction_tech_v3 = embeddings_model_v3.predict(padded_docs_test_tech)\n",
    "\n",
    "df_tech_v3= pd.DataFrame(X_test_tech)\n",
    "df_tech_v3[\"skill_tech\"] = y_test_tech\n",
    "df_tech_v3[\"prediction\"] = prediction_tech_v3.round(0)\n",
    "\n",
    "actual_values_v3 = df_tech_v3.skill_tech.values\n",
    "predicted_values_v3 = df_tech_v3.prediction.values.astype(int)\n",
    "\n",
    "confusion_v3 = confusion_matrix(actual_values_v3, predicted_values_v3)\n",
    "print(confusion_v3)"
   ]
  },
  {
   "cell_type": "markdown",
   "metadata": {},
   "source": [
    "# Get Embedding Model weights"
   ]
  },
  {
   "cell_type": "code",
   "execution_count": 36,
   "metadata": {},
   "outputs": [],
   "source": [
    "def extract_weights(name, model):\n",
    "    \"\"\"Extract weights from a neural network model\"\"\"\n",
    "    \n",
    "    # Extract weights\n",
    "    weight_layer = model.get_layer(name)\n",
    "    weights = weight_layer.get_weights()[0]\n",
    "    \n",
    "    # Normalize\n",
    "    weights = weights / np.linalg.norm(weights, axis = 1).reshape((-1, 1))\n",
    "    return weights"
   ]
  },
  {
   "cell_type": "code",
   "execution_count": 37,
   "metadata": {},
   "outputs": [
    {
     "name": "stdout",
     "output_type": "stream",
     "text": [
      "embedding_1\n",
      "flatten_1\n",
      "dense_1\n"
     ]
    }
   ],
   "source": [
    "for layer in embeddings_model.layers:\n",
    "    print(layer.name)"
   ]
  },
  {
   "cell_type": "code",
   "execution_count": 123,
   "metadata": {},
   "outputs": [
    {
     "name": "stdout",
     "output_type": "stream",
     "text": [
      "Model: \"sequential_3\"\n",
      "_________________________________________________________________\n",
      "Layer (type)                 Output Shape              Param #   \n",
      "=================================================================\n",
      "embedding_3 (Embedding)      (None, 5, 2)              2870      \n",
      "_________________________________________________________________\n",
      "flatten_3 (Flatten)          (None, 10)                0         \n",
      "_________________________________________________________________\n",
      "dense_3 (Dense)              (None, 1)                 11        \n",
      "=================================================================\n",
      "Total params: 2,881\n",
      "Trainable params: 2,881\n",
      "Non-trainable params: 0\n",
      "_________________________________________________________________\n"
     ]
    }
   ],
   "source": [
    "embeddings_model.summary()"
   ]
  },
  {
   "cell_type": "code",
   "execution_count": 134,
   "metadata": {},
   "outputs": [
    {
     "data": {
      "text/plain": [
       "array([[ 0.99574304, -0.09217263],\n",
       "       [-0.86626744,  0.49958047],\n",
       "       [ 0.35533863, -0.9347376 ],\n",
       "       [-0.7184594 ,  0.6955689 ],\n",
       "       [-0.97427684,  0.22535451]], dtype=float32)"
      ]
     },
     "execution_count": 134,
     "metadata": {},
     "output_type": "execute_result"
    }
   ],
   "source": [
    "weights_class = extract_weights('embedding_3', embeddings_model)\n",
    "weights_class[:5]"
   ]
  },
  {
   "cell_type": "code",
   "execution_count": 138,
   "metadata": {
    "scrolled": true
   },
   "outputs": [
    {
     "data": {
      "text/plain": [
       "1435"
      ]
     },
     "execution_count": 138,
     "metadata": {},
     "output_type": "execute_result"
    }
   ],
   "source": [
    "pd.DataFrame(data=weights_class)[0].nunique()"
   ]
  },
  {
   "cell_type": "code",
   "execution_count": 127,
   "metadata": {},
   "outputs": [
    {
     "data": {
      "text/plain": [
       "<tf.Tensor 'embedding_3/embedding_lookup/Identity_1:0' shape=(None, 5, 2) dtype=float32>"
      ]
     },
     "execution_count": 127,
     "metadata": {},
     "output_type": "execute_result"
    }
   ],
   "source": [
    "embeddings_model.get_layer('embedding_3').output"
   ]
  },
  {
   "cell_type": "code",
   "execution_count": null,
   "metadata": {},
   "outputs": [],
   "source": [
    "# Possibly useful function to create a model from an intermediate layer\n",
    "\n",
    "#from keras.models import Model\n",
    "\n",
    "#model = ...  # include here your original model\n",
    "\n",
    "#layer_name = 'my_layer'\n",
    "#intermediate_layer_model = Model(inputs=model.input,\n",
    "#                                 outputs=model.get_layer(layer_name).output)\n",
    "#intermediate_output = intermediate_layer_model.predict(data)"
   ]
  },
  {
   "cell_type": "code",
   "execution_count": 128,
   "metadata": {},
   "outputs": [
    {
     "data": {
      "text/html": [
       "<div>\n",
       "<style scoped>\n",
       "    .dataframe tbody tr th:only-of-type {\n",
       "        vertical-align: middle;\n",
       "    }\n",
       "\n",
       "    .dataframe tbody tr th {\n",
       "        vertical-align: top;\n",
       "    }\n",
       "\n",
       "    .dataframe thead th {\n",
       "        text-align: right;\n",
       "    }\n",
       "</style>\n",
       "<table border=\"1\" class=\"dataframe\">\n",
       "  <thead>\n",
       "    <tr style=\"text-align: right;\">\n",
       "      <th></th>\n",
       "      <th>1</th>\n",
       "      <th>2</th>\n",
       "      <th>3</th>\n",
       "      <th>4</th>\n",
       "      <th>5</th>\n",
       "      <th>combined_words</th>\n",
       "      <th>original_index</th>\n",
       "      <th>weights</th>\n",
       "    </tr>\n",
       "  </thead>\n",
       "  <tbody>\n",
       "    <tr>\n",
       "      <th>0</th>\n",
       "      <td>1235</td>\n",
       "      <td>839</td>\n",
       "      <td>0</td>\n",
       "      <td>0</td>\n",
       "      <td>0</td>\n",
       "      <td>boston massachusetts</td>\n",
       "      <td>943</td>\n",
       "      <td>[0.99574304, -0.09217263]</td>\n",
       "    </tr>\n",
       "    <tr>\n",
       "      <th>1</th>\n",
       "      <td>909</td>\n",
       "      <td>0</td>\n",
       "      <td>0</td>\n",
       "      <td>0</td>\n",
       "      <td>0</td>\n",
       "      <td>forces</td>\n",
       "      <td>906</td>\n",
       "      <td>[-0.86626744, 0.49958047]</td>\n",
       "    </tr>\n",
       "    <tr>\n",
       "      <th>2</th>\n",
       "      <td>668</td>\n",
       "      <td>1236</td>\n",
       "      <td>0</td>\n",
       "      <td>0</td>\n",
       "      <td>0</td>\n",
       "      <td>image classification</td>\n",
       "      <td>451</td>\n",
       "      <td>[0.35533863, -0.9347376]</td>\n",
       "    </tr>\n",
       "    <tr>\n",
       "      <th>3</th>\n",
       "      <td>334</td>\n",
       "      <td>574</td>\n",
       "      <td>0</td>\n",
       "      <td>0</td>\n",
       "      <td>0</td>\n",
       "      <td>applications tools</td>\n",
       "      <td>260</td>\n",
       "      <td>[-0.7184594, 0.6955689]</td>\n",
       "    </tr>\n",
       "    <tr>\n",
       "      <th>4</th>\n",
       "      <td>1032</td>\n",
       "      <td>1027</td>\n",
       "      <td>0</td>\n",
       "      <td>0</td>\n",
       "      <td>0</td>\n",
       "      <td>constraints experience</td>\n",
       "      <td>244</td>\n",
       "      <td>[-0.97427684, 0.22535451]</td>\n",
       "    </tr>\n",
       "  </tbody>\n",
       "</table>\n",
       "</div>"
      ],
      "text/plain": [
       "      1     2  3  4  5          combined_words  original_index  \\\n",
       "0  1235   839  0  0  0    boston massachusetts             943   \n",
       "1   909     0  0  0  0                  forces             906   \n",
       "2   668  1236  0  0  0    image classification             451   \n",
       "3   334   574  0  0  0      applications tools             260   \n",
       "4  1032  1027  0  0  0  constraints experience             244   \n",
       "\n",
       "                     weights  \n",
       "0  [0.99574304, -0.09217263]  \n",
       "1  [-0.86626744, 0.49958047]  \n",
       "2   [0.35533863, -0.9347376]  \n",
       "3    [-0.7184594, 0.6955689]  \n",
       "4  [-0.97427684, 0.22535451]  "
      ]
     },
     "execution_count": 128,
     "metadata": {},
     "output_type": "execute_result"
    }
   ],
   "source": [
    "padded_docs_train_tech_df['weights'] = ''\n",
    "padded_docs_test_tech_df['weights'] = ''\n",
    "\n",
    "i=0\n",
    "for d in weights_class:\n",
    "    padded_docs_train_tech_df['weights'][i] = d\n",
    "    i+=1\n",
    "    \n",
    "i=0\n",
    "for d in weights_class:\n",
    "    padded_docs_test_tech_df['weights'][i] = d\n",
    "    i+=1\n",
    "    \n",
    "padded_docs_train_tech_df.head()"
   ]
  },
  {
   "cell_type": "code",
   "execution_count": 129,
   "metadata": {},
   "outputs": [
    {
     "data": {
      "text/html": [
       "<div>\n",
       "<style scoped>\n",
       "    .dataframe tbody tr th:only-of-type {\n",
       "        vertical-align: middle;\n",
       "    }\n",
       "\n",
       "    .dataframe tbody tr th {\n",
       "        vertical-align: top;\n",
       "    }\n",
       "\n",
       "    .dataframe thead th {\n",
       "        text-align: right;\n",
       "    }\n",
       "</style>\n",
       "<table border=\"1\" class=\"dataframe\">\n",
       "  <thead>\n",
       "    <tr style=\"text-align: right;\">\n",
       "      <th></th>\n",
       "      <th>1</th>\n",
       "      <th>2</th>\n",
       "      <th>3</th>\n",
       "      <th>4</th>\n",
       "      <th>5</th>\n",
       "      <th>combined_words</th>\n",
       "      <th>original_index</th>\n",
       "      <th>weights</th>\n",
       "    </tr>\n",
       "  </thead>\n",
       "  <tbody>\n",
       "    <tr>\n",
       "      <th>0</th>\n",
       "      <td>738</td>\n",
       "      <td>500</td>\n",
       "      <td>1023</td>\n",
       "      <td>0</td>\n",
       "      <td>0</td>\n",
       "      <td>support application integration</td>\n",
       "      <td>636</td>\n",
       "      <td>[0.99574304, -0.09217263]</td>\n",
       "    </tr>\n",
       "    <tr>\n",
       "      <th>1</th>\n",
       "      <td>1355</td>\n",
       "      <td>0</td>\n",
       "      <td>0</td>\n",
       "      <td>0</td>\n",
       "      <td>0</td>\n",
       "      <td>confidentiality</td>\n",
       "      <td>243</td>\n",
       "      <td>[-0.86626744, 0.49958047]</td>\n",
       "    </tr>\n",
       "    <tr>\n",
       "      <th>2</th>\n",
       "      <td>1304</td>\n",
       "      <td>527</td>\n",
       "      <td>13</td>\n",
       "      <td>0</td>\n",
       "      <td>0</td>\n",
       "      <td>product design enhancements</td>\n",
       "      <td>1013</td>\n",
       "      <td>[0.35533863, -0.9347376]</td>\n",
       "    </tr>\n",
       "    <tr>\n",
       "      <th>3</th>\n",
       "      <td>1381</td>\n",
       "      <td>0</td>\n",
       "      <td>0</td>\n",
       "      <td>0</td>\n",
       "      <td>0</td>\n",
       "      <td>adplatform</td>\n",
       "      <td>1113</td>\n",
       "      <td>[-0.7184594, 0.6955689]</td>\n",
       "    </tr>\n",
       "    <tr>\n",
       "      <th>4</th>\n",
       "      <td>970</td>\n",
       "      <td>970</td>\n",
       "      <td>339</td>\n",
       "      <td>1175</td>\n",
       "      <td>33</td>\n",
       "      <td>java c/c++ r javascript/node</td>\n",
       "      <td>58</td>\n",
       "      <td>[-0.97427684, 0.22535451]</td>\n",
       "    </tr>\n",
       "  </tbody>\n",
       "</table>\n",
       "</div>"
      ],
      "text/plain": [
       "      1    2     3     4   5                   combined_words  original_index  \\\n",
       "0   738  500  1023     0   0  support application integration             636   \n",
       "1  1355    0     0     0   0                  confidentiality             243   \n",
       "2  1304  527    13     0   0      product design enhancements            1013   \n",
       "3  1381    0     0     0   0                       adplatform            1113   \n",
       "4   970  970   339  1175  33     java c/c++ r javascript/node              58   \n",
       "\n",
       "                     weights  \n",
       "0  [0.99574304, -0.09217263]  \n",
       "1  [-0.86626744, 0.49958047]  \n",
       "2   [0.35533863, -0.9347376]  \n",
       "3    [-0.7184594, 0.6955689]  \n",
       "4  [-0.97427684, 0.22535451]  "
      ]
     },
     "execution_count": 129,
     "metadata": {},
     "output_type": "execute_result"
    }
   ],
   "source": [
    "padded_docs_test_tech_df.head()"
   ]
  },
  {
   "cell_type": "markdown",
   "metadata": {},
   "source": [
    "# Visualization"
   ]
  },
  {
   "cell_type": "code",
   "execution_count": 57,
   "metadata": {},
   "outputs": [],
   "source": [
    "from sklearn.manifold import TSNE\n",
    "#from umap import UMAP"
   ]
  },
  {
   "cell_type": "code",
   "execution_count": 58,
   "metadata": {},
   "outputs": [],
   "source": [
    "def reduce_dim(weights, components = 3, method = 'tsne'):\n",
    "    \"\"\"Reduce dimensions of embeddings\"\"\"\n",
    "    if method == 'tsne':\n",
    "        return TSNE(components, metric = 'cosine').fit_transform(weights)\n",
    "    elif method == 'umap':\n",
    "        # Might want to try different parameters for UMAP\n",
    "        return UMAP(n_components=components, metric = 'cosine', \n",
    "                    init = 'random', n_neighbors = 5).fit_transform(weights)"
   ]
  },
  {
   "cell_type": "code",
   "execution_count": 130,
   "metadata": {},
   "outputs": [
    {
     "data": {
      "text/plain": [
       "(1435, 2)"
      ]
     },
     "execution_count": 130,
     "metadata": {},
     "output_type": "execute_result"
    }
   ],
   "source": [
    "# Reduce dimensions from 10 down to 2 using TSNE method\n",
    "combined_words_r = reduce_dim(weights_class, components = 2, method = 'tsne')\n",
    "combined_words_r.shape"
   ]
  },
  {
   "cell_type": "code",
   "execution_count": 82,
   "metadata": {},
   "outputs": [
    {
     "data": {
      "text/plain": [
       "array([[-35.93049   ,   0.18120028],\n",
       "       [-12.980926  ,  15.723465  ],\n",
       "       [ 40.121178  ,   3.730411  ],\n",
       "       [-37.7432    ,  14.671775  ],\n",
       "       [-47.95029   , -16.949986  ]], dtype=float32)"
      ]
     },
     "execution_count": 82,
     "metadata": {},
     "output_type": "execute_result"
    }
   ],
   "source": [
    "combined_words_r[0:5]"
   ]
  },
  {
   "cell_type": "code",
   "execution_count": 131,
   "metadata": {},
   "outputs": [
    {
     "data": {
      "text/html": [
       "<div>\n",
       "<style scoped>\n",
       "    .dataframe tbody tr th:only-of-type {\n",
       "        vertical-align: middle;\n",
       "    }\n",
       "\n",
       "    .dataframe tbody tr th {\n",
       "        vertical-align: top;\n",
       "    }\n",
       "\n",
       "    .dataframe thead th {\n",
       "        text-align: right;\n",
       "    }\n",
       "</style>\n",
       "<table border=\"1\" class=\"dataframe\">\n",
       "  <thead>\n",
       "    <tr style=\"text-align: right;\">\n",
       "      <th></th>\n",
       "      <th>1</th>\n",
       "      <th>2</th>\n",
       "      <th>3</th>\n",
       "      <th>4</th>\n",
       "      <th>5</th>\n",
       "      <th>combined_words</th>\n",
       "      <th>original_index</th>\n",
       "      <th>weights</th>\n",
       "      <th>tsne1</th>\n",
       "      <th>tsne2</th>\n",
       "    </tr>\n",
       "  </thead>\n",
       "  <tbody>\n",
       "    <tr>\n",
       "      <th>0</th>\n",
       "      <td>1235</td>\n",
       "      <td>839</td>\n",
       "      <td>0</td>\n",
       "      <td>0</td>\n",
       "      <td>0</td>\n",
       "      <td>boston massachusetts</td>\n",
       "      <td>943</td>\n",
       "      <td>[0.99574304, -0.09217263]</td>\n",
       "      <td>24.766762</td>\n",
       "      <td>4.052248</td>\n",
       "    </tr>\n",
       "    <tr>\n",
       "      <th>1</th>\n",
       "      <td>909</td>\n",
       "      <td>0</td>\n",
       "      <td>0</td>\n",
       "      <td>0</td>\n",
       "      <td>0</td>\n",
       "      <td>forces</td>\n",
       "      <td>906</td>\n",
       "      <td>[-0.86626744, 0.49958047]</td>\n",
       "      <td>18.555532</td>\n",
       "      <td>41.824707</td>\n",
       "    </tr>\n",
       "    <tr>\n",
       "      <th>2</th>\n",
       "      <td>668</td>\n",
       "      <td>1236</td>\n",
       "      <td>0</td>\n",
       "      <td>0</td>\n",
       "      <td>0</td>\n",
       "      <td>image classification</td>\n",
       "      <td>451</td>\n",
       "      <td>[0.35533863, -0.9347376]</td>\n",
       "      <td>-31.568941</td>\n",
       "      <td>-4.037198</td>\n",
       "    </tr>\n",
       "    <tr>\n",
       "      <th>3</th>\n",
       "      <td>334</td>\n",
       "      <td>574</td>\n",
       "      <td>0</td>\n",
       "      <td>0</td>\n",
       "      <td>0</td>\n",
       "      <td>applications tools</td>\n",
       "      <td>260</td>\n",
       "      <td>[-0.7184594, 0.6955689]</td>\n",
       "      <td>32.738224</td>\n",
       "      <td>31.284283</td>\n",
       "    </tr>\n",
       "    <tr>\n",
       "      <th>4</th>\n",
       "      <td>1032</td>\n",
       "      <td>1027</td>\n",
       "      <td>0</td>\n",
       "      <td>0</td>\n",
       "      <td>0</td>\n",
       "      <td>constraints experience</td>\n",
       "      <td>244</td>\n",
       "      <td>[-0.97427684, 0.22535451]</td>\n",
       "      <td>6.676236</td>\n",
       "      <td>44.156738</td>\n",
       "    </tr>\n",
       "  </tbody>\n",
       "</table>\n",
       "</div>"
      ],
      "text/plain": [
       "      1     2  3  4  5          combined_words  original_index  \\\n",
       "0  1235   839  0  0  0    boston massachusetts             943   \n",
       "1   909     0  0  0  0                  forces             906   \n",
       "2   668  1236  0  0  0    image classification             451   \n",
       "3   334   574  0  0  0      applications tools             260   \n",
       "4  1032  1027  0  0  0  constraints experience             244   \n",
       "\n",
       "                     weights      tsne1      tsne2  \n",
       "0  [0.99574304, -0.09217263]  24.766762   4.052248  \n",
       "1  [-0.86626744, 0.49958047]  18.555532  41.824707  \n",
       "2   [0.35533863, -0.9347376] -31.568941  -4.037198  \n",
       "3    [-0.7184594, 0.6955689]  32.738224  31.284283  \n",
       "4  [-0.97427684, 0.22535451]   6.676236  44.156738  "
      ]
     },
     "execution_count": 131,
     "metadata": {},
     "output_type": "execute_result"
    }
   ],
   "source": [
    "padded_docs_train_tech_df['tsne1'] = 0.0\n",
    "padded_docs_train_tech_df['tsne2'] = 0.0\n",
    "padded_docs_test_tech_df['tsne1'] = 0.0\n",
    "padded_docs_test_tech_df['tsne2'] = 0.0\n",
    "\n",
    "i=0\n",
    "for d, e in combined_words_r:\n",
    "    padded_docs_train_tech_df['tsne1'][i] = d\n",
    "    padded_docs_train_tech_df['tsne2'][i] = e\n",
    "    i+=1\n",
    "    \n",
    "i=0\n",
    "for d, e in combined_words_r:\n",
    "    padded_docs_test_tech_df['tsne1'][i] = d\n",
    "    padded_docs_test_tech_df['tsne2'][i] = e\n",
    "    i+=1\n",
    "    \n",
    "padded_docs_train_tech_df.head()"
   ]
  },
  {
   "cell_type": "code",
   "execution_count": 132,
   "metadata": {},
   "outputs": [
    {
     "data": {
      "text/html": [
       "<div>\n",
       "<style scoped>\n",
       "    .dataframe tbody tr th:only-of-type {\n",
       "        vertical-align: middle;\n",
       "    }\n",
       "\n",
       "    .dataframe tbody tr th {\n",
       "        vertical-align: top;\n",
       "    }\n",
       "\n",
       "    .dataframe thead th {\n",
       "        text-align: right;\n",
       "    }\n",
       "</style>\n",
       "<table border=\"1\" class=\"dataframe\">\n",
       "  <thead>\n",
       "    <tr style=\"text-align: right;\">\n",
       "      <th></th>\n",
       "      <th>1</th>\n",
       "      <th>2</th>\n",
       "      <th>3</th>\n",
       "      <th>4</th>\n",
       "      <th>5</th>\n",
       "      <th>combined_words</th>\n",
       "      <th>original_index</th>\n",
       "      <th>weights</th>\n",
       "      <th>tsne1</th>\n",
       "      <th>tsne2</th>\n",
       "    </tr>\n",
       "  </thead>\n",
       "  <tbody>\n",
       "    <tr>\n",
       "      <th>14</th>\n",
       "      <td>317</td>\n",
       "      <td>219</td>\n",
       "      <td>938</td>\n",
       "      <td>413</td>\n",
       "      <td>0</td>\n",
       "      <td>data visualization report automation</td>\n",
       "      <td>1160</td>\n",
       "      <td>[0.9097997, 0.4150476]</td>\n",
       "      <td>30.950512</td>\n",
       "      <td>-7.9658</td>\n",
       "    </tr>\n",
       "  </tbody>\n",
       "</table>\n",
       "</div>"
      ],
      "text/plain": [
       "      1    2    3    4  5                        combined_words  \\\n",
       "14  317  219  938  413  0  data visualization report automation   \n",
       "\n",
       "    original_index                 weights      tsne1   tsne2  \n",
       "14            1160  [0.9097997, 0.4150476]  30.950512 -7.9658  "
      ]
     },
     "execution_count": 132,
     "metadata": {},
     "output_type": "execute_result"
    }
   ],
   "source": [
    "padded_docs_train_tech_df[padded_docs_train_tech_df['original_index']==1160]"
   ]
  },
  {
   "cell_type": "code",
   "execution_count": 133,
   "metadata": {},
   "outputs": [
    {
     "data": {
      "text/html": [
       "<div>\n",
       "<style scoped>\n",
       "    .dataframe tbody tr th:only-of-type {\n",
       "        vertical-align: middle;\n",
       "    }\n",
       "\n",
       "    .dataframe tbody tr th {\n",
       "        vertical-align: top;\n",
       "    }\n",
       "\n",
       "    .dataframe thead th {\n",
       "        text-align: right;\n",
       "    }\n",
       "</style>\n",
       "<table border=\"1\" class=\"dataframe\">\n",
       "  <thead>\n",
       "    <tr style=\"text-align: right;\">\n",
       "      <th></th>\n",
       "      <th>1</th>\n",
       "      <th>2</th>\n",
       "      <th>3</th>\n",
       "      <th>4</th>\n",
       "      <th>5</th>\n",
       "      <th>combined_words</th>\n",
       "      <th>original_index</th>\n",
       "      <th>weights</th>\n",
       "      <th>tsne1</th>\n",
       "      <th>tsne2</th>\n",
       "    </tr>\n",
       "  </thead>\n",
       "  <tbody>\n",
       "    <tr>\n",
       "      <th>15</th>\n",
       "      <td>317</td>\n",
       "      <td>912</td>\n",
       "      <td>1187</td>\n",
       "      <td>0</td>\n",
       "      <td>0</td>\n",
       "      <td>data management initiative</td>\n",
       "      <td>979</td>\n",
       "      <td>[0.66212493, -0.7493934]</td>\n",
       "      <td>-3.717495</td>\n",
       "      <td>-10.073831</td>\n",
       "    </tr>\n",
       "  </tbody>\n",
       "</table>\n",
       "</div>"
      ],
      "text/plain": [
       "      1    2     3  4  5              combined_words  original_index  \\\n",
       "15  317  912  1187  0  0  data management initiative             979   \n",
       "\n",
       "                     weights     tsne1      tsne2  \n",
       "15  [0.66212493, -0.7493934] -3.717495 -10.073831  "
      ]
     },
     "execution_count": 133,
     "metadata": {},
     "output_type": "execute_result"
    }
   ],
   "source": [
    "padded_docs_train_tech_df[padded_docs_train_tech_df['original_index']==979]"
   ]
  },
  {
   "cell_type": "code",
   "execution_count": 62,
   "metadata": {},
   "outputs": [
    {
     "data": {
      "image/png": "[encoded data removed]",
      "text/plain": [
       "<Figure size 720x576 with 1 Axes>"
      ]
     },
     "metadata": {},
     "output_type": "display_data"
    }
   ],
   "source": [
    "InteractiveShell.ast_node_interactivity = 'last'\n",
    "\n",
    "plt.figure(figsize = (10, 8))\n",
    "plt.plot(combined_words_r[:, 0], combined_words_r[:, 1], 'r.')\n",
    "plt.xlabel('TSNE 1'); plt.ylabel('TSNE 2'); plt.title('Combined Words Embeddings Visualized with TSNE');"
   ]
  },
  {
   "cell_type": "code",
   "execution_count": 63,
   "metadata": {},
   "outputs": [
    {
     "data": {
      "text/html": [
       "<div>\n",
       "<style scoped>\n",
       "    .dataframe tbody tr th:only-of-type {\n",
       "        vertical-align: middle;\n",
       "    }\n",
       "\n",
       "    .dataframe tbody tr th {\n",
       "        vertical-align: top;\n",
       "    }\n",
       "\n",
       "    .dataframe thead th {\n",
       "        text-align: right;\n",
       "    }\n",
       "</style>\n",
       "<table border=\"1\" class=\"dataframe\">\n",
       "  <thead>\n",
       "    <tr style=\"text-align: right;\">\n",
       "      <th></th>\n",
       "      <th>1</th>\n",
       "      <th>2</th>\n",
       "      <th>3</th>\n",
       "      <th>4</th>\n",
       "      <th>5</th>\n",
       "      <th>combined_words</th>\n",
       "      <th>original_index</th>\n",
       "      <th>tsne1</th>\n",
       "      <th>tsne2</th>\n",
       "    </tr>\n",
       "  </thead>\n",
       "  <tbody>\n",
       "    <tr>\n",
       "      <th>0</th>\n",
       "      <td>431</td>\n",
       "      <td>887</td>\n",
       "      <td>0</td>\n",
       "      <td>0</td>\n",
       "      <td>0</td>\n",
       "      <td>evaluation results</td>\n",
       "      <td>46</td>\n",
       "      <td>18.362757</td>\n",
       "      <td>-1.975880</td>\n",
       "    </tr>\n",
       "    <tr>\n",
       "      <th>1</th>\n",
       "      <td>1621</td>\n",
       "      <td>1503</td>\n",
       "      <td>0</td>\n",
       "      <td>0</td>\n",
       "      <td>0</td>\n",
       "      <td>knowledge research</td>\n",
       "      <td>284</td>\n",
       "      <td>-0.511884</td>\n",
       "      <td>44.025364</td>\n",
       "    </tr>\n",
       "    <tr>\n",
       "      <th>2</th>\n",
       "      <td>564</td>\n",
       "      <td>1128</td>\n",
       "      <td>1101</td>\n",
       "      <td>1094</td>\n",
       "      <td>709</td>\n",
       "      <td>deliverables data analysis prepare reports</td>\n",
       "      <td>832</td>\n",
       "      <td>48.832333</td>\n",
       "      <td>11.574444</td>\n",
       "    </tr>\n",
       "    <tr>\n",
       "      <th>3</th>\n",
       "      <td>1511</td>\n",
       "      <td>1321</td>\n",
       "      <td>0</td>\n",
       "      <td>0</td>\n",
       "      <td>0</td>\n",
       "      <td>core concepts</td>\n",
       "      <td>1043</td>\n",
       "      <td>9.042949</td>\n",
       "      <td>13.699334</td>\n",
       "    </tr>\n",
       "    <tr>\n",
       "      <th>4</th>\n",
       "      <td>1844</td>\n",
       "      <td>1444</td>\n",
       "      <td>0</td>\n",
       "      <td>0</td>\n",
       "      <td>0</td>\n",
       "      <td>web applications</td>\n",
       "      <td>446</td>\n",
       "      <td>-3.455083</td>\n",
       "      <td>14.737556</td>\n",
       "    </tr>\n",
       "  </tbody>\n",
       "</table>\n",
       "</div>"
      ],
      "text/plain": [
       "      1     2     3     4    5                              combined_words  \\\n",
       "0   431   887     0     0    0                          evaluation results   \n",
       "1  1621  1503     0     0    0                          knowledge research   \n",
       "2   564  1128  1101  1094  709  deliverables data analysis prepare reports   \n",
       "3  1511  1321     0     0    0                               core concepts   \n",
       "4  1844  1444     0     0    0                            web applications   \n",
       "\n",
       "   original_index      tsne1      tsne2  \n",
       "0              46  18.362757  -1.975880  \n",
       "1             284  -0.511884  44.025364  \n",
       "2             832  48.832333  11.574444  \n",
       "3            1043   9.042949  13.699334  \n",
       "4             446  -3.455083  14.737556  "
      ]
     },
     "execution_count": 63,
     "metadata": {},
     "output_type": "execute_result"
    }
   ],
   "source": [
    "import random\n",
    "\n",
    "padded_docs_train_tech_df_rand = padded_docs_train_tech_df.iloc[\n",
    "    random.sample(range(0, len(padded_docs_train_tech_df.index)-1), 100)]\n",
    "padded_docs_train_tech_df_rand = padded_docs_train_tech_df_rand.reset_index().drop(columns = ('index'))\n",
    "padded_docs_train_tech_df_rand.head()"
   ]
  },
  {
   "cell_type": "code",
   "execution_count": 64,
   "metadata": {
    "scrolled": false
   },
   "outputs": [
    {
     "data": {
      "image/png": "[encoded data removed]",
      "text/plain": [
       "<Figure size 1440x1800 with 1 Axes>"
      ]
     },
     "metadata": {},
     "output_type": "display_data"
    }
   ],
   "source": [
    "InteractiveShell.ast_node_interactivity = 'last'\n",
    "\n",
    "plt.figure(figsize = (20, 25))\n",
    "plt.plot(padded_docs_train_tech_df_rand['tsne1'], padded_docs_train_tech_df_rand['tsne2'], 'r.')\n",
    "\n",
    "for i, txt in enumerate(padded_docs_train_tech_df_rand['combined_words']):\n",
    "    plt.annotate(txt, (padded_docs_train_tech_df_rand['tsne1'][i], padded_docs_train_tech_df_rand['tsne2'][i]))\n",
    "    \n",
    "plt.xlabel('TSNE 1'); plt.ylabel('TSNE 2'); plt.title('Combined Words Embeddings Visualized with TSNE');\n",
    "\n",
    "plt.savefig('Embeddings_sample.png')"
   ]
  },
  {
   "cell_type": "code",
   "execution_count": null,
   "metadata": {},
   "outputs": [],
   "source": []
  },
  {
   "cell_type": "markdown",
   "metadata": {},
   "source": [
    "## LSTM Test"
   ]
  },
  {
   "cell_type": "code",
   "execution_count": null,
   "metadata": {},
   "outputs": [],
   "source": [
    "STOPWORDS = set(stopwords.words('english'))\n",
    "\n",
    "InteractiveShell.ast_node_interactivity = 'all'\n",
    "\n",
    "cufflinks.go_offline()\n",
    "cufflinks.set_config_file(world_readable=True, theme='pearl')"
   ]
  },
  {
   "cell_type": "code",
   "execution_count": null,
   "metadata": {},
   "outputs": [],
   "source": [
    "# The maximum number of words to be used. (most frequent)\n",
    "MAX_NB_WORDS = 2000\n",
    "\n",
    "MAX_SEQUENCE_LENGTH = 5\n",
    "\n",
    "# This is the size of the vector space in which words will be embedded. \n",
    "# It defines the size of the output vectors from this layer for each word. \n",
    "EMBEDDING_DIM = 5\n",
    "\n",
    "# This is the length of input sequences. \n",
    "#For example, if all of your input documents are comprised of 1000 words, this would be 1000.\n",
    "INPUT_LENGTH = 5\n",
    "\n",
    "max_len = 1"
   ]
  },
  {
   "cell_type": "code",
   "execution_count": null,
   "metadata": {},
   "outputs": [],
   "source": [
    "lstm_model = Sequential()\n",
    "lstm_model.add(Embedding(MAX_NB_WORDS, EMBEDDING_DIM, input_length=5, dropout=0.2))\n",
    "lstm_model.add(SpatialDropout1D(0.2))\n",
    "\n",
    "lstm_model.add(LSTM(100, recurrent_dropout=0.2, dropout=0.2))\n",
    "lstm_model.add(Dense(max_len))\n",
    "lstm_model.add(Activation('relu'))\n",
    "\n",
    "lstm_model.compile(loss='binary_crossentropy',\n",
    "                  optimizer='rmsprop',\n",
    "                  metrics=['accuracy'])\n",
    "\n",
    "lstm_model.summary()"
   ]
  },
  {
   "cell_type": "code",
   "execution_count": null,
   "metadata": {},
   "outputs": [],
   "source": [
    "history = lstm_model.fit(padded_docs_train_tech, y_train_tech, epochs=10, batch_size=5 ,validation_split=0.2,callbacks=[EarlyStopping(monitor='val_loss', patience=3, min_delta=0.0001)])"
   ]
  },
  {
   "cell_type": "code",
   "execution_count": null,
   "metadata": {},
   "outputs": [],
   "source": [
    "lstm_predict_tech = lstm_model.predict(padded_docs_test_tech)\n",
    "\n",
    "df_lstm_tech= pd.DataFrame(X_test_tech)\n",
    "df_lstm_tech[\"skill_tech\"] = y_test_tech\n",
    "df_lstm_tech[\"prediction\"] = lstm_predict_tech.round(0)\n",
    "\n",
    "lstm_actual = df_lstm_tech.skill_tech.values\n",
    "lstm_predict_tech = df_lstm_tech.prediction.values.astype(int)\n",
    "\n",
    "lstm_confusion = confusion_matrix(lstm_actual, lstm_predict_tech)\n",
    "print(lstm_confusion)"
   ]
  },
  {
   "cell_type": "code",
   "execution_count": null,
   "metadata": {},
   "outputs": [],
   "source": [
    "df_lstm_tech[\"prediction_rounded\"] = lstm_predict_tech.round(2)"
   ]
  },
  {
   "cell_type": "code",
   "execution_count": null,
   "metadata": {},
   "outputs": [],
   "source": [
    "df_lstm_tech.head(5)"
   ]
  },
  {
   "cell_type": "code",
   "execution_count": null,
   "metadata": {},
   "outputs": [],
   "source": [
    "df_lstm_tech[\"prediction_adj\"] = df_lstm_tech[\"prediction_rounded\"].apply(lambda x: 0 if x <= .4 else 1 )\n",
    "df_lstm_tech.head(1)"
   ]
  },
  {
   "cell_type": "code",
   "execution_count": null,
   "metadata": {},
   "outputs": [],
   "source": [
    "score,acc = lstm_model.evaluate(padded_docs_test_tech, y_test_tech, verbose = 2, batch_size = 5)\n",
    "\n",
    "print(\"score: %.2f\" % (score))\n",
    "print(\"acc: %.2f\" % (acc))"
   ]
  },
  {
   "cell_type": "code",
   "execution_count": null,
   "metadata": {},
   "outputs": [],
   "source": [
    "plt.title('Loss')\n",
    "plt.plot(history.history['loss'], label='train')\n",
    "plt.plot(history.history['val_loss'], label='test')\n",
    "plt.legend()\n",
    "plt.show();"
   ]
  },
  {
   "cell_type": "code",
   "execution_count": null,
   "metadata": {},
   "outputs": [],
   "source": [
    "plt.title('Accuracy')\n",
    "plt.plot(history.history['accuracy'], label='train')\n",
    "plt.plot(history.history['val_accuracy'], label='test')\n",
    "plt.legend()\n",
    "plt.show();"
   ]
  },
  {
   "cell_type": "markdown",
   "metadata": {},
   "source": [
    "### Lenght of chunks "
   ]
  },
  {
   "cell_type": "code",
   "execution_count": null,
   "metadata": {},
   "outputs": [],
   "source": [
    "test = pd.DataFrame(X_train_tech.reset_index(drop = True))\n",
    "test['word_count'] = test['combined_words'].apply(lambda x: len(word_tokenize(x)))\n",
    "test[:5]"
   ]
  },
  {
   "cell_type": "code",
   "execution_count": null,
   "metadata": {},
   "outputs": [],
   "source": [
    "test.word_count.median()"
   ]
  },
  {
   "cell_type": "code",
   "execution_count": null,
   "metadata": {},
   "outputs": [],
   "source": [
    "test.word_count.mean()"
   ]
  },
  {
   "cell_type": "markdown",
   "metadata": {},
   "source": [
    "## Soft skills version: 20 vs 80 split\n"
   ]
  },
  {
   "cell_type": "code",
   "execution_count": null,
   "metadata": {},
   "outputs": [],
   "source": [
    "X_train_soft, X_test_soft, y_train_soft, y_test_soft = train_test_split(df_chunk[\"combined_words\"], df_chunk[\"Soft\"], test_size=0.2, random_state=42)\n",
    "X_train_soft.shape\n",
    "\n",
    "vocab_size = 250000\n",
    "encoded_docs_train_soft = [one_hot(d, vocab_size) for d in X_train_soft]\n",
    "\n",
    "# pad documents to a max length of 4 words\n",
    "max_length = 5\n",
    "padded_docs_train_soft = pad_sequences(encoded_docs_train_soft, maxlen=max_length, padding='post')\n",
    "print(padded_docs_train_soft)\n",
    "\n",
    "encoded_docs_test_soft = [one_hot(d, vocab_size) for d in X_test_soft]\n",
    "\n",
    "padded_docs_test_soft = pad_sequences(encoded_docs_test_soft, maxlen=max_length, padding='post')\n",
    "#print(padded_docs_test)\n",
    "\n",
    "# define the model\n",
    "model = Sequential()\n",
    "model.add(Embedding(vocab_size, 10, input_length=max_length))\n",
    "model.add(Flatten())\n",
    "model.add(Dense(1, activation='sigmoid'))\n",
    "\n",
    "# compile the model\n",
    "model.compile(optimizer='adam', loss='binary_crossentropy', metrics=['accuracy'])\n",
    "# summarize the model\n",
    "print(model.summary())\n",
    "\n",
    "# fit the model\n",
    "model.fit(padded_docs_train_soft, y_train_soft, epochs=20, verbose=0)\n",
    "\n",
    "model_soft = model.fit(padded_docs_train_soft, y_train_soft, epochs=25, validation_data = (padded_docs_test_soft, y_test_soft), verbose=2)\n",
    "\n",
    "#model.save('CNN_soft_may18_10pct.model')\n",
    "\n",
    "prediction_soft = model.predict(padded_docs_test_soft)\n",
    "\n",
    "df_soft= pd.DataFrame(X_test_soft)\n",
    "df_soft[\"skill_soft\"] = y_test_soft\n",
    "df_soft[\"prediction\"] = prediction_soft.round(0)\n",
    "df_soft.shape\n",
    "\n",
    "actual_values = df_soft.skill_soft.values\n",
    "predicted_values = df_soft.prediction.values.astype(int)\n",
    "\n",
    "confusion = confusion_matrix(actual_values, predicted_values)\n",
    "print(confusion)"
   ]
  },
  {
   "cell_type": "markdown",
   "metadata": {},
   "source": [
    "# Test full dataset"
   ]
  },
  {
   "cell_type": "code",
   "execution_count": null,
   "metadata": {},
   "outputs": [],
   "source": [
    "# The maximum number of words to be used. (most frequent)\n",
    "MAX_NB_WORDS = 250000\n",
    "\n",
    "MAX_SEQUENCE_LENGTH = 5\n",
    "\n",
    "# This is the size of the vector space in which words will be embedded. \n",
    "# It defines the size of the output vectors from this layer for each word. \n",
    "EMBEDDING_DIM = 5\n",
    "\n",
    "# This is the length of input sequences. \n",
    "#For example, if all of your input documents are comprised of 1000 words, this would be 1000.\n",
    "INPUT_LENGTH = 5\n",
    "\n",
    "#max_len = 1\n",
    "\n",
    "lstm_model = Sequential()\n",
    "lstm_model.add(Embedding(MAX_NB_WORDS, EMBEDDING_DIM, input_length=5, dropout=0.2))\n",
    "lstm_model.add(SpatialDropout1D(0.2))\n",
    "\n",
    "lstm_model.add(LSTM(100, recurrent_dropout=0.2, dropout=0.2))\n",
    "lstm_model.add(Dense(max_len))\n",
    "lstm_model.add(Activation('relu'))\n",
    "\n",
    "lstm_model.compile(loss='binary_crossentropy',\n",
    "                  optimizer='rmsprop',\n",
    "                  metrics=['accuracy'])\n",
    "\n",
    "lstm_model.summary()"
   ]
  },
  {
   "cell_type": "code",
   "execution_count": null,
   "metadata": {},
   "outputs": [],
   "source": [
    "vocab_size = 250000\n",
    "encoded_docs_train = [one_hot(d, vocab_size) for d in df_chunk_df_no_dups[\"combined_words\"]]"
   ]
  },
  {
   "cell_type": "code",
   "execution_count": null,
   "metadata": {},
   "outputs": [],
   "source": [
    "# pad documents to a max length of 4 words\n",
    "max_length = 5\n",
    "padded_docs_train = pad_sequences(encoded_docs_train, maxlen=max_length, padding='post')\n",
    "print(padded_docs_train)"
   ]
  },
  {
   "cell_type": "code",
   "execution_count": null,
   "metadata": {},
   "outputs": [],
   "source": [
    "prediction_full = lstm_model.predict(padded_docs_train)\n",
    "prediction_full.shape"
   ]
  },
  {
   "cell_type": "code",
   "execution_count": null,
   "metadata": {},
   "outputs": [],
   "source": [
    "df_chunk_no_dups[\"prediction\"] = prediction_full.round(2)\n",
    "df_chunk_no_dups[:5]"
   ]
  },
  {
   "cell_type": "code",
   "execution_count": null,
   "metadata": {},
   "outputs": [],
   "source": [
    "df_skill_predict = df_chunk_no_dups[df_chunk_no_dups[\"prediction\"] >= .8]\n",
    "df_noskill_predict = df_chunk_no_dups[df_chunk_no_dups[\"prediction\"] <= .2]"
   ]
  },
  {
   "cell_type": "code",
   "execution_count": null,
   "metadata": {},
   "outputs": [],
   "source": [
    "df_skill_predict[:10]"
   ]
  },
  {
   "cell_type": "code",
   "execution_count": null,
   "metadata": {},
   "outputs": [],
   "source": [
    "df_predict = pd.DataFrame(df_skill_predict.groupby([\"combined_words\", \"prediction\"]).count()[\"word_1\"].sort_values(ascending = False)).reset_index().rename(columns = {'word_1' : \"count\"})\n",
    "\n",
    "df_predict[:10]\n"
   ]
  },
  {
   "cell_type": "code",
   "execution_count": null,
   "metadata": {},
   "outputs": [],
   "source": []
  }
 ],
 "metadata": {
  "kernelspec": {
   "display_name": "Python 3",
   "language": "python",
   "name": "python3"
  },
  "language_info": {
   "codemirror_mode": {
    "name": "ipython",
    "version": 3
   },
   "file_extension": ".py",
   "mimetype": "text/x-python",
   "name": "python",
   "nbconvert_exporter": "python",
   "pygments_lexer": "ipython3",
   "version": "3.7.3"
  }
 },
 "nbformat": 4,
 "nbformat_minor": 2
}
