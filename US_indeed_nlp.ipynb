{
 "cells": [
  {
   "cell_type": "code",
   "execution_count": 1,
   "metadata": {},
   "outputs": [
    {
     "name": "stderr",
     "output_type": "stream",
     "text": [
      "Using TensorFlow backend.\n"
     ]
    }
   ],
   "source": [
    "# Import core\n",
    "import pandas as pd\n",
    "import numpy as np\n",
    "from numpy import array\n",
    "import matplotlib.pyplot as plt \n",
    "import re\n",
    "import gc\n",
    "import string\n",
    "from IPython.core.interactiveshell import InteractiveShell\n",
    "\n",
    "# Import custom\n",
    "from datetime import datetime, timedelta\n",
    "#from plotnine import *\n",
    "from pandas.api.types import CategoricalDtype\n",
    "#from plotnine.data import mpg\n",
    "#%matplotlib inline\n",
    "\n",
    "# Import NLTK related\n",
    "import nltk\n",
    "from nltk.tokenize import sent_tokenize, word_tokenize\n",
    "from nltk import ne_chunk, pos_tag\n",
    "from nltk.corpus import stopwords\n",
    "from nltk.probability import FreqDist\n",
    "from nltk.util import ngrams\n",
    "\n",
    "# Import visualization\n",
    "import seaborn as sns\n",
    "import plotly.graph_objs as go\n",
    "import plotly.figure_factory as ff\n",
    "from plotly.offline import iplot\n",
    "import chart_studio.plotly.plotly as py\n",
    "import cufflinks\n",
    "\n",
    "# Import keras\n",
    "from keras.models import Sequential\n",
    "from keras import layers\n",
    "from keras.preprocessing.text import one_hot\n",
    "from keras.preprocessing.sequence import pad_sequences\n",
    "from keras.models import Sequential\n",
    "from keras.layers import Dense, Flatten, Activation, Embedding, LSTM, SpatialDropout1D, Dropout\n",
    "#from keras.layers.embeddings import Embedding\n",
    "from keras.preprocessing.text import Tokenizer\n",
    "from keras.utils.np_utils import to_categorical\n",
    "from keras.callbacks import EarlyStopping\n",
    "\n",
    "# Import web-related\n",
    "from bs4 import BeautifulSoup\n",
    "\n",
    "# Import sklearn\n",
    "from sklearn.model_selection import train_test_split\n",
    "from sklearn.metrics import confusion_matrix"
   ]
  },
  {
   "cell_type": "code",
   "execution_count": 226,
   "metadata": {},
   "outputs": [
    {
     "data": {
      "text/plain": [
       "svmem(total=17179869184, available=6603304960, percent=61.6, used=9448456192, free=1194704896, active=5408485376, inactive=5398806528, wired=4039970816)"
      ]
     },
     "execution_count": 226,
     "metadata": {},
     "output_type": "execute_result"
    }
   ],
   "source": [
    "import psutil\n",
    "psutil.virtual_memory()"
   ]
  },
  {
   "cell_type": "markdown",
   "metadata": {},
   "source": [
    "# Definitions"
   ]
  },
  {
   "cell_type": "code",
   "execution_count": 20,
   "metadata": {},
   "outputs": [],
   "source": [
    "# Remove digits from location data so we have \"City, State\" format\n",
    "def remove_digits(df):\n",
    "    \"\"\"Remove digits from location\"\"\"\n",
    "    df[\"Location_Clean\"] = df[\"Location\"].replace(to_replace = r'\\d', value='', regex=True).str.rstrip()\n",
    "    \n",
    "    return df\n",
    "\n",
    "\n",
    "# Create a day index which will be used to calcultate when the job was posted\n",
    "def day_index(df):\n",
    "    \"\"\"Create a day index that represents how long ago the job was posted \"\"\"\n",
    "    \n",
    "    df_dummy = pd.DataFrame()\n",
    "    df_dummy[\"Day Index\"] = df[\"Date\"].str.split(\" \", expand=True).get(0)\n",
    "    df[\"Day Index\"] = df_dummy[\"Day Index\"].apply(lambda x: 0 if (x == 'Just' or x == 'Today') else x)\n",
    "    \n",
    "    return df\n",
    "\n",
    "# Create variables representing the week date range and week index in which the job was posted\n",
    "def week_posted(df):\n",
    "    \"\"\"Create a variable representing the week in which the job was posted\"\"\"\n",
    "    conditions_date = [\n",
    "        (df['Date Posted'] >= datetime(2020, 3, 4)) & (df['Date Posted'] <= datetime(2020, 3, 7)),\n",
    "        (df['Date Posted'] >= datetime(2020, 3, 8)) & (df['Date Posted'] <= datetime(2020, 3, 14)),\n",
    "        (df['Date Posted'] >= datetime(2020, 3, 15)) & (df['Date Posted'] <= datetime(2020, 3, 21)),\n",
    "        (df['Date Posted'] >= datetime(2020, 3, 22)) & (df['Date Posted'] <= datetime(2020, 3, 28)),\n",
    "        (df['Date Posted'] >= datetime(2020, 3, 29)) & (df['Date Posted'] <= datetime(2020, 4, 4)),\n",
    "        (df['Date Posted'] >= datetime(2020, 4, 5)) & (df['Date Posted'] <= datetime(2020, 4, 11)),\n",
    "        (df['Date Posted'] >= datetime(2020, 4, 12)) & (df['Date Posted'] <= datetime(2020, 4, 18))]\n",
    "    \n",
    "    conditions_index = [\n",
    "        (df['Date Posted'] >= datetime(2020, 3, 4)) & (df['Date Posted'] <= datetime(2020, 3, 7)),\n",
    "        (df['Date Posted'] >= datetime(2020, 3, 8)) & (df['Date Posted'] <= datetime(2020, 3, 14)),\n",
    "        (df['Date Posted'] >= datetime(2020, 3, 15)) & (df['Date Posted'] <= datetime(2020, 3, 21)),\n",
    "        (df['Date Posted'] >= datetime(2020, 3, 22)) & (df['Date Posted'] <= datetime(2020, 3, 28)),\n",
    "        (df['Date Posted'] >= datetime(2020, 3, 29)) & (df['Date Posted'] <= datetime(2020, 4, 4)),\n",
    "        (df['Date Posted'] >= datetime(2020, 4, 5)) & (df['Date Posted'] <= datetime(2020, 4, 11)),\n",
    "        (df['Date Posted'] >= datetime(2020, 4, 12)) & (df['Date Posted'] <= datetime(2020, 4, 18))]\n",
    "    \n",
    "    \n",
    "    \n",
    "    choices_date = ['Mar 1 - Mar 7','Mar 8 - Mar 14', 'Mar 15 - Mar 21', 'Mar 22 - Mar 28', 'Mar 29 - Apr 4', 'Apr 5 - Apr 11', 'Apr 12 - Apr 18']\n",
    "    choices_index = [0, 1, 2, 3, 4, 5, 6]\n",
    "\n",
    "    df['Week Posted'] = np.select(conditions_date, choices_date)\n",
    "    df['Week Index'] = np.select(conditions_index, choices_index)\n",
    "    return df\n"
   ]
  },
  {
   "cell_type": "markdown",
   "metadata": {},
   "source": [
    "## Import merged dataset"
   ]
  },
  {
   "cell_type": "code",
   "execution_count": 21,
   "metadata": {},
   "outputs": [
    {
     "data": {
      "text/html": [
       "<div>\n",
       "<style scoped>\n",
       "    .dataframe tbody tr th:only-of-type {\n",
       "        vertical-align: middle;\n",
       "    }\n",
       "\n",
       "    .dataframe tbody tr th {\n",
       "        vertical-align: top;\n",
       "    }\n",
       "\n",
       "    .dataframe thead th {\n",
       "        text-align: right;\n",
       "    }\n",
       "</style>\n",
       "<table border=\"1\" class=\"dataframe\">\n",
       "  <thead>\n",
       "    <tr style=\"text-align: right;\">\n",
       "      <th></th>\n",
       "      <th>Title</th>\n",
       "      <th>Location</th>\n",
       "      <th>Company</th>\n",
       "      <th>Rating</th>\n",
       "      <th>Salary</th>\n",
       "      <th>Sponsored</th>\n",
       "      <th>Date</th>\n",
       "      <th>As of Date</th>\n",
       "      <th>Description</th>\n",
       "      <th>Industry</th>\n",
       "      <th>Day Index</th>\n",
       "      <th>Date Posted</th>\n",
       "      <th>Week Posted</th>\n",
       "      <th>Week Index</th>\n",
       "    </tr>\n",
       "  </thead>\n",
       "  <tbody>\n",
       "    <tr>\n",
       "      <th>0</th>\n",
       "      <td>Data Scientist Analyst</td>\n",
       "      <td>Sunnyvale, CA</td>\n",
       "      <td>LOCKHEED MARTIN CORPORATION</td>\n",
       "      <td>4.0</td>\n",
       "      <td>None</td>\n",
       "      <td>None</td>\n",
       "      <td>2 days ago</td>\n",
       "      <td>2020-04-26</td>\n",
       "      <td>Perform exploratory research and analysis to i...</td>\n",
       "      <td>Datascience</td>\n",
       "      <td>2.0</td>\n",
       "      <td>2020-04-24</td>\n",
       "      <td>Apr 19 - Apr 25</td>\n",
       "      <td>7</td>\n",
       "    </tr>\n",
       "    <tr>\n",
       "      <th>1</th>\n",
       "      <td>Data Science Intern (Summer, 2020)</td>\n",
       "      <td>Westfield Center, OH</td>\n",
       "      <td>Westfield Insurance</td>\n",
       "      <td>4.0</td>\n",
       "      <td>None</td>\n",
       "      <td>None</td>\n",
       "      <td>1 day ago</td>\n",
       "      <td>2020-04-26</td>\n",
       "      <td>BUILD YOUR FUTURE, WHILE PROTECTING THEIRS.\\nY...</td>\n",
       "      <td>Datascience</td>\n",
       "      <td>1.0</td>\n",
       "      <td>2020-04-25</td>\n",
       "      <td>Apr 19 - Apr 25</td>\n",
       "      <td>7</td>\n",
       "    </tr>\n",
       "    <tr>\n",
       "      <th>2</th>\n",
       "      <td>Data Science Intern</td>\n",
       "      <td>San Diego, CA</td>\n",
       "      <td>HP</td>\n",
       "      <td>4.0</td>\n",
       "      <td>None</td>\n",
       "      <td>None</td>\n",
       "      <td>2 days ago</td>\n",
       "      <td>2020-04-26</td>\n",
       "      <td>Join us for a 12 week paid internship for the ...</td>\n",
       "      <td>Datascience</td>\n",
       "      <td>2.0</td>\n",
       "      <td>2020-04-24</td>\n",
       "      <td>Apr 19 - Apr 25</td>\n",
       "      <td>7</td>\n",
       "    </tr>\n",
       "    <tr>\n",
       "      <th>3</th>\n",
       "      <td>Data Scientist</td>\n",
       "      <td>Remote</td>\n",
       "      <td>Imperfect Foods</td>\n",
       "      <td>2.9</td>\n",
       "      <td>None</td>\n",
       "      <td>None</td>\n",
       "      <td>4 days ago</td>\n",
       "      <td>2020-04-26</td>\n",
       "      <td>About Imperfect\\n\\nImperfect Foods was founded...</td>\n",
       "      <td>Datascience</td>\n",
       "      <td>4.0</td>\n",
       "      <td>2020-04-22</td>\n",
       "      <td>Apr 19 - Apr 25</td>\n",
       "      <td>7</td>\n",
       "    </tr>\n",
       "    <tr>\n",
       "      <th>4</th>\n",
       "      <td>Data Scientist</td>\n",
       "      <td>Richland, WA</td>\n",
       "      <td>Pacific Northwest National Laboratory</td>\n",
       "      <td>4.1</td>\n",
       "      <td>None</td>\n",
       "      <td>None</td>\n",
       "      <td>1 day ago</td>\n",
       "      <td>2020-04-26</td>\n",
       "      <td>Organization and Job ID\\nJob ID: 310781\\nDirec...</td>\n",
       "      <td>Datascience</td>\n",
       "      <td>1.0</td>\n",
       "      <td>2020-04-25</td>\n",
       "      <td>Apr 19 - Apr 25</td>\n",
       "      <td>7</td>\n",
       "    </tr>\n",
       "  </tbody>\n",
       "</table>\n",
       "</div>"
      ],
      "text/plain": [
       "                                Title              Location  \\\n",
       "0              Data Scientist Analyst         Sunnyvale, CA   \n",
       "1  Data Science Intern (Summer, 2020)  Westfield Center, OH   \n",
       "2                 Data Science Intern         San Diego, CA   \n",
       "3                      Data Scientist                Remote   \n",
       "4                      Data Scientist          Richland, WA   \n",
       "\n",
       "                                 Company Rating Salary Sponsored        Date  \\\n",
       "0            LOCKHEED MARTIN CORPORATION    4.0   None      None  2 days ago   \n",
       "1                    Westfield Insurance    4.0   None      None   1 day ago   \n",
       "2                                     HP    4.0   None      None  2 days ago   \n",
       "3                        Imperfect Foods    2.9   None      None  4 days ago   \n",
       "4  Pacific Northwest National Laboratory    4.1   None      None   1 day ago   \n",
       "\n",
       "  As of Date                                        Description     Industry  \\\n",
       "0 2020-04-26  Perform exploratory research and analysis to i...  Datascience   \n",
       "1 2020-04-26  BUILD YOUR FUTURE, WHILE PROTECTING THEIRS.\\nY...  Datascience   \n",
       "2 2020-04-26  Join us for a 12 week paid internship for the ...  Datascience   \n",
       "3 2020-04-26  About Imperfect\\n\\nImperfect Foods was founded...  Datascience   \n",
       "4 2020-04-26  Organization and Job ID\\nJob ID: 310781\\nDirec...  Datascience   \n",
       "\n",
       "   Day Index Date Posted      Week Posted  Week Index  \n",
       "0        2.0  2020-04-24  Apr 19 - Apr 25           7  \n",
       "1        1.0  2020-04-25  Apr 19 - Apr 25           7  \n",
       "2        2.0  2020-04-24  Apr 19 - Apr 25           7  \n",
       "3        4.0  2020-04-22  Apr 19 - Apr 25           7  \n",
       "4        1.0  2020-04-25  Apr 19 - Apr 25           7  "
      ]
     },
     "execution_count": 21,
     "metadata": {},
     "output_type": "execute_result"
    }
   ],
   "source": [
    "df_usa = pd.read_csv('df_usa_april_week3_merged_no30days.csv')\n",
    "\n",
    "df_usa['As of Date'] = pd.to_datetime(df_usa['As of Date'])\n",
    "df_usa['Date Posted'] = pd.to_datetime(df_usa['Date Posted'])\n",
    "\n",
    "df_usa.head()\n",
    "#df_usa.pipe(week_posted).head()"
   ]
  },
  {
   "cell_type": "markdown",
   "metadata": {},
   "source": [
    "## NLP on Job Description"
   ]
  },
  {
   "cell_type": "code",
   "execution_count": null,
   "metadata": {},
   "outputs": [],
   "source": [
    "### 5 - Description\n",
    "#sents = sent_tokenize(df1[\"Description\"][1])\n",
    "#words = word_tokenize(df1[\"Description\"][1])"
   ]
  },
  {
   "cell_type": "code",
   "execution_count": 23,
   "metadata": {},
   "outputs": [],
   "source": [
    "def lower_tokens(df):\n",
    "    \"\"\"Convert descriptions to lower case and then tokenize them\"\"\"\n",
    "    description_lower = df[\"Description\"].apply(lambda x: x.lower())\n",
    "    df[\"Tokens\"] = description_lower.apply(lambda x: nltk.word_tokenize(x))    \n",
    "    return df\n",
    "\n",
    "def sentence(df):\n",
    "    description_lower = df[\"Description\"].apply(lambda x: x.lower())\n",
    "    df[\"Sentence\"] = description_lower.apply(lambda x: sent_tokenize(x))\n",
    "    return df"
   ]
  },
  {
   "cell_type": "code",
   "execution_count": 24,
   "metadata": {},
   "outputs": [
    {
     "data": {
      "text/html": [
       "<div>\n",
       "<style scoped>\n",
       "    .dataframe tbody tr th:only-of-type {\n",
       "        vertical-align: middle;\n",
       "    }\n",
       "\n",
       "    .dataframe tbody tr th {\n",
       "        vertical-align: top;\n",
       "    }\n",
       "\n",
       "    .dataframe thead th {\n",
       "        text-align: right;\n",
       "    }\n",
       "</style>\n",
       "<table border=\"1\" class=\"dataframe\">\n",
       "  <thead>\n",
       "    <tr style=\"text-align: right;\">\n",
       "      <th></th>\n",
       "      <th>Title</th>\n",
       "      <th>Location</th>\n",
       "      <th>Company</th>\n",
       "      <th>Rating</th>\n",
       "      <th>Salary</th>\n",
       "      <th>Sponsored</th>\n",
       "      <th>Date</th>\n",
       "      <th>As of Date</th>\n",
       "      <th>Description</th>\n",
       "      <th>Industry</th>\n",
       "      <th>Day Index</th>\n",
       "      <th>Date Posted</th>\n",
       "      <th>Week Posted</th>\n",
       "      <th>Week Index</th>\n",
       "      <th>Tokens</th>\n",
       "    </tr>\n",
       "  </thead>\n",
       "  <tbody>\n",
       "    <tr>\n",
       "      <th>0</th>\n",
       "      <td>Data Scientist Analyst</td>\n",
       "      <td>Sunnyvale, CA</td>\n",
       "      <td>LOCKHEED MARTIN CORPORATION</td>\n",
       "      <td>4.0</td>\n",
       "      <td>None</td>\n",
       "      <td>None</td>\n",
       "      <td>2 days ago</td>\n",
       "      <td>2020-04-26</td>\n",
       "      <td>Perform exploratory research and analysis to i...</td>\n",
       "      <td>Datascience</td>\n",
       "      <td>2.0</td>\n",
       "      <td>2020-04-24</td>\n",
       "      <td>Apr 19 - Apr 25</td>\n",
       "      <td>7</td>\n",
       "      <td>[perform, exploratory, research, and, analysis...</td>\n",
       "    </tr>\n",
       "  </tbody>\n",
       "</table>\n",
       "</div>"
      ],
      "text/plain": [
       "                    Title       Location                      Company Rating  \\\n",
       "0  Data Scientist Analyst  Sunnyvale, CA  LOCKHEED MARTIN CORPORATION    4.0   \n",
       "\n",
       "  Salary Sponsored        Date As of Date  \\\n",
       "0   None      None  2 days ago 2020-04-26   \n",
       "\n",
       "                                         Description     Industry  Day Index  \\\n",
       "0  Perform exploratory research and analysis to i...  Datascience        2.0   \n",
       "\n",
       "  Date Posted      Week Posted  Week Index  \\\n",
       "0  2020-04-24  Apr 19 - Apr 25           7   \n",
       "\n",
       "                                              Tokens  \n",
       "0  [perform, exploratory, research, and, analysis...  "
      ]
     },
     "execution_count": 24,
     "metadata": {},
     "output_type": "execute_result"
    }
   ],
   "source": [
    "# Takes about Duration: 0:00:59.713260\n",
    "df_usa.pipe(lower_tokens).head(1)"
   ]
  },
  {
   "cell_type": "code",
   "execution_count": 15,
   "metadata": {},
   "outputs": [
    {
     "data": {
      "text/html": [
       "<div>\n",
       "<style scoped>\n",
       "    .dataframe tbody tr th:only-of-type {\n",
       "        vertical-align: middle;\n",
       "    }\n",
       "\n",
       "    .dataframe tbody tr th {\n",
       "        vertical-align: top;\n",
       "    }\n",
       "\n",
       "    .dataframe thead th {\n",
       "        text-align: right;\n",
       "    }\n",
       "</style>\n",
       "<table border=\"1\" class=\"dataframe\">\n",
       "  <thead>\n",
       "    <tr style=\"text-align: right;\">\n",
       "      <th></th>\n",
       "      <th>Title</th>\n",
       "      <th>Location</th>\n",
       "      <th>Company</th>\n",
       "      <th>Rating</th>\n",
       "      <th>Salary</th>\n",
       "      <th>Sponsored</th>\n",
       "      <th>Date</th>\n",
       "      <th>As of Date</th>\n",
       "      <th>Description</th>\n",
       "      <th>Industry</th>\n",
       "      <th>Day Index</th>\n",
       "      <th>Date Posted</th>\n",
       "      <th>Week Posted</th>\n",
       "      <th>Week Index</th>\n",
       "      <th>Tokens</th>\n",
       "      <th>Sentence</th>\n",
       "    </tr>\n",
       "  </thead>\n",
       "  <tbody>\n",
       "    <tr>\n",
       "      <th>0</th>\n",
       "      <td>Data Scientist Analyst</td>\n",
       "      <td>Sunnyvale, CA</td>\n",
       "      <td>LOCKHEED MARTIN CORPORATION</td>\n",
       "      <td>4.0</td>\n",
       "      <td>None</td>\n",
       "      <td>None</td>\n",
       "      <td>2 days ago</td>\n",
       "      <td>2020-04-26</td>\n",
       "      <td>Perform exploratory research and analysis to i...</td>\n",
       "      <td>Datascience</td>\n",
       "      <td>2.0</td>\n",
       "      <td>2020-04-24</td>\n",
       "      <td>Apr 19 - Apr 25</td>\n",
       "      <td>7</td>\n",
       "      <td>[perform, exploratory, research, and, analysis...</td>\n",
       "      <td>[perform exploratory research and analysis to ...</td>\n",
       "    </tr>\n",
       "  </tbody>\n",
       "</table>\n",
       "</div>"
      ],
      "text/plain": [
       "                    Title       Location                      Company Rating  \\\n",
       "0  Data Scientist Analyst  Sunnyvale, CA  LOCKHEED MARTIN CORPORATION    4.0   \n",
       "\n",
       "  Salary Sponsored        Date As of Date  \\\n",
       "0   None      None  2 days ago 2020-04-26   \n",
       "\n",
       "                                         Description     Industry  Day Index  \\\n",
       "0  Perform exploratory research and analysis to i...  Datascience        2.0   \n",
       "\n",
       "  Date Posted      Week Posted  Week Index  \\\n",
       "0  2020-04-24  Apr 19 - Apr 25           7   \n",
       "\n",
       "                                              Tokens  \\\n",
       "0  [perform, exploratory, research, and, analysis...   \n",
       "\n",
       "                                            Sentence  \n",
       "0  [perform exploratory research and analysis to ...  "
      ]
     },
     "execution_count": 15,
     "metadata": {},
     "output_type": "execute_result"
    }
   ],
   "source": [
    "# Takes about Duration: 0:00:15\n",
    "df_usa.pipe(sentence).head(1)"
   ]
  },
  {
   "cell_type": "code",
   "execution_count": 16,
   "metadata": {},
   "outputs": [
    {
     "data": {
      "text/html": [
       "<div>\n",
       "<style scoped>\n",
       "    .dataframe tbody tr th:only-of-type {\n",
       "        vertical-align: middle;\n",
       "    }\n",
       "\n",
       "    .dataframe tbody tr th {\n",
       "        vertical-align: top;\n",
       "    }\n",
       "\n",
       "    .dataframe thead th {\n",
       "        text-align: right;\n",
       "    }\n",
       "</style>\n",
       "<table border=\"1\" class=\"dataframe\">\n",
       "  <thead>\n",
       "    <tr style=\"text-align: right;\">\n",
       "      <th></th>\n",
       "      <th>Title</th>\n",
       "      <th>Location</th>\n",
       "      <th>Company</th>\n",
       "      <th>Industry</th>\n",
       "      <th>Sentence</th>\n",
       "      <th>Description</th>\n",
       "    </tr>\n",
       "  </thead>\n",
       "  <tbody>\n",
       "    <tr>\n",
       "      <th>0</th>\n",
       "      <td>Data Scientist Analyst</td>\n",
       "      <td>Sunnyvale, CA</td>\n",
       "      <td>LOCKHEED MARTIN CORPORATION</td>\n",
       "      <td>Datascience</td>\n",
       "      <td>[perform exploratory research and analysis to ...</td>\n",
       "      <td>Perform exploratory research and analysis to i...</td>\n",
       "    </tr>\n",
       "  </tbody>\n",
       "</table>\n",
       "</div>"
      ],
      "text/plain": [
       "                    Title       Location                      Company  \\\n",
       "0  Data Scientist Analyst  Sunnyvale, CA  LOCKHEED MARTIN CORPORATION   \n",
       "\n",
       "      Industry                                           Sentence  \\\n",
       "0  Datascience  [perform exploratory research and analysis to ...   \n",
       "\n",
       "                                         Description  \n",
       "0  Perform exploratory research and analysis to i...  "
      ]
     },
     "execution_count": 16,
     "metadata": {},
     "output_type": "execute_result"
    }
   ],
   "source": [
    "skills_df = df_usa.filter(items=[\"Title\", \"Location\", \"Company\", \"Industry\", \"Sentence\", \"Description\"])\n",
    "skills_df.head(1)"
   ]
  },
  {
   "cell_type": "code",
   "execution_count": 25,
   "metadata": {},
   "outputs": [
    {
     "data": {
      "text/html": [
       "<div>\n",
       "<style scoped>\n",
       "    .dataframe tbody tr th:only-of-type {\n",
       "        vertical-align: middle;\n",
       "    }\n",
       "\n",
       "    .dataframe tbody tr th {\n",
       "        vertical-align: top;\n",
       "    }\n",
       "\n",
       "    .dataframe thead th {\n",
       "        text-align: right;\n",
       "    }\n",
       "</style>\n",
       "<table border=\"1\" class=\"dataframe\">\n",
       "  <thead>\n",
       "    <tr style=\"text-align: right;\">\n",
       "      <th></th>\n",
       "      <th>Title</th>\n",
       "      <th>Location</th>\n",
       "      <th>Company</th>\n",
       "      <th>Industry</th>\n",
       "      <th>Sentence</th>\n",
       "      <th>Description</th>\n",
       "      <th>sent_skills</th>\n",
       "    </tr>\n",
       "  </thead>\n",
       "  <tbody>\n",
       "    <tr>\n",
       "      <th>0</th>\n",
       "      <td>Data Scientist Analyst</td>\n",
       "      <td>Sunnyvale, CA</td>\n",
       "      <td>LOCKHEED MARTIN CORPORATION</td>\n",
       "      <td>Datascience</td>\n",
       "      <td>[perform exploratory research and analysis to ...</td>\n",
       "      <td>Perform exploratory research and analysis to i...</td>\n",
       "      <td>desired skills:\\npython\\nc++\\ndata engineering...</td>\n",
       "    </tr>\n",
       "  </tbody>\n",
       "</table>\n",
       "</div>"
      ],
      "text/plain": [
       "                    Title       Location                      Company  \\\n",
       "0  Data Scientist Analyst  Sunnyvale, CA  LOCKHEED MARTIN CORPORATION   \n",
       "\n",
       "      Industry                                           Sentence  \\\n",
       "0  Datascience  [perform exploratory research and analysis to ...   \n",
       "\n",
       "                                         Description  \\\n",
       "0  Perform exploratory research and analysis to i...   \n",
       "\n",
       "                                         sent_skills  \n",
       "0  desired skills:\\npython\\nc++\\ndata engineering...  "
      ]
     },
     "execution_count": 25,
     "metadata": {},
     "output_type": "execute_result"
    }
   ],
   "source": [
    "skills_df[\"sent_skills\"] = \"\"\n",
    "\n",
    "for i in skills_df.index:\n",
    "    sentence = skills_df[\"Sentence\"][i]\n",
    "    \n",
    "    for line in sentence:\n",
    "        skills = []\n",
    "        if \"skills\" in line:\n",
    "            skills.append(line)\n",
    "            skills_df[\"sent_skills\"][i] = ' '.join(map(str, skills))\n",
    "        \n",
    "skills_df.head(1)"
   ]
  },
  {
   "cell_type": "code",
   "execution_count": 11,
   "metadata": {},
   "outputs": [],
   "source": [
    "def lower_tokens(df):\n",
    "    \"\"\"Convert descriptions to lower case and then tokenize them\"\"\"\n",
    "    df[\"Tokens\"] = skills_df[\"sent_skills\"].apply(lambda x: nltk.word_tokenize(x))\n",
    "    \n",
    "    return df"
   ]
  },
  {
   "cell_type": "code",
   "execution_count": 26,
   "metadata": {
    "scrolled": false
   },
   "outputs": [
    {
     "data": {
      "text/html": [
       "<div>\n",
       "<style scoped>\n",
       "    .dataframe tbody tr th:only-of-type {\n",
       "        vertical-align: middle;\n",
       "    }\n",
       "\n",
       "    .dataframe tbody tr th {\n",
       "        vertical-align: top;\n",
       "    }\n",
       "\n",
       "    .dataframe thead th {\n",
       "        text-align: right;\n",
       "    }\n",
       "</style>\n",
       "<table border=\"1\" class=\"dataframe\">\n",
       "  <thead>\n",
       "    <tr style=\"text-align: right;\">\n",
       "      <th></th>\n",
       "      <th>Title</th>\n",
       "      <th>Location</th>\n",
       "      <th>Company</th>\n",
       "      <th>Industry</th>\n",
       "      <th>Sentence</th>\n",
       "      <th>Description</th>\n",
       "      <th>sent_skills</th>\n",
       "      <th>Tokens</th>\n",
       "    </tr>\n",
       "  </thead>\n",
       "  <tbody>\n",
       "    <tr>\n",
       "      <th>0</th>\n",
       "      <td>Data Scientist Analyst</td>\n",
       "      <td>Sunnyvale, CA</td>\n",
       "      <td>LOCKHEED MARTIN CORPORATION</td>\n",
       "      <td>Datascience</td>\n",
       "      <td>[perform exploratory research and analysis to ...</td>\n",
       "      <td>Perform exploratory research and analysis to i...</td>\n",
       "      <td>desired skills:\\npython\\nc++\\ndata engineering...</td>\n",
       "      <td>[perform, exploratory, research, and, analysis...</td>\n",
       "    </tr>\n",
       "  </tbody>\n",
       "</table>\n",
       "</div>"
      ],
      "text/plain": [
       "                    Title       Location                      Company  \\\n",
       "0  Data Scientist Analyst  Sunnyvale, CA  LOCKHEED MARTIN CORPORATION   \n",
       "\n",
       "      Industry                                           Sentence  \\\n",
       "0  Datascience  [perform exploratory research and analysis to ...   \n",
       "\n",
       "                                         Description  \\\n",
       "0  Perform exploratory research and analysis to i...   \n",
       "\n",
       "                                         sent_skills  \\\n",
       "0  desired skills:\\npython\\nc++\\ndata engineering...   \n",
       "\n",
       "                                              Tokens  \n",
       "0  [perform, exploratory, research, and, analysis...  "
      ]
     },
     "execution_count": 26,
     "metadata": {},
     "output_type": "execute_result"
    }
   ],
   "source": [
    "skills_df.pipe(lower_tokens).head(1)"
   ]
  },
  {
   "cell_type": "code",
   "execution_count": 29,
   "metadata": {},
   "outputs": [
    {
     "data": {
      "text/plain": [
       "'!\"#$%&\\'()*+,-./:;<=>?@[\\\\]^_`{|}~'"
      ]
     },
     "execution_count": 29,
     "metadata": {},
     "output_type": "execute_result"
    }
   ],
   "source": [
    "punctuation = string.punctuation \n",
    "punctuation"
   ]
  },
  {
   "cell_type": "code",
   "execution_count": 31,
   "metadata": {},
   "outputs": [
    {
     "name": "stdout",
     "output_type": "stream",
     "text": [
      "Duration: 0:32:14.360956\n"
     ]
    }
   ],
   "source": [
    "start_time = datetime.now()\n",
    "\n",
    "stop_words=set(stopwords.words('english'))\n",
    "\n",
    "skills_df[\"Tokens_wo_stop\"] = \"\"\n",
    "\n",
    "for i in skills_df.index:\n",
    "    filtered_sent = []\n",
    "    for w in skills_df[\"Tokens\"][i]:        \n",
    "        if w not in stop_words:\n",
    "            filtered_sent.append(w)\n",
    "            skills_df[\"Tokens_wo_stop\"][i] = filtered_sent\n",
    "            \n",
    "end_time = datetime.now()\n",
    "print('Duration: {}'.format(end_time - start_time))"
   ]
  },
  {
   "cell_type": "code",
   "execution_count": 32,
   "metadata": {},
   "outputs": [],
   "source": [
    "def skills_tokens (df):\n",
    "    total_skills = total_skills + df[\"Tokens_wo_stop\"]\n",
    "    return total_skills"
   ]
  },
  {
   "cell_type": "code",
   "execution_count": 33,
   "metadata": {},
   "outputs": [],
   "source": [
    "statistics=['statistical models','statistical modeling','probability','normal distribution','poisson distribution',\n",
    "            'survival models','hypothesis testing','bayesian testing','factor analysis','forecasting',\n",
    "           'markov chain','monte carlo']\n",
    "\n",
    "machine_learning=['machine learning', 'regression', 'classification', 'clustering', 'logistic', 'K means', 'random forest', 'xgboost', 'svm', \n",
    "                 'naive bayes', 'pca', 'decision trees', 'svd', 'ensemble models', 'boltzman machine']\n",
    "\n",
    "data_engineering=['aws', 'ec2','spark','s3','docker','kubernetes','scala','teradata','google big query',\n",
    "                  'hive','hadoop','sql']\n",
    "\n",
    "deep_learning=['neural', 'keras','theano','face detection','convolutional','object detection','yolo','gpu','cuda',\n",
    "                  'tensorflow','lstm','gan', 'opencv']\n",
    "\n",
    "r_language=['r', 'ggplot','shiny','cran','dplyr','tidyr','lubridate','knitr']\n",
    "            \n",
    "python_language=['python', 'flask','django','pandas','numpy','skitlearn','sklearn','matplotlib',\n",
    "                'scipy', 'bokeh','statsmodel']\n",
    "\n",
    "nlp=['nlp', 'lda','lsi','spacy','nltk']\n",
    "            "
   ]
  },
  {
   "cell_type": "markdown",
   "metadata": {},
   "source": [
    "# Start the new model from here. Work only with datascience jobs"
   ]
  },
  {
   "cell_type": "code",
   "execution_count": 37,
   "metadata": {
    "scrolled": true
   },
   "outputs": [
    {
     "data": {
      "text/html": [
       "<div>\n",
       "<style scoped>\n",
       "    .dataframe tbody tr th:only-of-type {\n",
       "        vertical-align: middle;\n",
       "    }\n",
       "\n",
       "    .dataframe tbody tr th {\n",
       "        vertical-align: top;\n",
       "    }\n",
       "\n",
       "    .dataframe thead th {\n",
       "        text-align: right;\n",
       "    }\n",
       "</style>\n",
       "<table border=\"1\" class=\"dataframe\">\n",
       "  <thead>\n",
       "    <tr style=\"text-align: right;\">\n",
       "      <th></th>\n",
       "      <th>Title</th>\n",
       "      <th>Location</th>\n",
       "      <th>Company</th>\n",
       "      <th>Rating</th>\n",
       "      <th>Salary</th>\n",
       "      <th>Sponsored</th>\n",
       "      <th>Date</th>\n",
       "      <th>As of Date</th>\n",
       "      <th>Description</th>\n",
       "      <th>Industry</th>\n",
       "      <th>Day Index</th>\n",
       "      <th>Date Posted</th>\n",
       "      <th>Week Posted</th>\n",
       "      <th>Week Index</th>\n",
       "      <th>Tokens</th>\n",
       "    </tr>\n",
       "  </thead>\n",
       "  <tbody>\n",
       "    <tr>\n",
       "      <th>0</th>\n",
       "      <td>Data Scientist Analyst</td>\n",
       "      <td>Sunnyvale, CA</td>\n",
       "      <td>LOCKHEED MARTIN CORPORATION</td>\n",
       "      <td>4.0</td>\n",
       "      <td>None</td>\n",
       "      <td>None</td>\n",
       "      <td>2 days ago</td>\n",
       "      <td>2020-04-26</td>\n",
       "      <td>Perform exploratory research and analysis to i...</td>\n",
       "      <td>Datascience</td>\n",
       "      <td>2.0</td>\n",
       "      <td>2020-04-24</td>\n",
       "      <td>Apr 19 - Apr 25</td>\n",
       "      <td>7</td>\n",
       "      <td>[perform, exploratory, research, and, analysis...</td>\n",
       "    </tr>\n",
       "  </tbody>\n",
       "</table>\n",
       "</div>"
      ],
      "text/plain": [
       "                    Title       Location                      Company Rating  \\\n",
       "0  Data Scientist Analyst  Sunnyvale, CA  LOCKHEED MARTIN CORPORATION    4.0   \n",
       "\n",
       "  Salary Sponsored        Date As of Date  \\\n",
       "0   None      None  2 days ago 2020-04-26   \n",
       "\n",
       "                                         Description     Industry  Day Index  \\\n",
       "0  Perform exploratory research and analysis to i...  Datascience        2.0   \n",
       "\n",
       "  Date Posted      Week Posted  Week Index  \\\n",
       "0  2020-04-24  Apr 19 - Apr 25           7   \n",
       "\n",
       "                                              Tokens  \n",
       "0  [perform, exploratory, research, and, analysis...  "
      ]
     },
     "execution_count": 37,
     "metadata": {},
     "output_type": "execute_result"
    }
   ],
   "source": [
    "df_ds = df_usa.copy()[df_usa[\"Industry\"] == \"Datascience\"]\n",
    "df_ds.head(1)"
   ]
  },
  {
   "cell_type": "code",
   "execution_count": 35,
   "metadata": {},
   "outputs": [],
   "source": [
    "## Functions\n",
    "\n",
    "punctuation = '!\"#$%\\'()*,-:;<=>?@[\\\\]^_`{|}~'\n",
    "\n",
    "def sentence(df, target_column):\n",
    "    description_clean = df[target_column].apply(lambda x: x.replace(\"\\n\", \" \"))\n",
    "    description_lower = description_clean.apply(lambda x: x.lower())\n",
    "    description_lower_no_punctuation = description_lower.apply(lambda x: x.translate(str.maketrans('', '', punctuation)))\n",
    "    df[\"Sentence\"] = description_lower_no_punctuation.apply(lambda x: sent_tokenize(x))\n",
    "    return df"
   ]
  },
  {
   "cell_type": "code",
   "execution_count": 38,
   "metadata": {},
   "outputs": [
    {
     "ename": "TypeError",
     "evalue": "'DataFrame' object is not callable",
     "output_type": "error",
     "traceback": [
      "\u001b[0;31m---------------------------------------------------------------------------\u001b[0m",
      "\u001b[0;31mTypeError\u001b[0m                                 Traceback (most recent call last)",
      "\u001b[0;32m<ipython-input-38-92116a0b8114>\u001b[0m in \u001b[0;36m<module>\u001b[0;34m\u001b[0m\n\u001b[0;32m----> 1\u001b[0;31m \u001b[0mdf_ds\u001b[0m\u001b[0;34m.\u001b[0m\u001b[0mpipe\u001b[0m\u001b[0;34m(\u001b[0m\u001b[0msentence\u001b[0m\u001b[0;34m(\u001b[0m\u001b[0mdf_ds\u001b[0m\u001b[0;34m,\u001b[0m \u001b[0;34m\"Description\"\u001b[0m\u001b[0;34m)\u001b[0m\u001b[0;34m)\u001b[0m\u001b[0;34m.\u001b[0m\u001b[0mhead\u001b[0m\u001b[0;34m(\u001b[0m\u001b[0;36m1\u001b[0m\u001b[0;34m)\u001b[0m\u001b[0;34m\u001b[0m\u001b[0;34m\u001b[0m\u001b[0m\n\u001b[0m",
      "\u001b[0;32m~/anaconda3/lib/python3.7/site-packages/pandas/core/generic.py\u001b[0m in \u001b[0;36mpipe\u001b[0;34m(self, func, *args, **kwargs)\u001b[0m\n\u001b[1;32m   4919\u001b[0m     \u001b[0;34m@\u001b[0m\u001b[0mAppender\u001b[0m\u001b[0;34m(\u001b[0m\u001b[0m_shared_docs\u001b[0m\u001b[0;34m[\u001b[0m\u001b[0;34m'pipe'\u001b[0m\u001b[0;34m]\u001b[0m \u001b[0;34m%\u001b[0m \u001b[0m_shared_doc_kwargs\u001b[0m\u001b[0;34m)\u001b[0m\u001b[0;34m\u001b[0m\u001b[0;34m\u001b[0m\u001b[0m\n\u001b[1;32m   4920\u001b[0m     \u001b[0;32mdef\u001b[0m \u001b[0mpipe\u001b[0m\u001b[0;34m(\u001b[0m\u001b[0mself\u001b[0m\u001b[0;34m,\u001b[0m \u001b[0mfunc\u001b[0m\u001b[0;34m,\u001b[0m \u001b[0;34m*\u001b[0m\u001b[0margs\u001b[0m\u001b[0;34m,\u001b[0m \u001b[0;34m**\u001b[0m\u001b[0mkwargs\u001b[0m\u001b[0;34m)\u001b[0m\u001b[0;34m:\u001b[0m\u001b[0;34m\u001b[0m\u001b[0;34m\u001b[0m\u001b[0m\n\u001b[0;32m-> 4921\u001b[0;31m         \u001b[0;32mreturn\u001b[0m \u001b[0mcom\u001b[0m\u001b[0;34m.\u001b[0m\u001b[0m_pipe\u001b[0m\u001b[0;34m(\u001b[0m\u001b[0mself\u001b[0m\u001b[0;34m,\u001b[0m \u001b[0mfunc\u001b[0m\u001b[0;34m,\u001b[0m \u001b[0;34m*\u001b[0m\u001b[0margs\u001b[0m\u001b[0;34m,\u001b[0m \u001b[0;34m**\u001b[0m\u001b[0mkwargs\u001b[0m\u001b[0;34m)\u001b[0m\u001b[0;34m\u001b[0m\u001b[0;34m\u001b[0m\u001b[0m\n\u001b[0m\u001b[1;32m   4922\u001b[0m \u001b[0;34m\u001b[0m\u001b[0m\n\u001b[1;32m   4923\u001b[0m     _shared_docs['aggregate'] = dedent(\"\"\"\n",
      "\u001b[0;32m~/anaconda3/lib/python3.7/site-packages/pandas/core/common.py\u001b[0m in \u001b[0;36m_pipe\u001b[0;34m(obj, func, *args, **kwargs)\u001b[0m\n\u001b[1;32m    452\u001b[0m         \u001b[0;32mreturn\u001b[0m \u001b[0mfunc\u001b[0m\u001b[0;34m(\u001b[0m\u001b[0;34m*\u001b[0m\u001b[0margs\u001b[0m\u001b[0;34m,\u001b[0m \u001b[0;34m**\u001b[0m\u001b[0mkwargs\u001b[0m\u001b[0;34m)\u001b[0m\u001b[0;34m\u001b[0m\u001b[0;34m\u001b[0m\u001b[0m\n\u001b[1;32m    453\u001b[0m     \u001b[0;32melse\u001b[0m\u001b[0;34m:\u001b[0m\u001b[0;34m\u001b[0m\u001b[0;34m\u001b[0m\u001b[0m\n\u001b[0;32m--> 454\u001b[0;31m         \u001b[0;32mreturn\u001b[0m \u001b[0mfunc\u001b[0m\u001b[0;34m(\u001b[0m\u001b[0mobj\u001b[0m\u001b[0;34m,\u001b[0m \u001b[0;34m*\u001b[0m\u001b[0margs\u001b[0m\u001b[0;34m,\u001b[0m \u001b[0;34m**\u001b[0m\u001b[0mkwargs\u001b[0m\u001b[0;34m)\u001b[0m\u001b[0;34m\u001b[0m\u001b[0;34m\u001b[0m\u001b[0m\n\u001b[0m\u001b[1;32m    455\u001b[0m \u001b[0;34m\u001b[0m\u001b[0m\n\u001b[1;32m    456\u001b[0m \u001b[0;34m\u001b[0m\u001b[0m\n",
      "\u001b[0;31mTypeError\u001b[0m: 'DataFrame' object is not callable"
     ]
    }
   ],
   "source": [
    "df_ds.pipe(sentence(df_ds, \"Description\")).head(1)"
   ]
  },
  {
   "cell_type": "markdown",
   "metadata": {},
   "source": [
    "## Chunk each sentence"
   ]
  },
  {
   "cell_type": "code",
   "execution_count": 39,
   "metadata": {},
   "outputs": [
    {
     "data": {
      "text/plain": [
       "'perform exploratory research and analysis to identify novel and meaningful patterns in data and uses statistical methods to reject or accept proposed hypotheses about relationships or latent predictive factors discovered through their work to provide business value.'"
      ]
     },
     "execution_count": 39,
     "metadata": {},
     "output_type": "execute_result"
    }
   ],
   "source": [
    "tokenized = []\n",
    "for i in df_ds.index:\n",
    "    tokenized = tokenized + df_ds.Sentence[i]\n",
    "    \n",
    "tokenized[0]"
   ]
  },
  {
   "cell_type": "code",
   "execution_count": 42,
   "metadata": {},
   "outputs": [
    {
     "name": "stdout",
     "output_type": "stream",
     "text": [
      "Duration: 0:00:58.025299\n"
     ]
    }
   ],
   "source": [
    "chunking_list = []\n",
    "def chunking():\n",
    "    \n",
    "    start_time = datetime.now()\n",
    "        \n",
    "    try:\n",
    "        for i in tokenized:\n",
    "            words = nltk.word_tokenize(i)\n",
    "            tagged = nltk.pos_tag(words)\n",
    "            \n",
    "            chunkGram = r\"\"\"Chunk: {<NN.*>+}\"\"\"\n",
    "            \n",
    "            chunkParser = nltk.RegexpParser(chunkGram)\n",
    "            chunked = chunkParser.parse(tagged)\n",
    "            for subtree in chunked.subtrees():\n",
    "                if subtree.label() == 'Chunk': \n",
    "                    chunking_list.append(subtree)\n",
    "                    #print(subtree)\n",
    "                    \n",
    "    except Exception as e:\n",
    "        print(str(e))\n",
    "\n",
    "    end_time = datetime.now()\n",
    "    print('Duration: {}'.format(end_time - start_time))\n",
    "        \n",
    "chunking()"
   ]
  },
  {
   "cell_type": "code",
   "execution_count": 157,
   "metadata": {},
   "outputs": [
    {
     "name": "stdout",
     "output_type": "stream",
     "text": [
      "(220680, 17)\n"
     ]
    }
   ],
   "source": [
    "df_chunk = pd.DataFrame(chunking_list)\n",
    "print(df_chunk.shape)"
   ]
  },
  {
   "cell_type": "markdown",
   "metadata": {},
   "source": [
    "## Investigate chunk data"
   ]
  },
  {
   "cell_type": "code",
   "execution_count": 158,
   "metadata": {},
   "outputs": [
    {
     "data": {
      "text/html": [
       "<div>\n",
       "<style scoped>\n",
       "    .dataframe tbody tr th:only-of-type {\n",
       "        vertical-align: middle;\n",
       "    }\n",
       "\n",
       "    .dataframe tbody tr th {\n",
       "        vertical-align: top;\n",
       "    }\n",
       "\n",
       "    .dataframe thead th {\n",
       "        text-align: right;\n",
       "    }\n",
       "</style>\n",
       "<table border=\"1\" class=\"dataframe\">\n",
       "  <thead>\n",
       "    <tr style=\"text-align: right;\">\n",
       "      <th></th>\n",
       "      <th>0</th>\n",
       "      <th>1</th>\n",
       "      <th>2</th>\n",
       "      <th>3</th>\n",
       "      <th>4</th>\n",
       "      <th>5</th>\n",
       "      <th>6</th>\n",
       "      <th>7</th>\n",
       "      <th>8</th>\n",
       "      <th>9</th>\n",
       "      <th>10</th>\n",
       "      <th>11</th>\n",
       "      <th>12</th>\n",
       "      <th>13</th>\n",
       "      <th>14</th>\n",
       "      <th>15</th>\n",
       "      <th>16</th>\n",
       "    </tr>\n",
       "  </thead>\n",
       "  <tbody>\n",
       "    <tr>\n",
       "      <th>0</th>\n",
       "      <td>(research, NN)</td>\n",
       "      <td>None</td>\n",
       "      <td>None</td>\n",
       "      <td>None</td>\n",
       "      <td>None</td>\n",
       "      <td>None</td>\n",
       "      <td>None</td>\n",
       "      <td>None</td>\n",
       "      <td>None</td>\n",
       "      <td>None</td>\n",
       "      <td>None</td>\n",
       "      <td>None</td>\n",
       "      <td>None</td>\n",
       "      <td>None</td>\n",
       "      <td>None</td>\n",
       "      <td>None</td>\n",
       "      <td>None</td>\n",
       "    </tr>\n",
       "  </tbody>\n",
       "</table>\n",
       "</div>"
      ],
      "text/plain": [
       "               0     1     2     3     4     5     6     7     8     9     10  \\\n",
       "0  (research, NN)  None  None  None  None  None  None  None  None  None  None   \n",
       "\n",
       "     11    12    13    14    15    16  \n",
       "0  None  None  None  None  None  None  "
      ]
     },
     "execution_count": 158,
     "metadata": {},
     "output_type": "execute_result"
    }
   ],
   "source": [
    "#df_chunk = pd.read_csv(\"datascience_chunks_may16.csv\")\n",
    "df_chunk.head(1)"
   ]
  },
  {
   "cell_type": "code",
   "execution_count": 159,
   "metadata": {},
   "outputs": [
    {
     "data": {
      "text/plain": [
       "(219227, 17)"
      ]
     },
     "execution_count": 159,
     "metadata": {},
     "output_type": "execute_result"
    }
   ],
   "source": [
    "df_chunk_v2 = df_chunk.copy()[df_chunk[5].isna() == True]\n",
    "df_chunk_v2.shape"
   ]
  },
  {
   "cell_type": "code",
   "execution_count": 160,
   "metadata": {},
   "outputs": [
    {
     "data": {
      "text/html": [
       "<div>\n",
       "<style scoped>\n",
       "    .dataframe tbody tr th:only-of-type {\n",
       "        vertical-align: middle;\n",
       "    }\n",
       "\n",
       "    .dataframe tbody tr th {\n",
       "        vertical-align: top;\n",
       "    }\n",
       "\n",
       "    .dataframe thead th {\n",
       "        text-align: right;\n",
       "    }\n",
       "</style>\n",
       "<table border=\"1\" class=\"dataframe\">\n",
       "  <thead>\n",
       "    <tr style=\"text-align: right;\">\n",
       "      <th></th>\n",
       "      <th>0</th>\n",
       "      <th>1</th>\n",
       "      <th>2</th>\n",
       "      <th>3</th>\n",
       "      <th>4</th>\n",
       "    </tr>\n",
       "  </thead>\n",
       "  <tbody>\n",
       "    <tr>\n",
       "      <th>0</th>\n",
       "      <td>(research, NN)</td>\n",
       "      <td>None</td>\n",
       "      <td>None</td>\n",
       "      <td>None</td>\n",
       "      <td>None</td>\n",
       "    </tr>\n",
       "  </tbody>\n",
       "</table>\n",
       "</div>"
      ],
      "text/plain": [
       "                0     1     2     3     4\n",
       "0  (research, NN)  None  None  None  None"
      ]
     },
     "execution_count": 160,
     "metadata": {},
     "output_type": "execute_result"
    }
   ],
   "source": [
    "df_chunk_v2 = df_chunk_v2.drop(columns = [5, 6, 7, 8, 9, 10, 11, 12, 13, 14, 15, 16])\n",
    "df_chunk_v2.head(1)"
   ]
  },
  {
   "cell_type": "code",
   "execution_count": 47,
   "metadata": {},
   "outputs": [],
   "source": [
    "def clean_chunk_data(df):\n",
    "        \"\"\"Convert df_chunk variables into correct format\"\"\"\n",
    "        df[\"word_1\"] = df[0].apply(lambda x: '' if x is None else x[0])\n",
    "        df[\"word_2\"] = df[1].apply(lambda x: '' if x is None else x[0])\n",
    "        df[\"word_3\"] = df[2].apply(lambda x: '' if x is None else x[0])\n",
    "        df[\"word_4\"] = df[3].apply(lambda x: '' if x is None else x[0])\n",
    "        df[\"word_5\"] = df[4].apply(lambda x: '' if x is None else x[0])\n",
    "        #df[\"word_6\"] = df[5].apply(lambda x: '' if x is None else x[0])\n",
    "        #df[\"word_7\"] = df[6].apply(lambda x: '' if x is None else x[0])\n",
    "        #df[\"word_8\"] = df[7].apply(lambda x: '' if x is None else x[0])\n",
    "        #df[\"word_9\"] = df[8].apply(lambda x: '' if x is None else x[0])\n",
    "        \n",
    "        df[\"combined_words\"] = df[\"word_1\"] + ' ' + df[\"word_2\"] + ' ' + df[\"word_3\"] + ' ' + df[\"word_4\"] + ' ' + df[\"word_5\"]\n",
    "        df[\"combined_words\"] = df[\"combined_words\"].str.rstrip()\n",
    "        return df "
   ]
  },
  {
   "cell_type": "code",
   "execution_count": 161,
   "metadata": {},
   "outputs": [
    {
     "data": {
      "text/html": [
       "<div>\n",
       "<style scoped>\n",
       "    .dataframe tbody tr th:only-of-type {\n",
       "        vertical-align: middle;\n",
       "    }\n",
       "\n",
       "    .dataframe tbody tr th {\n",
       "        vertical-align: top;\n",
       "    }\n",
       "\n",
       "    .dataframe thead th {\n",
       "        text-align: right;\n",
       "    }\n",
       "</style>\n",
       "<table border=\"1\" class=\"dataframe\">\n",
       "  <thead>\n",
       "    <tr style=\"text-align: right;\">\n",
       "      <th></th>\n",
       "      <th>0</th>\n",
       "      <th>1</th>\n",
       "      <th>2</th>\n",
       "      <th>3</th>\n",
       "      <th>4</th>\n",
       "      <th>word_1</th>\n",
       "      <th>word_2</th>\n",
       "      <th>word_3</th>\n",
       "      <th>word_4</th>\n",
       "      <th>word_5</th>\n",
       "      <th>combined_words</th>\n",
       "    </tr>\n",
       "  </thead>\n",
       "  <tbody>\n",
       "    <tr>\n",
       "      <th>0</th>\n",
       "      <td>(research, NN)</td>\n",
       "      <td>None</td>\n",
       "      <td>None</td>\n",
       "      <td>None</td>\n",
       "      <td>None</td>\n",
       "      <td>research</td>\n",
       "      <td></td>\n",
       "      <td></td>\n",
       "      <td></td>\n",
       "      <td></td>\n",
       "      <td>research</td>\n",
       "    </tr>\n",
       "  </tbody>\n",
       "</table>\n",
       "</div>"
      ],
      "text/plain": [
       "                0     1     2     3     4    word_1 word_2 word_3 word_4  \\\n",
       "0  (research, NN)  None  None  None  None  research                        \n",
       "\n",
       "  word_5 combined_words  \n",
       "0              research  "
      ]
     },
     "execution_count": 161,
     "metadata": {},
     "output_type": "execute_result"
    }
   ],
   "source": [
    "df_chunk_v2.pipe(clean_chunk_data).head(1)"
   ]
  },
  {
   "cell_type": "code",
   "execution_count": 162,
   "metadata": {},
   "outputs": [
    {
     "name": "stdout",
     "output_type": "stream",
     "text": [
      "(35701, 6)\n"
     ]
    }
   ],
   "source": [
    "df_chunk_no_dups = df_chunk_v2.copy().drop(columns = [0, 1, 2, 3, 4]).drop_duplicates()\n",
    "\n",
    "print(df_chunk_no_dups.shape)"
   ]
  },
  {
   "cell_type": "code",
   "execution_count": 149,
   "metadata": {},
   "outputs": [
    {
     "data": {
      "text/plain": [
       "(1000, 6)"
      ]
     },
     "execution_count": 149,
     "metadata": {},
     "output_type": "execute_result"
    }
   ],
   "source": [
    "df_chunk_training_1000 = df_chunk_no_dups.copy().sample(n = 1000) \n",
    "df_chunk_training_1000.shape"
   ]
  },
  {
   "cell_type": "code",
   "execution_count": 150,
   "metadata": {},
   "outputs": [
    {
     "data": {
      "text/html": [
       "<div>\n",
       "<style scoped>\n",
       "    .dataframe tbody tr th:only-of-type {\n",
       "        vertical-align: middle;\n",
       "    }\n",
       "\n",
       "    .dataframe tbody tr th {\n",
       "        vertical-align: top;\n",
       "    }\n",
       "\n",
       "    .dataframe thead th {\n",
       "        text-align: right;\n",
       "    }\n",
       "</style>\n",
       "<table border=\"1\" class=\"dataframe\">\n",
       "  <thead>\n",
       "    <tr style=\"text-align: right;\">\n",
       "      <th></th>\n",
       "      <th>word_1</th>\n",
       "      <th>word_2</th>\n",
       "      <th>word_3</th>\n",
       "      <th>word_4</th>\n",
       "      <th>word_5</th>\n",
       "      <th>combined_words</th>\n",
       "    </tr>\n",
       "  </thead>\n",
       "  <tbody>\n",
       "    <tr>\n",
       "      <th>186693</th>\n",
       "      <td>click</td>\n",
       "      <td>data</td>\n",
       "      <td>subscription</td>\n",
       "      <td></td>\n",
       "      <td></td>\n",
       "      <td>click data subscription</td>\n",
       "    </tr>\n",
       "    <tr>\n",
       "      <th>204857</th>\n",
       "      <td>shippers</td>\n",
       "      <td></td>\n",
       "      <td></td>\n",
       "      <td></td>\n",
       "      <td></td>\n",
       "      <td>shippers</td>\n",
       "    </tr>\n",
       "    <tr>\n",
       "      <th>198579</th>\n",
       "      <td>ssis</td>\n",
       "      <td>sas</td>\n",
       "      <td>powerbi</td>\n",
       "      <td></td>\n",
       "      <td></td>\n",
       "      <td>ssis sas powerbi</td>\n",
       "    </tr>\n",
       "    <tr>\n",
       "      <th>13615</th>\n",
       "      <td>patients</td>\n",
       "      <td>family</td>\n",
       "      <td>members</td>\n",
       "      <td>visitors</td>\n",
       "      <td></td>\n",
       "      <td>patients family members visitors</td>\n",
       "    </tr>\n",
       "    <tr>\n",
       "      <th>16936</th>\n",
       "      <td>environment</td>\n",
       "      <td>s3</td>\n",
       "      <td></td>\n",
       "      <td></td>\n",
       "      <td></td>\n",
       "      <td>environment s3</td>\n",
       "    </tr>\n",
       "  </tbody>\n",
       "</table>\n",
       "</div>"
      ],
      "text/plain": [
       "             word_1  word_2        word_3    word_4 word_5  \\\n",
       "186693        click    data  subscription                    \n",
       "204857     shippers                                          \n",
       "198579         ssis     sas       powerbi                    \n",
       "13615      patients  family       members  visitors          \n",
       "16936   environment      s3                                  \n",
       "\n",
       "                          combined_words  \n",
       "186693           click data subscription  \n",
       "204857                          shippers  \n",
       "198579                  ssis sas powerbi  \n",
       "13615   patients family members visitors  \n",
       "16936                     environment s3  "
      ]
     },
     "execution_count": 150,
     "metadata": {},
     "output_type": "execute_result"
    }
   ],
   "source": [
    "df_chunk_training_1000[:5]"
   ]
  },
  {
   "cell_type": "code",
   "execution_count": null,
   "metadata": {},
   "outputs": [],
   "source": [
    "#df_chunk_training_1000.to_csv(\"df_chunk_unique_part2_may16.csv\")"
   ]
  },
  {
   "cell_type": "markdown",
   "metadata": {},
   "source": [
    "## Import all data science chunks"
   ]
  },
  {
   "cell_type": "code",
   "execution_count": 165,
   "metadata": {},
   "outputs": [
    {
     "data": {
      "text/html": [
       "<div>\n",
       "<style scoped>\n",
       "    .dataframe tbody tr th:only-of-type {\n",
       "        vertical-align: middle;\n",
       "    }\n",
       "\n",
       "    .dataframe tbody tr th {\n",
       "        vertical-align: top;\n",
       "    }\n",
       "\n",
       "    .dataframe thead th {\n",
       "        text-align: right;\n",
       "    }\n",
       "</style>\n",
       "<table border=\"1\" class=\"dataframe\">\n",
       "  <thead>\n",
       "    <tr style=\"text-align: right;\">\n",
       "      <th></th>\n",
       "      <th>combined_words</th>\n",
       "      <th>Technical</th>\n",
       "      <th>Soft</th>\n",
       "    </tr>\n",
       "  </thead>\n",
       "  <tbody>\n",
       "    <tr>\n",
       "      <th>0</th>\n",
       "      <td>business cases experience</td>\n",
       "      <td>0</td>\n",
       "      <td>1</td>\n",
       "    </tr>\n",
       "  </tbody>\n",
       "</table>\n",
       "</div>"
      ],
      "text/plain": [
       "              combined_words  Technical  Soft\n",
       "0  business cases experience          0     1"
      ]
     },
     "execution_count": 165,
     "metadata": {},
     "output_type": "execute_result"
    }
   ],
   "source": [
    "#df_chunk = pd.read_csv(\"datascience_chunks_may16.csv\")\n",
    "\n",
    "df_tagged_chunk_0_to_1000 = pd.read_csv(\"df_chunk_unique_may16_tagged.csv\", usecols = [\"combined_words\", \"Technical\", \"Soft\"])\n",
    "df_tagged_chunk_1001_to_2000 = pd.read_csv(\"df_chunk_unique_part2_may16_tagged.csv\", usecols = [\"combined_words\", \"Technical\", \"Soft\"])\n",
    "df_tagged_chunk = df_tagged_chunk_0_to_1000.append(df_tagged_chunk_1001_to_2000).reset_index().drop(columns = ('index'))\n",
    "\n",
    "df_tagged_chunk.head(1)"
   ]
  },
  {
   "cell_type": "code",
   "execution_count": 167,
   "metadata": {},
   "outputs": [
    {
     "data": {
      "text/html": [
       "<div>\n",
       "<style scoped>\n",
       "    .dataframe tbody tr th:only-of-type {\n",
       "        vertical-align: middle;\n",
       "    }\n",
       "\n",
       "    .dataframe tbody tr th {\n",
       "        vertical-align: top;\n",
       "    }\n",
       "\n",
       "    .dataframe thead th {\n",
       "        text-align: right;\n",
       "    }\n",
       "</style>\n",
       "<table border=\"1\" class=\"dataframe\">\n",
       "  <thead>\n",
       "    <tr style=\"text-align: right;\">\n",
       "      <th></th>\n",
       "      <th>combined_words</th>\n",
       "      <th>Technical</th>\n",
       "      <th>Soft</th>\n",
       "    </tr>\n",
       "  </thead>\n",
       "  <tbody>\n",
       "    <tr>\n",
       "      <th>0</th>\n",
       "      <td>source data stores</td>\n",
       "      <td>1</td>\n",
       "      <td>0</td>\n",
       "    </tr>\n",
       "  </tbody>\n",
       "</table>\n",
       "</div>"
      ],
      "text/plain": [
       "       combined_words  Technical  Soft\n",
       "0  source data stores          1     0"
      ]
     },
     "execution_count": 167,
     "metadata": {},
     "output_type": "execute_result"
    }
   ],
   "source": [
    "df_chunk_tech_1 = df_tagged_chunk[df_tagged_chunk[\"Technical\"] == 1]\n",
    "df_chunk_tech_0 = df_tagged_chunk[df_tagged_chunk[\"Technical\"] == 0].sample(n=598, random_state=1)\n",
    "\n",
    "df_chunk_tech = df_chunk_tech_1.append(df_chunk_tech_0).sample(frac = 1).reset_index(drop = True)\n",
    "df_chunk_tech.head(1)"
   ]
  },
  {
   "cell_type": "code",
   "execution_count": 168,
   "metadata": {},
   "outputs": [
    {
     "data": {
      "text/plain": [
       "(1196, 3)"
      ]
     },
     "execution_count": 168,
     "metadata": {},
     "output_type": "execute_result"
    }
   ],
   "source": [
    "df_chunk_tech.shape"
   ]
  },
  {
   "cell_type": "markdown",
   "metadata": {},
   "source": [
    "# Word embeddings model"
   ]
  },
  {
   "cell_type": "code",
   "execution_count": 213,
   "metadata": {},
   "outputs": [
    {
     "data": {
      "text/plain": [
       "(1076,)"
      ]
     },
     "execution_count": 213,
     "metadata": {},
     "output_type": "execute_result"
    },
    {
     "data": {
      "text/plain": [
       "(120,)"
      ]
     },
     "execution_count": 213,
     "metadata": {},
     "output_type": "execute_result"
    },
    {
     "data": {
      "text/plain": [
       "943    output routines\n",
       "906       agronÃ³micos\n",
       "Name: combined_words, dtype: object"
      ]
     },
     "execution_count": 213,
     "metadata": {},
     "output_type": "execute_result"
    }
   ],
   "source": [
    "X_train_tech, X_test_tech, y_train_tech, y_test_tech = train_test_split(df_chunk_tech[\"combined_words\"], df_chunk_tech[\"Technical\"], test_size=0.1, random_state=42)\n",
    "X_train_tech.shape\n",
    "X_test_tech.shape\n",
    "X_train_tech[:2]"
   ]
  },
  {
   "cell_type": "code",
   "execution_count": 211,
   "metadata": {},
   "outputs": [
    {
     "data": {
      "text/plain": [
       "[[517, 1271], [195]]"
      ]
     },
     "execution_count": 211,
     "metadata": {},
     "output_type": "execute_result"
    }
   ],
   "source": [
    "vocab_size = 2000\n",
    "encoded_docs_train_tech = [one_hot(d, vocab_size) for d in X_train_tech]\n",
    "encoded_docs_train_tech[0:2]"
   ]
  },
  {
   "cell_type": "code",
   "execution_count": 177,
   "metadata": {},
   "outputs": [
    {
     "name": "stdout",
     "output_type": "stream",
     "text": [
      "[[ 517 1271    0    0    0]\n",
      " [ 195    0    0    0    0]\n",
      " [ 445   57    0    0    0]\n",
      " [1716  217    0    0    0]\n",
      " [1462    0    0    0    0]]\n"
     ]
    }
   ],
   "source": [
    "# pad documents to a max length of 4 words\n",
    "max_length = 5\n",
    "padded_docs_train_tech = pad_sequences(encoded_docs_train_tech, maxlen=max_length, padding='post')\n",
    "print(padded_docs_train_tech[:5])"
   ]
  },
  {
   "cell_type": "code",
   "execution_count": 63,
   "metadata": {},
   "outputs": [],
   "source": [
    "encoded_docs_test_tech = [one_hot(d, vocab_size) for d in X_test_tech]\n",
    "\n",
    "padded_docs_test_tech = pad_sequences(encoded_docs_test_tech, maxlen=max_length, padding='post')\n",
    "#print(padded_docs_test)"
   ]
  },
  {
   "cell_type": "code",
   "execution_count": 178,
   "metadata": {},
   "outputs": [],
   "source": [
    "# define the model\n",
    "embeddings_model = Sequential()\n",
    "embeddings_model.add(Embedding(vocab_size, 10, input_length=max_length))\n",
    "embeddings_model.add(Flatten())\n",
    "embeddings_model.add(Dense(1, activation='sigmoid'))"
   ]
  },
  {
   "cell_type": "code",
   "execution_count": 181,
   "metadata": {},
   "outputs": [
    {
     "name": "stdout",
     "output_type": "stream",
     "text": [
      "Model: \"sequential_8\"\n",
      "_________________________________________________________________\n",
      "Layer (type)                 Output Shape              Param #   \n",
      "=================================================================\n",
      "embedding_8 (Embedding)      (None, 5, 10)             20000     \n",
      "_________________________________________________________________\n",
      "flatten_3 (Flatten)          (None, 50)                0         \n",
      "_________________________________________________________________\n",
      "dense_11 (Dense)             (None, 1)                 51        \n",
      "=================================================================\n",
      "Total params: 20,051\n",
      "Trainable params: 20,051\n",
      "Non-trainable params: 0\n",
      "_________________________________________________________________\n",
      "None\n"
     ]
    }
   ],
   "source": [
    "# compile the model\n",
    "embeddings_model.compile(optimizer='adam', loss='binary_crossentropy', metrics=['accuracy'])\n",
    "# summarize the model\n",
    "print(embeddings_model.summary())"
   ]
  },
  {
   "cell_type": "code",
   "execution_count": 182,
   "metadata": {},
   "outputs": [
    {
     "name": "stderr",
     "output_type": "stream",
     "text": [
      "/Users/pavel/anaconda3/lib/python3.7/site-packages/tensorflow_core/python/framework/indexed_slices.py:433: UserWarning:\n",
      "\n",
      "Converting sparse IndexedSlices to a dense Tensor of unknown shape. This may consume a large amount of memory.\n",
      "\n",
      "/Users/pavel/anaconda3/lib/python3.7/site-packages/tensorflow_core/python/framework/indexed_slices.py:433: UserWarning:\n",
      "\n",
      "Converting sparse IndexedSlices to a dense Tensor of unknown shape. This may consume a large amount of memory.\n",
      "\n"
     ]
    },
    {
     "data": {
      "text/plain": [
       "<keras.callbacks.callbacks.History at 0x1a6ffa940>"
      ]
     },
     "execution_count": 182,
     "metadata": {},
     "output_type": "execute_result"
    }
   ],
   "source": [
    "# fit the model\n",
    "embeddings_model.fit(padded_docs_train_tech, y_train_tech, epochs=20, verbose=0)"
   ]
  },
  {
   "cell_type": "code",
   "execution_count": 183,
   "metadata": {},
   "outputs": [
    {
     "name": "stdout",
     "output_type": "stream",
     "text": [
      "Train on 1076 samples, validate on 120 samples\n",
      "Epoch 1/25\n",
      " - 0s - loss: 0.2185 - accuracy: 0.9638 - val_loss: 1.0456 - val_accuracy: 0.5333\n",
      "Epoch 2/25\n",
      " - 0s - loss: 0.2049 - accuracy: 0.9703 - val_loss: 1.0782 - val_accuracy: 0.5250\n",
      "Epoch 3/25\n",
      " - 0s - loss: 0.1924 - accuracy: 0.9740 - val_loss: 1.1106 - val_accuracy: 0.5250\n",
      "Epoch 4/25\n",
      " - 0s - loss: 0.1809 - accuracy: 0.9758 - val_loss: 1.1432 - val_accuracy: 0.5083\n",
      "Epoch 5/25\n",
      " - 0s - loss: 0.1702 - accuracy: 0.9805 - val_loss: 1.1773 - val_accuracy: 0.5083\n",
      "Epoch 6/25\n",
      " - 0s - loss: 0.1604 - accuracy: 0.9823 - val_loss: 1.2097 - val_accuracy: 0.5083\n",
      "Epoch 7/25\n",
      " - 0s - loss: 0.1515 - accuracy: 0.9842 - val_loss: 1.2403 - val_accuracy: 0.5083\n",
      "Epoch 8/25\n",
      " - 0s - loss: 0.1433 - accuracy: 0.9842 - val_loss: 1.2737 - val_accuracy: 0.5083\n",
      "Epoch 9/25\n",
      " - 0s - loss: 0.1356 - accuracy: 0.9851 - val_loss: 1.3053 - val_accuracy: 0.5167\n",
      "Epoch 10/25\n",
      " - 0s - loss: 0.1288 - accuracy: 0.9861 - val_loss: 1.3374 - val_accuracy: 0.5167\n",
      "Epoch 11/25\n",
      " - 0s - loss: 0.1222 - accuracy: 0.9870 - val_loss: 1.3686 - val_accuracy: 0.5167\n",
      "Epoch 12/25\n",
      " - 0s - loss: 0.1161 - accuracy: 0.9879 - val_loss: 1.3984 - val_accuracy: 0.5083\n",
      "Epoch 13/25\n",
      " - 0s - loss: 0.1106 - accuracy: 0.9879 - val_loss: 1.4294 - val_accuracy: 0.5083\n",
      "Epoch 14/25\n",
      " - 0s - loss: 0.1055 - accuracy: 0.9879 - val_loss: 1.4615 - val_accuracy: 0.5083\n",
      "Epoch 15/25\n",
      " - 0s - loss: 0.1006 - accuracy: 0.9879 - val_loss: 1.4904 - val_accuracy: 0.5083\n",
      "Epoch 16/25\n",
      " - 0s - loss: 0.0961 - accuracy: 0.9888 - val_loss: 1.5201 - val_accuracy: 0.5083\n",
      "Epoch 17/25\n",
      " - 0s - loss: 0.0919 - accuracy: 0.9879 - val_loss: 1.5497 - val_accuracy: 0.5083\n",
      "Epoch 18/25\n",
      " - 0s - loss: 0.0880 - accuracy: 0.9888 - val_loss: 1.5777 - val_accuracy: 0.5083\n",
      "Epoch 19/25\n",
      " - 0s - loss: 0.0844 - accuracy: 0.9888 - val_loss: 1.6073 - val_accuracy: 0.5083\n",
      "Epoch 20/25\n",
      " - 0s - loss: 0.0809 - accuracy: 0.9879 - val_loss: 1.6339 - val_accuracy: 0.5083\n",
      "Epoch 21/25\n",
      " - 0s - loss: 0.0778 - accuracy: 0.9879 - val_loss: 1.6631 - val_accuracy: 0.5083\n",
      "Epoch 22/25\n",
      " - 0s - loss: 0.0747 - accuracy: 0.9870 - val_loss: 1.6883 - val_accuracy: 0.5083\n",
      "Epoch 23/25\n",
      " - 0s - loss: 0.0719 - accuracy: 0.9888 - val_loss: 1.7166 - val_accuracy: 0.5083\n",
      "Epoch 24/25\n",
      " - 0s - loss: 0.0693 - accuracy: 0.9870 - val_loss: 1.7422 - val_accuracy: 0.5083\n",
      "Epoch 25/25\n",
      " - 0s - loss: 0.0667 - accuracy: 0.9898 - val_loss: 1.7675 - val_accuracy: 0.5083\n"
     ]
    }
   ],
   "source": [
    "model_tech = embeddings_model.fit(padded_docs_train_tech, y_train_tech, epochs=25, validation_data = (padded_docs_test_tech, y_test_tech), verbose=2)"
   ]
  },
  {
   "cell_type": "code",
   "execution_count": 68,
   "metadata": {},
   "outputs": [],
   "source": [
    "plt.style.use('ggplot')\n",
    "\n",
    "def plot_history(history):\n",
    "    acc = history.history['accuracy']\n",
    "    val_acc = history.history['val_accuracy']\n",
    "    loss = history.history['loss']\n",
    "    val_loss = history.history['val_loss']\n",
    "    x = range(1, len(acc) + 1)\n",
    "\n",
    "    plt.figure(figsize=(12, 5))\n",
    "    plt.subplot(1, 2, 1)\n",
    "    plt.plot(x, acc, 'b', label='Training acc')\n",
    "    plt.plot(x, val_acc, 'r', label='Validation acc')\n",
    "    plt.title('Training and validation accuracy')\n",
    "    plt.legend()\n",
    "    plt.subplot(1, 2, 2)\n",
    "    plt.plot(x, loss, 'b', label='Training loss')\n",
    "    plt.plot(x, val_loss, 'r', label='Validation loss')\n",
    "    plt.title('Training and validation loss')\n",
    "    plt.legend()"
   ]
  },
  {
   "cell_type": "code",
   "execution_count": 184,
   "metadata": {},
   "outputs": [
    {
     "name": "stdout",
     "output_type": "stream",
     "text": [
      "Training Accuracy: 0.9926\n",
      "Testing Accuracy:  0.5000\n"
     ]
    },
    {
     "data": {
      "image/png": "[encoded data removed]",
      "text/plain": [
       "<Figure size 864x360 with 2 Axes>"
      ]
     },
     "metadata": {},
     "output_type": "display_data"
    }
   ],
   "source": [
    "test_sample = \"analytical skills\"\n",
    "\n",
    "history = embeddings_model.fit(padded_docs_train_tech, y_train_tech,\n",
    "                    epochs=20,\n",
    "                    verbose=False,\n",
    "                    validation_data=(padded_docs_test_tech, y_test_tech),\n",
    "                    batch_size=10)\n",
    "\n",
    "loss, accuracy = embeddings_model.evaluate(padded_docs_train_tech, y_train_tech, verbose=False)\n",
    "print(\"Training Accuracy: {:.4f}\".format(accuracy))\n",
    "loss, accuracy = embeddings_model.evaluate(padded_docs_test_tech, y_test_tech, verbose=False)\n",
    "print(\"Testing Accuracy:  {:.4f}\".format(accuracy))\n",
    "plot_history(history)"
   ]
  },
  {
   "cell_type": "code",
   "execution_count": 70,
   "metadata": {},
   "outputs": [],
   "source": [
    "#model.save('CNN_test_may18_10pct.model')"
   ]
  },
  {
   "cell_type": "markdown",
   "metadata": {},
   "source": [
    "## Test model prediction"
   ]
  },
  {
   "cell_type": "code",
   "execution_count": 185,
   "metadata": {},
   "outputs": [],
   "source": [
    "prediction_tech = embeddings_model.predict(padded_docs_test_tech)"
   ]
  },
  {
   "cell_type": "code",
   "execution_count": 186,
   "metadata": {},
   "outputs": [
    {
     "data": {
      "text/plain": [
       "(120, 3)"
      ]
     },
     "execution_count": 186,
     "metadata": {},
     "output_type": "execute_result"
    }
   ],
   "source": [
    "df_tech= pd.DataFrame(X_test_tech)\n",
    "df_tech[\"skill_tech\"] = y_test_tech\n",
    "df_tech[\"prediction\"] = prediction_tech.round(0)\n",
    "df_tech.shape"
   ]
  },
  {
   "cell_type": "code",
   "execution_count": 187,
   "metadata": {},
   "outputs": [
    {
     "data": {
      "text/html": [
       "<div>\n",
       "<style scoped>\n",
       "    .dataframe tbody tr th:only-of-type {\n",
       "        vertical-align: middle;\n",
       "    }\n",
       "\n",
       "    .dataframe tbody tr th {\n",
       "        vertical-align: top;\n",
       "    }\n",
       "\n",
       "    .dataframe thead th {\n",
       "        text-align: right;\n",
       "    }\n",
       "</style>\n",
       "<table border=\"1\" class=\"dataframe\">\n",
       "  <thead>\n",
       "    <tr style=\"text-align: right;\">\n",
       "      <th></th>\n",
       "      <th>combined_words</th>\n",
       "      <th>skill_tech</th>\n",
       "      <th>prediction</th>\n",
       "    </tr>\n",
       "  </thead>\n",
       "  <tbody>\n",
       "    <tr>\n",
       "      <th>636</th>\n",
       "      <td>data analysis problem</td>\n",
       "      <td>0</td>\n",
       "      <td>1.0</td>\n",
       "    </tr>\n",
       "    <tr>\n",
       "      <th>243</th>\n",
       "      <td>value ideas</td>\n",
       "      <td>0</td>\n",
       "      <td>0.0</td>\n",
       "    </tr>\n",
       "    <tr>\n",
       "      <th>1013</th>\n",
       "      <td>cross sell engines</td>\n",
       "      <td>1</td>\n",
       "      <td>1.0</td>\n",
       "    </tr>\n",
       "    <tr>\n",
       "      <th>1113</th>\n",
       "      <td>advice collaborates</td>\n",
       "      <td>0</td>\n",
       "      <td>1.0</td>\n",
       "    </tr>\n",
       "    <tr>\n",
       "      <th>58</th>\n",
       "      <td>analysis libraries</td>\n",
       "      <td>1</td>\n",
       "      <td>1.0</td>\n",
       "    </tr>\n",
       "  </tbody>\n",
       "</table>\n",
       "</div>"
      ],
      "text/plain": [
       "             combined_words  skill_tech  prediction\n",
       "636   data analysis problem           0         1.0\n",
       "243             value ideas           0         0.0\n",
       "1013     cross sell engines           1         1.0\n",
       "1113    advice collaborates           0         1.0\n",
       "58       analysis libraries           1         1.0"
      ]
     },
     "execution_count": 187,
     "metadata": {},
     "output_type": "execute_result"
    }
   ],
   "source": [
    "df_tech.head(5)"
   ]
  },
  {
   "cell_type": "code",
   "execution_count": 188,
   "metadata": {},
   "outputs": [
    {
     "data": {
      "text/plain": [
       "array([1, 0, 1, 1, 1, 0, 0, 0, 1, 1, 0, 0, 1, 1, 1, 0, 0, 0, 0, 1, 1, 0,\n",
       "       0, 0, 0, 0, 0, 0, 1, 1, 1, 1, 1, 0, 0, 1, 1, 1, 0, 0, 1, 1, 0, 1,\n",
       "       1, 1, 1, 1, 0, 1, 0, 1, 0, 1, 1, 0, 0, 1, 0, 0, 0, 1, 1, 0, 0, 0,\n",
       "       1, 1, 0, 0, 1, 1, 0, 0, 1, 1, 1, 1, 0, 0, 1, 1, 0, 1, 1, 1, 1, 1,\n",
       "       0, 1, 1, 0, 1, 1, 1, 1, 1, 0, 1, 0, 1, 0, 0, 1, 1, 1, 0, 0, 0, 0,\n",
       "       1, 0, 1, 1, 1, 0, 1, 0, 0, 0])"
      ]
     },
     "execution_count": 188,
     "metadata": {},
     "output_type": "execute_result"
    }
   ],
   "source": [
    "actual_values = df_tech.skill_tech.values\n",
    "predicted_values = df_tech.prediction.values.astype(int)\n",
    "\n",
    "predicted_values"
   ]
  },
  {
   "cell_type": "code",
   "execution_count": 189,
   "metadata": {},
   "outputs": [
    {
     "name": "stdout",
     "output_type": "stream",
     "text": [
      "[[26 31]\n",
      " [29 34]]\n"
     ]
    }
   ],
   "source": [
    "confusion = confusion_matrix(actual_values, predicted_values)\n",
    "print(confusion)"
   ]
  },
  {
   "cell_type": "markdown",
   "metadata": {},
   "source": [
    "## Second version of model: 80 vs 20 split"
   ]
  },
  {
   "cell_type": "code",
   "execution_count": null,
   "metadata": {},
   "outputs": [],
   "source": [
    "X_train_tech, X_test_tech, y_train_tech, y_test_tech = train_test_split(df_chunk_tech[\"combined_words\"], df_chunk_tech[\"Technical\"], test_size=0.2, random_state=42)\n",
    "X_train_tech.shape\n",
    "\n",
    "vocab_size = 2000\n",
    "encoded_docs_train_tech = [one_hot(d, vocab_size) for d in X_train_tech]\n",
    "\n",
    "# pad documents to a max length of 4 words\n",
    "max_length = 5\n",
    "padded_docs_train_tech = pad_sequences(encoded_docs_train_tech, maxlen=max_length, padding='post')\n",
    "print(padded_docs_train_tech)\n",
    "\n",
    "encoded_docs_test_tech = [one_hot(d, vocab_size) for d in X_test_tech]\n",
    "\n",
    "padded_docs_test_tech = pad_sequences(encoded_docs_test_tech, maxlen=max_length, padding='post')\n",
    "#print(padded_docs_test)\n",
    "\n",
    "# define the model\n",
    "model = Sequential()\n",
    "model.add(Embedding(vocab_size, 5, input_length=max_length))\n",
    "model.add(Flatten())\n",
    "model.add(Dense(1, activation='sigmoid'))\n",
    "\n",
    "# compile the model\n",
    "model.compile(optimizer='adam', loss='binary_crossentropy', metrics=['accuracy'])\n",
    "# summarize the model\n",
    "print(model.summary())\n",
    "\n",
    "# fit the model\n",
    "model.fit(padded_docs_train_tech, y_train_tech, epochs=20, verbose=0)\n",
    "\n",
    "model_tech_v2 = model.fit(padded_docs_train_tech, y_train_tech, epochs=25, \n",
    "                          validation_data = (padded_docs_test_tech, y_test_tech), verbose=2)\n",
    "\n",
    "#model.save('CNN_test_may18_12pct.model')\n",
    "\n",
    "prediction_tech_v2 = model.predict(padded_docs_test_tech)\n",
    "\n",
    "df_tech_v2= pd.DataFrame(X_test_tech)\n",
    "df_tech_v2[\"skill_tech\"] = y_test_tech\n",
    "df_tech_v2[\"prediction\"] = prediction_tech_v2.round(0)\n",
    "df_tech_v2.shape\n",
    "\n",
    "actual_values_v2 = df_tech_v2.skill_tech.values\n",
    "predicted_values_v2 = df_tech_v2.prediction.values.astype(int)\n",
    "\n",
    "confusion_v2 = confusion_matrix(actual_values_v2, predicted_values_v2)\n",
    "print(confusion_v2)"
   ]
  },
  {
   "cell_type": "markdown",
   "metadata": {},
   "source": [
    "# Embeddings Layer parameter changes (Real Python website test)"
   ]
  },
  {
   "cell_type": "code",
   "execution_count": 193,
   "metadata": {},
   "outputs": [
    {
     "name": "stdout",
     "output_type": "stream",
     "text": [
      "Model: \"sequential_10\"\n",
      "_________________________________________________________________\n",
      "Layer (type)                 Output Shape              Param #   \n",
      "=================================================================\n",
      "embedding_10 (Embedding)     (None, 5, 50)             100000    \n",
      "_________________________________________________________________\n",
      "flatten_5 (Flatten)          (None, 250)               0         \n",
      "_________________________________________________________________\n",
      "dense_14 (Dense)             (None, 10)                2510      \n",
      "_________________________________________________________________\n",
      "dense_15 (Dense)             (None, 1)                 11        \n",
      "=================================================================\n",
      "Total params: 102,521\n",
      "Trainable params: 102,521\n",
      "Non-trainable params: 0\n",
      "_________________________________________________________________\n"
     ]
    }
   ],
   "source": [
    "embedding_dim = 50\n",
    "maxlen = 5\n",
    "\n",
    "\n",
    "embeddings_model_v1 = Sequential()\n",
    "embeddings_model_v1.add(layers.Embedding(input_dim=vocab_size, \n",
    "                           output_dim=embedding_dim, \n",
    "                           input_length=maxlen))\n",
    "embeddings_model_v1.add(layers.Flatten())\n",
    "embeddings_model_v1.add(layers.Dense(10, activation='relu'))\n",
    "embeddings_model_v1.add(layers.Dense(1, activation='sigmoid'))\n",
    "embeddings_model_v1.compile(optimizer='adam',\n",
    "              loss='binary_crossentropy',\n",
    "              metrics=['accuracy'])\n",
    "embeddings_model_v1.summary()"
   ]
  },
  {
   "cell_type": "code",
   "execution_count": 194,
   "metadata": {},
   "outputs": [
    {
     "name": "stderr",
     "output_type": "stream",
     "text": [
      "/Users/pavel/anaconda3/lib/python3.7/site-packages/tensorflow_core/python/framework/indexed_slices.py:433: UserWarning:\n",
      "\n",
      "Converting sparse IndexedSlices to a dense Tensor of unknown shape. This may consume a large amount of memory.\n",
      "\n",
      "/Users/pavel/anaconda3/lib/python3.7/site-packages/tensorflow_core/python/framework/indexed_slices.py:433: UserWarning:\n",
      "\n",
      "Converting sparse IndexedSlices to a dense Tensor of unknown shape. This may consume a large amount of memory.\n",
      "\n"
     ]
    }
   ],
   "source": [
    "history = embeddings_model_v1.fit(padded_docs_train_tech, y_train_tech,\n",
    "                    epochs=20,\n",
    "                    verbose=False,\n",
    "                    validation_data=(padded_docs_test_tech, y_test_tech),\n",
    "                    batch_size=10)"
   ]
  },
  {
   "cell_type": "code",
   "execution_count": 195,
   "metadata": {},
   "outputs": [
    {
     "name": "stdout",
     "output_type": "stream",
     "text": [
      "train_teching Accuracy: 0.9944\n",
      "Testing Accuracy:  0.5167\n"
     ]
    },
    {
     "data": {
      "image/png": "[encoded data removed]",
      "text/plain": [
       "<Figure size 864x360 with 2 Axes>"
      ]
     },
     "metadata": {},
     "output_type": "display_data"
    }
   ],
   "source": [
    "loss, accuracy = embeddings_model_v1.evaluate(padded_docs_train_tech, y_train_tech, verbose=False)\n",
    "print(\"train_teching Accuracy: {:.4f}\".format(accuracy))\n",
    "loss, accuracy = embeddings_model_v1.evaluate(padded_docs_test_tech, y_test_tech, verbose=False)\n",
    "print(\"Testing Accuracy:  {:.4f}\".format(accuracy))\n",
    "plot_history(history)"
   ]
  },
  {
   "cell_type": "markdown",
   "metadata": {},
   "source": [
    "# Real Python website test version 2 model"
   ]
  },
  {
   "cell_type": "code",
   "execution_count": 196,
   "metadata": {},
   "outputs": [
    {
     "name": "stdout",
     "output_type": "stream",
     "text": [
      "Model: \"sequential_11\"\n",
      "_________________________________________________________________\n",
      "Layer (type)                 Output Shape              Param #   \n",
      "=================================================================\n",
      "embedding_11 (Embedding)     (None, 5, 50)             100000    \n",
      "_________________________________________________________________\n",
      "global_max_pooling1d_3 (Glob (None, 50)                0         \n",
      "_________________________________________________________________\n",
      "dense_16 (Dense)             (None, 10)                510       \n",
      "_________________________________________________________________\n",
      "dense_17 (Dense)             (None, 1)                 11        \n",
      "=================================================================\n",
      "Total params: 100,521\n",
      "Trainable params: 100,521\n",
      "Non-trainable params: 0\n",
      "_________________________________________________________________\n"
     ]
    }
   ],
   "source": [
    "embeddings_model_v2 = Sequential()\n",
    "embeddings_model_v2.add(layers.Embedding(input_dim=vocab_size, \n",
    "                           output_dim=embedding_dim, \n",
    "                           input_length=maxlen))\n",
    "embeddings_model_v2.add(layers.GlobalMaxPool1D())\n",
    "embeddings_model_v2.add(layers.Dense(10, activation='relu'))\n",
    "embeddings_model_v2.add(layers.Dense(1, activation='sigmoid'))\n",
    "embeddings_model_v2.compile(optimizer='adam',\n",
    "              loss='binary_crossentropy',\n",
    "              metrics=['accuracy'])\n",
    "embeddings_model_v2.summary()"
   ]
  },
  {
   "cell_type": "code",
   "execution_count": 197,
   "metadata": {},
   "outputs": [
    {
     "name": "stderr",
     "output_type": "stream",
     "text": [
      "/Users/pavel/anaconda3/lib/python3.7/site-packages/tensorflow_core/python/framework/indexed_slices.py:433: UserWarning:\n",
      "\n",
      "Converting sparse IndexedSlices to a dense Tensor of unknown shape. This may consume a large amount of memory.\n",
      "\n",
      "/Users/pavel/anaconda3/lib/python3.7/site-packages/tensorflow_core/python/framework/indexed_slices.py:433: UserWarning:\n",
      "\n",
      "Converting sparse IndexedSlices to a dense Tensor of unknown shape. This may consume a large amount of memory.\n",
      "\n"
     ]
    }
   ],
   "source": [
    "history_v2 = embeddings_model_v2.fit(padded_docs_train_tech, y_train_tech,\n",
    "                    epochs=20,\n",
    "                    verbose=False,\n",
    "                    validation_data=(padded_docs_test_tech, y_test_tech),\n",
    "                    batch_size=10)"
   ]
  },
  {
   "cell_type": "code",
   "execution_count": 198,
   "metadata": {},
   "outputs": [
    {
     "name": "stdout",
     "output_type": "stream",
     "text": [
      "train_teching Accuracy: 0.9944\n",
      "Testing Accuracy:  0.5333\n"
     ]
    },
    {
     "data": {
      "image/png": "[encoded data removed]",
      "text/plain": [
       "<Figure size 864x360 with 2 Axes>"
      ]
     },
     "metadata": {},
     "output_type": "display_data"
    }
   ],
   "source": [
    "loss, accuracy = embeddings_model_v2.evaluate(padded_docs_train_tech, y_train_tech, verbose=False)\n",
    "print(\"train_teching Accuracy: {:.4f}\".format(accuracy))\n",
    "loss, accuracy = embeddings_model_v2.evaluate(padded_docs_test_tech, y_test_tech, verbose=False)\n",
    "print(\"Testing Accuracy:  {:.4f}\".format(accuracy))\n",
    "plot_history(history_v2)"
   ]
  },
  {
   "cell_type": "code",
   "execution_count": 199,
   "metadata": {},
   "outputs": [
    {
     "name": "stdout",
     "output_type": "stream",
     "text": [
      "[[30 27]\n",
      " [29 34]]\n"
     ]
    }
   ],
   "source": [
    "prediction_tech_v2 = embeddings_model_v2.predict(padded_docs_test_tech)\n",
    "\n",
    "df_tech_v2= pd.DataFrame(X_test_tech)\n",
    "df_tech_v2[\"skill_tech\"] = y_test_tech\n",
    "df_tech_v2[\"prediction\"] = prediction_tech_v2.round(0)\n",
    "\n",
    "actual_values_v2 = df_tech_v2.skill_tech.values\n",
    "predicted_values_v2 = df_tech_v2.prediction.values.astype(int)\n",
    "\n",
    "confusion_v2 = confusion_matrix(actual_values_v2, predicted_values_v2)\n",
    "print(confusion_v2)"
   ]
  },
  {
   "cell_type": "markdown",
   "metadata": {},
   "source": [
    "## Real python test v3"
   ]
  },
  {
   "cell_type": "code",
   "execution_count": 223,
   "metadata": {},
   "outputs": [
    {
     "name": "stdout",
     "output_type": "stream",
     "text": [
      "Model: \"sequential_17\"\n",
      "_________________________________________________________________\n",
      "Layer (type)                 Output Shape              Param #   \n",
      "=================================================================\n",
      "embedding_17 (Embedding)     (None, 5, 5)              10000     \n",
      "_________________________________________________________________\n",
      "conv1d_6 (Conv1D)            (None, 1, 128)            3328      \n",
      "_________________________________________________________________\n",
      "global_max_pooling1d_8 (Glob (None, 128)               0         \n",
      "_________________________________________________________________\n",
      "dense_27 (Dense)             (None, 10)                1290      \n",
      "_________________________________________________________________\n",
      "dense_28 (Dense)             (None, 1)                 11        \n",
      "=================================================================\n",
      "Total params: 14,629\n",
      "Trainable params: 14,629\n",
      "Non-trainable params: 0\n",
      "_________________________________________________________________\n"
     ]
    }
   ],
   "source": [
    "embedding_dim = 5\n",
    "\n",
    "embeddings_model_v3 = Sequential()\n",
    "embeddings_model_v3.add(layers.Embedding(vocab_size, embedding_dim, input_length=maxlen))\n",
    "embeddings_model_v3.add(layers.Conv1D(128, 5, activation='relu'))\n",
    "embeddings_model_v3.add(layers.GlobalMaxPooling1D())\n",
    "embeddings_model_v3.add(layers.Dense(10, activation='relu'))\n",
    "embeddings_model_v3.add(layers.Dense(1, activation='sigmoid'))\n",
    "embeddings_model_v3.compile(optimizer='adam',\n",
    "              loss='binary_crossentropy',\n",
    "              metrics=['accuracy'])\n",
    "embeddings_model_v3.summary()"
   ]
  },
  {
   "cell_type": "code",
   "execution_count": 224,
   "metadata": {},
   "outputs": [
    {
     "name": "stderr",
     "output_type": "stream",
     "text": [
      "/Users/pavel/anaconda3/lib/python3.7/site-packages/tensorflow_core/python/framework/indexed_slices.py:433: UserWarning:\n",
      "\n",
      "Converting sparse IndexedSlices to a dense Tensor of unknown shape. This may consume a large amount of memory.\n",
      "\n",
      "/Users/pavel/anaconda3/lib/python3.7/site-packages/tensorflow_core/python/framework/indexed_slices.py:433: UserWarning:\n",
      "\n",
      "Converting sparse IndexedSlices to a dense Tensor of unknown shape. This may consume a large amount of memory.\n",
      "\n"
     ]
    }
   ],
   "source": [
    "history_v3 = embeddings_model_v3.fit(padded_docs_train_tech, y_train_tech,\n",
    "                    epochs=20,\n",
    "                    verbose=False,\n",
    "                    validation_data=(padded_docs_test_tech, y_test_tech),\n",
    "                    batch_size=10)"
   ]
  },
  {
   "cell_type": "code",
   "execution_count": 225,
   "metadata": {},
   "outputs": [
    {
     "name": "stdout",
     "output_type": "stream",
     "text": [
      "train_teching Accuracy: 0.9935\n",
      "Testing Accuracy:  0.5083\n"
     ]
    },
    {
     "data": {
      "image/png": "[encoded data removed]",
      "text/plain": [
       "<Figure size 864x360 with 2 Axes>"
      ]
     },
     "metadata": {},
     "output_type": "display_data"
    }
   ],
   "source": [
    "loss, accuracy = embeddings_model_v3.evaluate(padded_docs_train_tech, y_train_tech, verbose=False)\n",
    "print(\"train_teching Accuracy: {:.4f}\".format(accuracy))\n",
    "loss, accuracy = embeddings_model_v3.evaluate(padded_docs_test_tech, y_test_tech, verbose=False)\n",
    "print(\"Testing Accuracy:  {:.4f}\".format(accuracy))\n",
    "plot_history(history_v3)"
   ]
  },
  {
   "cell_type": "code",
   "execution_count": 203,
   "metadata": {},
   "outputs": [
    {
     "name": "stdout",
     "output_type": "stream",
     "text": [
      "[[30 27]\n",
      " [30 33]]\n"
     ]
    }
   ],
   "source": [
    "prediction_tech_v3 = embeddings_model_v3.predict(padded_docs_test_tech)\n",
    "\n",
    "df_tech_v3= pd.DataFrame(X_test_tech)\n",
    "df_tech_v3[\"skill_tech\"] = y_test_tech\n",
    "df_tech_v3[\"prediction\"] = prediction_tech_v3.round(0)\n",
    "\n",
    "actual_values_v3 = df_tech_v3.skill_tech.values\n",
    "predicted_values_v3 = df_tech_v3.prediction.values.astype(int)\n",
    "\n",
    "confusion_v3 = confusion_matrix(actual_values_v3, predicted_values_v3)\n",
    "print(confusion_v3)"
   ]
  },
  {
   "cell_type": "markdown",
   "metadata": {},
   "source": [
    "## LSTM Test"
   ]
  },
  {
   "cell_type": "code",
   "execution_count": 89,
   "metadata": {},
   "outputs": [
    {
     "data": {
      "text/html": [
       "        <script type=\"text/javascript\">\n",
       "        window.PlotlyConfig = {MathJaxConfig: 'local'};\n",
       "        if (window.MathJax) {MathJax.Hub.Config({SVG: {font: \"STIX-Web\"}});}\n",
       "        if (typeof require !== 'undefined') {\n",
       "        require.undef(\"plotly\");\n",
       "        requirejs.config({\n",
       "            paths: {\n",
       "                'plotly': ['https://cdn.plot.ly/plotly-latest.min']\n",
       "            }\n",
       "        });\n",
       "        require(['plotly'], function(Plotly) {\n",
       "            window._Plotly = Plotly;\n",
       "        });\n",
       "        }\n",
       "        </script>\n",
       "        "
      ]
     },
     "metadata": {},
     "output_type": "display_data"
    }
   ],
   "source": [
    "STOPWORDS = set(stopwords.words('english'))\n",
    "\n",
    "InteractiveShell.ast_node_interactivity = 'all'\n",
    "\n",
    "cufflinks.go_offline()\n",
    "cufflinks.set_config_file(world_readable=True, theme='pearl')"
   ]
  },
  {
   "cell_type": "code",
   "execution_count": 90,
   "metadata": {},
   "outputs": [],
   "source": [
    "# The maximum number of words to be used. (most frequent)\n",
    "MAX_NB_WORDS = 2000\n",
    "\n",
    "MAX_SEQUENCE_LENGTH = 5\n",
    "\n",
    "# This is the size of the vector space in which words will be embedded. \n",
    "# It defines the size of the output vectors from this layer for each word. \n",
    "EMBEDDING_DIM = 5\n",
    "\n",
    "# This is the length of input sequences. \n",
    "#For example, if all of your input documents are comprised of 1000 words, this would be 1000.\n",
    "INPUT_LENGTH = 5\n",
    "\n",
    "max_len = 1"
   ]
  },
  {
   "cell_type": "code",
   "execution_count": 204,
   "metadata": {},
   "outputs": [
    {
     "name": "stderr",
     "output_type": "stream",
     "text": [
      "/Users/pavel/anaconda3/lib/python3.7/site-packages/ipykernel_launcher.py:2: UserWarning:\n",
      "\n",
      "The `dropout` argument is no longer support in `Embedding`. You can apply a `keras.layers.SpatialDropout1D` layer right after the `Embedding` layer to get the same behavior.\n",
      "\n"
     ]
    },
    {
     "name": "stdout",
     "output_type": "stream",
     "text": [
      "Model: \"sequential_13\"\n",
      "_________________________________________________________________\n",
      "Layer (type)                 Output Shape              Param #   \n",
      "=================================================================\n",
      "embedding_13 (Embedding)     (None, 5, 5)              1250000   \n",
      "_________________________________________________________________\n",
      "spatial_dropout1d_4 (Spatial (None, 5, 5)              0         \n",
      "_________________________________________________________________\n",
      "lstm_4 (LSTM)                (None, 100)               42400     \n",
      "_________________________________________________________________\n",
      "dense_20 (Dense)             (None, 1)                 101       \n",
      "_________________________________________________________________\n",
      "activation_4 (Activation)    (None, 1)                 0         \n",
      "=================================================================\n",
      "Total params: 1,292,501\n",
      "Trainable params: 1,292,501\n",
      "Non-trainable params: 0\n",
      "_________________________________________________________________\n"
     ]
    }
   ],
   "source": [
    "lstm_model = Sequential()\n",
    "lstm_model.add(Embedding(MAX_NB_WORDS, EMBEDDING_DIM, input_length=5, dropout=0.2))\n",
    "lstm_model.add(SpatialDropout1D(0.2))\n",
    "\n",
    "lstm_model.add(LSTM(100, recurrent_dropout=0.2, dropout=0.2))\n",
    "lstm_model.add(Dense(max_len))\n",
    "lstm_model.add(Activation('relu'))\n",
    "\n",
    "lstm_model.compile(loss='binary_crossentropy',\n",
    "                  optimizer='rmsprop',\n",
    "                  metrics=['accuracy'])\n",
    "\n",
    "lstm_model.summary()"
   ]
  },
  {
   "cell_type": "code",
   "execution_count": 205,
   "metadata": {},
   "outputs": [
    {
     "name": "stderr",
     "output_type": "stream",
     "text": [
      "/Users/pavel/anaconda3/lib/python3.7/site-packages/tensorflow_core/python/framework/indexed_slices.py:433: UserWarning:\n",
      "\n",
      "Converting sparse IndexedSlices to a dense Tensor of unknown shape. This may consume a large amount of memory.\n",
      "\n",
      "/Users/pavel/anaconda3/lib/python3.7/site-packages/tensorflow_core/python/framework/indexed_slices.py:433: UserWarning:\n",
      "\n",
      "Converting sparse IndexedSlices to a dense Tensor of unknown shape. This may consume a large amount of memory.\n",
      "\n"
     ]
    },
    {
     "name": "stdout",
     "output_type": "stream",
     "text": [
      "Train on 860 samples, validate on 216 samples\n",
      "Epoch 1/10\n",
      "860/860 [==============================] - 3s 4ms/step - loss: 7.7663 - accuracy: 0.4965 - val_loss: 7.2840 - val_accuracy: 0.5278\n",
      "Epoch 2/10\n",
      "860/860 [==============================] - 2s 3ms/step - loss: 7.7663 - accuracy: 0.4965 - val_loss: 7.2840 - val_accuracy: 0.5278\n",
      "Epoch 3/10\n",
      "860/860 [==============================] - 2s 3ms/step - loss: 7.7663 - accuracy: 0.4965 - val_loss: 7.2840 - val_accuracy: 0.5278\n",
      "Epoch 4/10\n",
      "860/860 [==============================] - 2s 3ms/step - loss: 7.7663 - accuracy: 0.4965 - val_loss: 7.2840 - val_accuracy: 0.5278\n"
     ]
    }
   ],
   "source": [
    "history = lstm_model.fit(padded_docs_train_tech, y_train_tech, epochs=10, batch_size=5 ,validation_split=0.2,callbacks=[EarlyStopping(monitor='val_loss', patience=3, min_delta=0.0001)])"
   ]
  },
  {
   "cell_type": "code",
   "execution_count": 206,
   "metadata": {},
   "outputs": [
    {
     "name": "stdout",
     "output_type": "stream",
     "text": [
      "[[57  0]\n",
      " [63  0]]\n"
     ]
    }
   ],
   "source": [
    "lstm_predict_tech = lstm_model.predict(padded_docs_test_tech)\n",
    "\n",
    "df_lstm_tech= pd.DataFrame(X_test_tech)\n",
    "df_lstm_tech[\"skill_tech\"] = y_test_tech\n",
    "df_lstm_tech[\"prediction\"] = lstm_predict_tech.round(0)\n",
    "\n",
    "lstm_actual = df_lstm_tech.skill_tech.values\n",
    "lstm_predict_tech = df_lstm_tech.prediction.values.astype(int)\n",
    "\n",
    "lstm_confusion = confusion_matrix(lstm_actual, lstm_predict_tech)\n",
    "print(lstm_confusion)"
   ]
  },
  {
   "cell_type": "code",
   "execution_count": 140,
   "metadata": {},
   "outputs": [],
   "source": [
    "df_lstm_tech[\"prediction_rounded\"] = lstm_predict_tech.round(2)"
   ]
  },
  {
   "cell_type": "code",
   "execution_count": 141,
   "metadata": {},
   "outputs": [
    {
     "data": {
      "text/html": [
       "<div>\n",
       "<style scoped>\n",
       "    .dataframe tbody tr th:only-of-type {\n",
       "        vertical-align: middle;\n",
       "    }\n",
       "\n",
       "    .dataframe tbody tr th {\n",
       "        vertical-align: top;\n",
       "    }\n",
       "\n",
       "    .dataframe thead th {\n",
       "        text-align: right;\n",
       "    }\n",
       "</style>\n",
       "<table border=\"1\" class=\"dataframe\">\n",
       "  <thead>\n",
       "    <tr style=\"text-align: right;\">\n",
       "      <th></th>\n",
       "      <th>combined_words</th>\n",
       "      <th>skill_tech</th>\n",
       "      <th>prediction</th>\n",
       "      <th>prediction_rounded</th>\n",
       "    </tr>\n",
       "  </thead>\n",
       "  <tbody>\n",
       "    <tr>\n",
       "      <th>636</th>\n",
       "      <td>python java scala</td>\n",
       "      <td>1</td>\n",
       "      <td>0.0</td>\n",
       "      <td>0</td>\n",
       "    </tr>\n",
       "    <tr>\n",
       "      <th>243</th>\n",
       "      <td>culture thrives</td>\n",
       "      <td>0</td>\n",
       "      <td>0.0</td>\n",
       "      <td>0</td>\n",
       "    </tr>\n",
       "    <tr>\n",
       "      <th>1013</th>\n",
       "      <td>xgboost tensorflow</td>\n",
       "      <td>1</td>\n",
       "      <td>0.0</td>\n",
       "      <td>0</td>\n",
       "    </tr>\n",
       "    <tr>\n",
       "      <th>1113</th>\n",
       "      <td>business decisions design</td>\n",
       "      <td>1</td>\n",
       "      <td>0.0</td>\n",
       "      <td>0</td>\n",
       "    </tr>\n",
       "    <tr>\n",
       "      <th>58</th>\n",
       "      <td>level sas</td>\n",
       "      <td>1</td>\n",
       "      <td>0.0</td>\n",
       "      <td>0</td>\n",
       "    </tr>\n",
       "  </tbody>\n",
       "</table>\n",
       "</div>"
      ],
      "text/plain": [
       "                 combined_words  skill_tech  prediction  prediction_rounded\n",
       "636           python java scala           1         0.0                   0\n",
       "243             culture thrives           0         0.0                   0\n",
       "1013         xgboost tensorflow           1         0.0                   0\n",
       "1113  business decisions design           1         0.0                   0\n",
       "58                    level sas           1         0.0                   0"
      ]
     },
     "execution_count": 141,
     "metadata": {},
     "output_type": "execute_result"
    }
   ],
   "source": [
    "df_lstm_tech.head(5)"
   ]
  },
  {
   "cell_type": "code",
   "execution_count": 142,
   "metadata": {},
   "outputs": [
    {
     "data": {
      "text/html": [
       "<div>\n",
       "<style scoped>\n",
       "    .dataframe tbody tr th:only-of-type {\n",
       "        vertical-align: middle;\n",
       "    }\n",
       "\n",
       "    .dataframe tbody tr th {\n",
       "        vertical-align: top;\n",
       "    }\n",
       "\n",
       "    .dataframe thead th {\n",
       "        text-align: right;\n",
       "    }\n",
       "</style>\n",
       "<table border=\"1\" class=\"dataframe\">\n",
       "  <thead>\n",
       "    <tr style=\"text-align: right;\">\n",
       "      <th></th>\n",
       "      <th>combined_words</th>\n",
       "      <th>skill_tech</th>\n",
       "      <th>prediction</th>\n",
       "      <th>prediction_rounded</th>\n",
       "      <th>prediction_adj</th>\n",
       "    </tr>\n",
       "  </thead>\n",
       "  <tbody>\n",
       "    <tr>\n",
       "      <th>636</th>\n",
       "      <td>python java scala</td>\n",
       "      <td>1</td>\n",
       "      <td>0.0</td>\n",
       "      <td>0</td>\n",
       "      <td>0</td>\n",
       "    </tr>\n",
       "  </tbody>\n",
       "</table>\n",
       "</div>"
      ],
      "text/plain": [
       "        combined_words  skill_tech  prediction  prediction_rounded  \\\n",
       "636  python java scala           1         0.0                   0   \n",
       "\n",
       "     prediction_adj  \n",
       "636               0  "
      ]
     },
     "execution_count": 142,
     "metadata": {},
     "output_type": "execute_result"
    }
   ],
   "source": [
    "df_lstm_tech[\"prediction_adj\"] = df_lstm_tech[\"prediction_rounded\"].apply(lambda x: 0 if x <= .4 else 1 )\n",
    "df_lstm_tech.head(1)"
   ]
  },
  {
   "cell_type": "code",
   "execution_count": 207,
   "metadata": {},
   "outputs": [
    {
     "name": "stdout",
     "output_type": "stream",
     "text": [
      "score: 8.10\n",
      "acc: 0.47\n"
     ]
    }
   ],
   "source": [
    "score,acc = lstm_model.evaluate(padded_docs_test_tech, y_test_tech, verbose = 2, batch_size = 5)\n",
    "\n",
    "print(\"score: %.2f\" % (score))\n",
    "print(\"acc: %.2f\" % (acc))"
   ]
  },
  {
   "cell_type": "code",
   "execution_count": 144,
   "metadata": {},
   "outputs": [
    {
     "data": {
      "image/png": "[encoded data removed]",
      "text/plain": [
       "<Figure size 432x288 with 1 Axes>"
      ]
     },
     "metadata": {},
     "output_type": "display_data"
    }
   ],
   "source": [
    "plt.title('Loss')\n",
    "plt.plot(history.history['loss'], label='train')\n",
    "plt.plot(history.history['val_loss'], label='test')\n",
    "plt.legend()\n",
    "plt.show();"
   ]
  },
  {
   "cell_type": "code",
   "execution_count": 145,
   "metadata": {},
   "outputs": [
    {
     "data": {
      "image/png": "[encoded data removed]",
      "text/plain": [
       "<Figure size 432x288 with 1 Axes>"
      ]
     },
     "metadata": {},
     "output_type": "display_data"
    }
   ],
   "source": [
    "plt.title('Accuracy')\n",
    "plt.plot(history.history['accuracy'], label='train')\n",
    "plt.plot(history.history['val_accuracy'], label='test')\n",
    "plt.legend()\n",
    "plt.show();"
   ]
  },
  {
   "cell_type": "markdown",
   "metadata": {},
   "source": [
    "### Lenght of chunks "
   ]
  },
  {
   "cell_type": "code",
   "execution_count": 106,
   "metadata": {},
   "outputs": [
    {
     "data": {
      "text/html": [
       "<div>\n",
       "<style scoped>\n",
       "    .dataframe tbody tr th:only-of-type {\n",
       "        vertical-align: middle;\n",
       "    }\n",
       "\n",
       "    .dataframe tbody tr th {\n",
       "        vertical-align: top;\n",
       "    }\n",
       "\n",
       "    .dataframe thead th {\n",
       "        text-align: right;\n",
       "    }\n",
       "</style>\n",
       "<table border=\"1\" class=\"dataframe\">\n",
       "  <thead>\n",
       "    <tr style=\"text-align: right;\">\n",
       "      <th></th>\n",
       "      <th>combined_words</th>\n",
       "      <th>word_count</th>\n",
       "    </tr>\n",
       "  </thead>\n",
       "  <tbody>\n",
       "    <tr>\n",
       "      <th>0</th>\n",
       "      <td>learning models familiarity</td>\n",
       "      <td>3</td>\n",
       "    </tr>\n",
       "    <tr>\n",
       "      <th>1</th>\n",
       "      <td>knowhow</td>\n",
       "      <td>1</td>\n",
       "    </tr>\n",
       "    <tr>\n",
       "      <th>2</th>\n",
       "      <td>data processing technologies</td>\n",
       "      <td>3</td>\n",
       "    </tr>\n",
       "    <tr>\n",
       "      <th>3</th>\n",
       "      <td>health plan data</td>\n",
       "      <td>3</td>\n",
       "    </tr>\n",
       "    <tr>\n",
       "      <th>4</th>\n",
       "      <td>employment opportunity statement travelers</td>\n",
       "      <td>4</td>\n",
       "    </tr>\n",
       "  </tbody>\n",
       "</table>\n",
       "</div>"
      ],
      "text/plain": [
       "                               combined_words  word_count\n",
       "0                 learning models familiarity           3\n",
       "1                                     knowhow           1\n",
       "2                data processing technologies           3\n",
       "3                            health plan data           3\n",
       "4  employment opportunity statement travelers           4"
      ]
     },
     "execution_count": 106,
     "metadata": {},
     "output_type": "execute_result"
    }
   ],
   "source": [
    "test = pd.DataFrame(X_train_tech.reset_index(drop = True))\n",
    "test['word_count'] = test['combined_words'].apply(lambda x: len(word_tokenize(x)))\n",
    "test[:5]"
   ]
  },
  {
   "cell_type": "code",
   "execution_count": 107,
   "metadata": {},
   "outputs": [
    {
     "data": {
      "text/plain": [
       "2.0"
      ]
     },
     "execution_count": 107,
     "metadata": {},
     "output_type": "execute_result"
    }
   ],
   "source": [
    "test.word_count.median()"
   ]
  },
  {
   "cell_type": "code",
   "execution_count": 108,
   "metadata": {},
   "outputs": [
    {
     "data": {
      "text/plain": [
       "2.3680297397769516"
      ]
     },
     "execution_count": 108,
     "metadata": {},
     "output_type": "execute_result"
    }
   ],
   "source": [
    "test.word_count.mean()"
   ]
  },
  {
   "cell_type": "markdown",
   "metadata": {},
   "source": [
    "## Soft skills version: 20 vs 80 split\n"
   ]
  },
  {
   "cell_type": "code",
   "execution_count": null,
   "metadata": {},
   "outputs": [],
   "source": [
    "X_train_soft, X_test_soft, y_train_soft, y_test_soft = train_test_split(df_chunk[\"combined_words\"], df_chunk[\"Soft\"], test_size=0.2, random_state=42)\n",
    "X_train_soft.shape\n",
    "\n",
    "vocab_size = 250000\n",
    "encoded_docs_train_soft = [one_hot(d, vocab_size) for d in X_train_soft]\n",
    "\n",
    "# pad documents to a max length of 4 words\n",
    "max_length = 5\n",
    "padded_docs_train_soft = pad_sequences(encoded_docs_train_soft, maxlen=max_length, padding='post')\n",
    "print(padded_docs_train_soft)\n",
    "\n",
    "encoded_docs_test_soft = [one_hot(d, vocab_size) for d in X_test_soft]\n",
    "\n",
    "padded_docs_test_soft = pad_sequences(encoded_docs_test_soft, maxlen=max_length, padding='post')\n",
    "#print(padded_docs_test)\n",
    "\n",
    "# define the model\n",
    "model = Sequential()\n",
    "model.add(Embedding(vocab_size, 10, input_length=max_length))\n",
    "model.add(Flatten())\n",
    "model.add(Dense(1, activation='sigmoid'))\n",
    "\n",
    "# compile the model\n",
    "model.compile(optimizer='adam', loss='binary_crossentropy', metrics=['accuracy'])\n",
    "# summarize the model\n",
    "print(model.summary())\n",
    "\n",
    "# fit the model\n",
    "model.fit(padded_docs_train_soft, y_train_soft, epochs=20, verbose=0)\n",
    "\n",
    "model_soft = model.fit(padded_docs_train_soft, y_train_soft, epochs=25, validation_data = (padded_docs_test_soft, y_test_soft), verbose=2)\n",
    "\n",
    "#model.save('CNN_soft_may18_10pct.model')\n",
    "\n",
    "prediction_soft = model.predict(padded_docs_test_soft)\n",
    "\n",
    "df_soft= pd.DataFrame(X_test_soft)\n",
    "df_soft[\"skill_soft\"] = y_test_soft\n",
    "df_soft[\"prediction\"] = prediction_soft.round(0)\n",
    "df_soft.shape\n",
    "\n",
    "actual_values = df_soft.skill_soft.values\n",
    "predicted_values = df_soft.prediction.values.astype(int)\n",
    "\n",
    "confusion = confusion_matrix(actual_values, predicted_values)\n",
    "print(confusion)"
   ]
  },
  {
   "cell_type": "markdown",
   "metadata": {},
   "source": [
    "# Test full dataset"
   ]
  },
  {
   "cell_type": "code",
   "execution_count": 146,
   "metadata": {},
   "outputs": [
    {
     "name": "stderr",
     "output_type": "stream",
     "text": [
      "/Users/pavel/anaconda3/lib/python3.7/site-packages/ipykernel_launcher.py:17: UserWarning:\n",
      "\n",
      "The `dropout` argument is no longer support in `Embedding`. You can apply a `keras.layers.SpatialDropout1D` layer right after the `Embedding` layer to get the same behavior.\n",
      "\n"
     ]
    },
    {
     "name": "stdout",
     "output_type": "stream",
     "text": [
      "Model: \"sequential_7\"\n",
      "_________________________________________________________________\n",
      "Layer (type)                 Output Shape              Param #   \n",
      "=================================================================\n",
      "embedding_7 (Embedding)      (None, 5, 5)              1250000   \n",
      "_________________________________________________________________\n",
      "spatial_dropout1d_3 (Spatial (None, 5, 5)              0         \n",
      "_________________________________________________________________\n",
      "lstm_3 (LSTM)                (None, 100)               42400     \n",
      "_________________________________________________________________\n",
      "dense_10 (Dense)             (None, 1)                 101       \n",
      "_________________________________________________________________\n",
      "activation_3 (Activation)    (None, 1)                 0         \n",
      "=================================================================\n",
      "Total params: 1,292,501\n",
      "Trainable params: 1,292,501\n",
      "Non-trainable params: 0\n",
      "_________________________________________________________________\n"
     ]
    }
   ],
   "source": [
    "# The maximum number of words to be used. (most frequent)\n",
    "MAX_NB_WORDS = 250000\n",
    "\n",
    "MAX_SEQUENCE_LENGTH = 5\n",
    "\n",
    "# This is the size of the vector space in which words will be embedded. \n",
    "# It defines the size of the output vectors from this layer for each word. \n",
    "EMBEDDING_DIM = 5\n",
    "\n",
    "# This is the length of input sequences. \n",
    "#For example, if all of your input documents are comprised of 1000 words, this would be 1000.\n",
    "INPUT_LENGTH = 5\n",
    "\n",
    "#max_len = 1\n",
    "\n",
    "lstm_model = Sequential()\n",
    "lstm_model.add(Embedding(MAX_NB_WORDS, EMBEDDING_DIM, input_length=5, dropout=0.2))\n",
    "lstm_model.add(SpatialDropout1D(0.2))\n",
    "\n",
    "lstm_model.add(LSTM(100, recurrent_dropout=0.2, dropout=0.2))\n",
    "lstm_model.add(Dense(max_len))\n",
    "lstm_model.add(Activation('relu'))\n",
    "\n",
    "lstm_model.compile(loss='binary_crossentropy',\n",
    "                  optimizer='rmsprop',\n",
    "                  metrics=['accuracy'])\n",
    "\n",
    "lstm_model.summary()"
   ]
  },
  {
   "cell_type": "code",
   "execution_count": 121,
   "metadata": {},
   "outputs": [],
   "source": [
    "vocab_size = 250000\n",
    "encoded_docs_train = [one_hot(d, vocab_size) for d in df_chunk_df_no_dups[\"combined_words\"]]"
   ]
  },
  {
   "cell_type": "code",
   "execution_count": 122,
   "metadata": {},
   "outputs": [
    {
     "name": "stdout",
     "output_type": "stream",
     "text": [
      "[[192866      0      0      0      0]\n",
      " [ 73967      0      0      0      0]\n",
      " [165343      0      0      0      0]\n",
      " ...\n",
      " [ 45381 149336 247078  40838      0]\n",
      " [227104  71587      0      0      0]\n",
      " [219345  24761 147270      0      0]]\n"
     ]
    }
   ],
   "source": [
    "# pad documents to a max length of 4 words\n",
    "max_length = 5\n",
    "padded_docs_train = pad_sequences(encoded_docs_train, maxlen=max_length, padding='post')\n",
    "print(padded_docs_train)"
   ]
  },
  {
   "cell_type": "code",
   "execution_count": 147,
   "metadata": {},
   "outputs": [
    {
     "data": {
      "text/plain": [
       "(35701, 1)"
      ]
     },
     "execution_count": 147,
     "metadata": {},
     "output_type": "execute_result"
    }
   ],
   "source": [
    "prediction_full = lstm_model.predict(padded_docs_train)\n",
    "prediction_full.shape"
   ]
  },
  {
   "cell_type": "code",
   "execution_count": 125,
   "metadata": {},
   "outputs": [
    {
     "data": {
      "text/html": [
       "<div>\n",
       "<style scoped>\n",
       "    .dataframe tbody tr th:only-of-type {\n",
       "        vertical-align: middle;\n",
       "    }\n",
       "\n",
       "    .dataframe tbody tr th {\n",
       "        vertical-align: top;\n",
       "    }\n",
       "\n",
       "    .dataframe thead th {\n",
       "        text-align: right;\n",
       "    }\n",
       "</style>\n",
       "<table border=\"1\" class=\"dataframe\">\n",
       "  <thead>\n",
       "    <tr style=\"text-align: right;\">\n",
       "      <th></th>\n",
       "      <th>word_1</th>\n",
       "      <th>word_2</th>\n",
       "      <th>word_3</th>\n",
       "      <th>word_4</th>\n",
       "      <th>word_5</th>\n",
       "      <th>combined_words</th>\n",
       "      <th>prediction</th>\n",
       "    </tr>\n",
       "  </thead>\n",
       "  <tbody>\n",
       "    <tr>\n",
       "      <th>0</th>\n",
       "      <td>research</td>\n",
       "      <td></td>\n",
       "      <td></td>\n",
       "      <td></td>\n",
       "      <td></td>\n",
       "      <td>research</td>\n",
       "      <td>0.01</td>\n",
       "    </tr>\n",
       "    <tr>\n",
       "      <th>1</th>\n",
       "      <td>analysis</td>\n",
       "      <td></td>\n",
       "      <td></td>\n",
       "      <td></td>\n",
       "      <td></td>\n",
       "      <td>analysis</td>\n",
       "      <td>0.01</td>\n",
       "    </tr>\n",
       "    <tr>\n",
       "      <th>2</th>\n",
       "      <td>patterns</td>\n",
       "      <td></td>\n",
       "      <td></td>\n",
       "      <td></td>\n",
       "      <td></td>\n",
       "      <td>patterns</td>\n",
       "      <td>0.01</td>\n",
       "    </tr>\n",
       "    <tr>\n",
       "      <th>3</th>\n",
       "      <td>data</td>\n",
       "      <td></td>\n",
       "      <td></td>\n",
       "      <td></td>\n",
       "      <td></td>\n",
       "      <td>data</td>\n",
       "      <td>0.01</td>\n",
       "    </tr>\n",
       "    <tr>\n",
       "      <th>4</th>\n",
       "      <td>methods</td>\n",
       "      <td></td>\n",
       "      <td></td>\n",
       "      <td></td>\n",
       "      <td></td>\n",
       "      <td>methods</td>\n",
       "      <td>0.01</td>\n",
       "    </tr>\n",
       "  </tbody>\n",
       "</table>\n",
       "</div>"
      ],
      "text/plain": [
       "     word_1 word_2 word_3 word_4 word_5 combined_words  prediction\n",
       "0  research                                   research        0.01\n",
       "1  analysis                                   analysis        0.01\n",
       "2  patterns                                   patterns        0.01\n",
       "3      data                                       data        0.01\n",
       "4   methods                                    methods        0.01"
      ]
     },
     "execution_count": 125,
     "metadata": {},
     "output_type": "execute_result"
    }
   ],
   "source": [
    "df_chunk_no_dups[\"prediction\"] = prediction_full.round(2)\n",
    "df_chunk_no_dups[:5]"
   ]
  },
  {
   "cell_type": "code",
   "execution_count": 127,
   "metadata": {},
   "outputs": [],
   "source": [
    "df_skill_predict = df_chunk_no_dups[df_chunk_no_dups[\"prediction\"] >= .8]\n",
    "df_noskill_predict = df_chunk_no_dups[df_chunk_no_dups[\"prediction\"] <= .2]"
   ]
  },
  {
   "cell_type": "code",
   "execution_count": 132,
   "metadata": {},
   "outputs": [
    {
     "data": {
      "text/html": [
       "<div>\n",
       "<style scoped>\n",
       "    .dataframe tbody tr th:only-of-type {\n",
       "        vertical-align: middle;\n",
       "    }\n",
       "\n",
       "    .dataframe tbody tr th {\n",
       "        vertical-align: top;\n",
       "    }\n",
       "\n",
       "    .dataframe thead th {\n",
       "        text-align: right;\n",
       "    }\n",
       "</style>\n",
       "<table border=\"1\" class=\"dataframe\">\n",
       "  <thead>\n",
       "    <tr style=\"text-align: right;\">\n",
       "      <th></th>\n",
       "      <th>word_1</th>\n",
       "      <th>word_2</th>\n",
       "      <th>word_3</th>\n",
       "      <th>word_4</th>\n",
       "      <th>word_5</th>\n",
       "      <th>combined_words</th>\n",
       "      <th>prediction</th>\n",
       "    </tr>\n",
       "  </thead>\n",
       "  <tbody>\n",
       "  </tbody>\n",
       "</table>\n",
       "</div>"
      ],
      "text/plain": [
       "Empty DataFrame\n",
       "Columns: [word_1, word_2, word_3, word_4, word_5, combined_words, prediction]\n",
       "Index: []"
      ]
     },
     "execution_count": 132,
     "metadata": {},
     "output_type": "execute_result"
    }
   ],
   "source": [
    "df_skill_predict[:10]"
   ]
  },
  {
   "cell_type": "code",
   "execution_count": 133,
   "metadata": {},
   "outputs": [
    {
     "data": {
      "text/html": [
       "<div>\n",
       "<style scoped>\n",
       "    .dataframe tbody tr th:only-of-type {\n",
       "        vertical-align: middle;\n",
       "    }\n",
       "\n",
       "    .dataframe tbody tr th {\n",
       "        vertical-align: top;\n",
       "    }\n",
       "\n",
       "    .dataframe thead th {\n",
       "        text-align: right;\n",
       "    }\n",
       "</style>\n",
       "<table border=\"1\" class=\"dataframe\">\n",
       "  <thead>\n",
       "    <tr style=\"text-align: right;\">\n",
       "      <th></th>\n",
       "      <th>combined_words</th>\n",
       "      <th>prediction</th>\n",
       "      <th>count</th>\n",
       "    </tr>\n",
       "  </thead>\n",
       "  <tbody>\n",
       "  </tbody>\n",
       "</table>\n",
       "</div>"
      ],
      "text/plain": [
       "Empty DataFrame\n",
       "Columns: [combined_words, prediction, count]\n",
       "Index: []"
      ]
     },
     "execution_count": 133,
     "metadata": {},
     "output_type": "execute_result"
    }
   ],
   "source": [
    "df_predict = pd.DataFrame(df_skill_predict.groupby([\"combined_words\", \"prediction\"]).count()[\"word_1\"].sort_values(ascending = False)).reset_index().rename(columns = {'word_1' : \"count\"})\n",
    "\n",
    "df_predict[:10]\n"
   ]
  },
  {
   "cell_type": "code",
   "execution_count": null,
   "metadata": {},
   "outputs": [],
   "source": []
  }
 ],
 "metadata": {
  "kernelspec": {
   "display_name": "Python 3",
   "language": "python",
   "name": "python3"
  },
  "language_info": {
   "codemirror_mode": {
    "name": "ipython",
    "version": 3
   },
   "file_extension": ".py",
   "mimetype": "text/x-python",
   "name": "python",
   "nbconvert_exporter": "python",
   "pygments_lexer": "ipython3",
   "version": "3.7.3"
  }
 },
 "nbformat": 4,
 "nbformat_minor": 2
}
